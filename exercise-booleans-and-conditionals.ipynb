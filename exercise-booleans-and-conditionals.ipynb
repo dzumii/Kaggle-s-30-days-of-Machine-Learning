{
 "cells": [
  {
   "cell_type": "markdown",
   "id": "e8fea352",
   "metadata": {
    "papermill": {
     "duration": 0.029857,
     "end_time": "2021-08-11T04:14:31.472075",
     "exception": false,
     "start_time": "2021-08-11T04:14:31.442218",
     "status": "completed"
    },
    "tags": []
   },
   "source": [
    "**This notebook is an exercise in the [Python](https://www.kaggle.com/learn/python) course.  You can reference the tutorial at [this link](https://www.kaggle.com/colinmorris/booleans-and-conditionals).**\n",
    "\n",
    "---\n"
   ]
  },
  {
   "cell_type": "markdown",
   "id": "c7e931db",
   "metadata": {
    "papermill": {
     "duration": 0.027362,
     "end_time": "2021-08-11T04:14:31.529468",
     "exception": false,
     "start_time": "2021-08-11T04:14:31.502106",
     "status": "completed"
    },
    "tags": []
   },
   "source": [
    "In this exercise, you'll put to work what you have learned about booleans and conditionals.\n",
    "\n",
    "To get started, **run the setup code below** before writing your own code (and if you leave this notebook and come back later, don't forget to run the setup code again)."
   ]
  },
  {
   "cell_type": "code",
   "execution_count": 1,
   "id": "9da8789c",
   "metadata": {
    "execution": {
     "iopub.execute_input": "2021-08-11T04:14:31.589196Z",
     "iopub.status.busy": "2021-08-11T04:14:31.588035Z",
     "iopub.status.idle": "2021-08-11T04:14:31.778971Z",
     "shell.execute_reply": "2021-08-11T04:14:31.779468Z",
     "shell.execute_reply.started": "2021-08-11T02:56:14.689243Z"
    },
    "papermill": {
     "duration": 0.222793,
     "end_time": "2021-08-11T04:14:31.779837",
     "exception": false,
     "start_time": "2021-08-11T04:14:31.557044",
     "status": "completed"
    },
    "tags": []
   },
   "outputs": [
    {
     "name": "stdout",
     "output_type": "stream",
     "text": [
      "Setup complete.\n"
     ]
    }
   ],
   "source": [
    "from learntools.core import binder; binder.bind(globals())\n",
    "from learntools.python.ex3 import *\n",
    "print('Setup complete.')"
   ]
  },
  {
   "cell_type": "markdown",
   "id": "0bab117a",
   "metadata": {
    "papermill": {
     "duration": 0.028785,
     "end_time": "2021-08-11T04:14:31.837041",
     "exception": false,
     "start_time": "2021-08-11T04:14:31.808256",
     "status": "completed"
    },
    "tags": []
   },
   "source": [
    "# 1.\n",
    "\n",
    "Many programming languages have [`sign`](https://en.wikipedia.org/wiki/Sign_function) available as a built-in function. Python doesn't, but we can define our own!\n",
    "\n",
    "In the cell below, define a function called `sign` which takes a numerical argument and returns -1 if it's negative, 1 if it's positive, and 0 if it's 0."
   ]
  },
  {
   "cell_type": "code",
   "execution_count": 2,
   "id": "fb8710da",
   "metadata": {
    "execution": {
     "iopub.execute_input": "2021-08-11T04:14:31.904582Z",
     "iopub.status.busy": "2021-08-11T04:14:31.903484Z",
     "iopub.status.idle": "2021-08-11T04:14:31.909760Z",
     "shell.execute_reply": "2021-08-11T04:14:31.909181Z",
     "shell.execute_reply.started": "2021-08-11T03:05:10.931127Z"
    },
    "papermill": {
     "duration": 0.044514,
     "end_time": "2021-08-11T04:14:31.909915",
     "exception": false,
     "start_time": "2021-08-11T04:14:31.865401",
     "status": "completed"
    },
    "tags": []
   },
   "outputs": [
    {
     "data": {
      "application/javascript": [
       "parent.postMessage({\"jupyterEvent\": \"custom.exercise_interaction\", \"data\": {\"outcomeType\": 1, \"valueTowardsCompletion\": 0.2, \"interactionType\": 1, \"questionType\": 2, \"questionId\": \"1_SignFunctionProblem\", \"learnToolsVersion\": \"0.3.4\", \"failureMessage\": \"\", \"exceptionClass\": \"\", \"trace\": \"\"}}, \"*\")"
      ],
      "text/plain": [
       "<IPython.core.display.Javascript object>"
      ]
     },
     "metadata": {},
     "output_type": "display_data"
    },
    {
     "data": {
      "text/markdown": [
       "<span style=\"color:#33cc33\">Correct</span>"
      ],
      "text/plain": [
       "Correct"
      ]
     },
     "metadata": {},
     "output_type": "display_data"
    }
   ],
   "source": [
    "# Your code goes here. Define a function called 'sign'\n",
    "def sign(x):\n",
    "    \"\"\"takes a numerical argument and returns -1 if it's negative, 1 if it's positive, and 0 if it's 0.\"\"\"\n",
    "    if x<0:\n",
    "        return -1\n",
    "    if x>0:\n",
    "        return 1\n",
    "    if x==0:\n",
    "        return 0\n",
    "    \n",
    "q1.check()"
   ]
  },
  {
   "cell_type": "code",
   "execution_count": 3,
   "id": "a1e1ee81",
   "metadata": {
    "execution": {
     "iopub.execute_input": "2021-08-11T04:14:31.972661Z",
     "iopub.status.busy": "2021-08-11T04:14:31.972061Z",
     "iopub.status.idle": "2021-08-11T04:14:31.975814Z",
     "shell.execute_reply": "2021-08-11T04:14:31.976252Z"
    },
    "papermill": {
     "duration": 0.037315,
     "end_time": "2021-08-11T04:14:31.976436",
     "exception": false,
     "start_time": "2021-08-11T04:14:31.939121",
     "status": "completed"
    },
    "tags": []
   },
   "outputs": [],
   "source": [
    "#q1.solution()"
   ]
  },
  {
   "cell_type": "markdown",
   "id": "c17a9fc9",
   "metadata": {
    "papermill": {
     "duration": 0.028828,
     "end_time": "2021-08-11T04:14:32.034732",
     "exception": false,
     "start_time": "2021-08-11T04:14:32.005904",
     "status": "completed"
    },
    "tags": []
   },
   "source": [
    "# 2.\n",
    "\n",
    "We've decided to add \"logging\" to our `to_smash` function from the previous exercise."
   ]
  },
  {
   "cell_type": "code",
   "execution_count": 4,
   "id": "94a75b19",
   "metadata": {
    "execution": {
     "iopub.execute_input": "2021-08-11T04:14:32.096648Z",
     "iopub.status.busy": "2021-08-11T04:14:32.095972Z",
     "iopub.status.idle": "2021-08-11T04:14:32.103882Z",
     "shell.execute_reply": "2021-08-11T04:14:32.104340Z",
     "shell.execute_reply.started": "2021-08-11T03:06:34.729458Z"
    },
    "papermill": {
     "duration": 0.040455,
     "end_time": "2021-08-11T04:14:32.104537",
     "exception": false,
     "start_time": "2021-08-11T04:14:32.064082",
     "status": "completed"
    },
    "tags": []
   },
   "outputs": [
    {
     "name": "stdout",
     "output_type": "stream",
     "text": [
      "Splitting 91 candies\n"
     ]
    },
    {
     "data": {
      "text/plain": [
       "1"
      ]
     },
     "execution_count": 4,
     "metadata": {},
     "output_type": "execute_result"
    }
   ],
   "source": [
    "def to_smash(total_candies):\n",
    "    \"\"\"Return the number of leftover candies that must be smashed after distributing\n",
    "    the given number of candies evenly between 3 friends.\n",
    "    \n",
    "    >>> to_smash(91)\n",
    "    1\n",
    "    \"\"\"\n",
    "    print(\"Splitting\", total_candies, \"candies\")\n",
    "    return total_candies % 3\n",
    "\n",
    "to_smash(91)"
   ]
  },
  {
   "cell_type": "markdown",
   "id": "42dc9e77",
   "metadata": {
    "papermill": {
     "duration": 0.030335,
     "end_time": "2021-08-11T04:14:32.164782",
     "exception": false,
     "start_time": "2021-08-11T04:14:32.134447",
     "status": "completed"
    },
    "tags": []
   },
   "source": [
    "What happens if we call it with `total_candies = 1`?"
   ]
  },
  {
   "cell_type": "code",
   "execution_count": 5,
   "id": "59bc34c7",
   "metadata": {
    "execution": {
     "iopub.execute_input": "2021-08-11T04:14:32.232947Z",
     "iopub.status.busy": "2021-08-11T04:14:32.232109Z",
     "iopub.status.idle": "2021-08-11T04:14:32.237011Z",
     "shell.execute_reply": "2021-08-11T04:14:32.237711Z",
     "shell.execute_reply.started": "2021-08-11T03:06:43.696649Z"
    },
    "papermill": {
     "duration": 0.042952,
     "end_time": "2021-08-11T04:14:32.237957",
     "exception": false,
     "start_time": "2021-08-11T04:14:32.195005",
     "status": "completed"
    },
    "tags": []
   },
   "outputs": [
    {
     "name": "stdout",
     "output_type": "stream",
     "text": [
      "Splitting 1 candies\n"
     ]
    },
    {
     "data": {
      "text/plain": [
       "1"
      ]
     },
     "execution_count": 5,
     "metadata": {},
     "output_type": "execute_result"
    }
   ],
   "source": [
    "to_smash(1)"
   ]
  },
  {
   "cell_type": "markdown",
   "id": "91501dac",
   "metadata": {
    "papermill": {
     "duration": 0.030082,
     "end_time": "2021-08-11T04:14:32.299145",
     "exception": false,
     "start_time": "2021-08-11T04:14:32.269063",
     "status": "completed"
    },
    "tags": []
   },
   "source": [
    "That isn't great grammar!\n",
    "\n",
    "Modify the definition in the cell below to correct the grammar of our print statement. (If there's only one candy, we should use the singular \"candy\" instead of the plural \"candies\")"
   ]
  },
  {
   "cell_type": "code",
   "execution_count": 6,
   "id": "3873a222",
   "metadata": {
    "execution": {
     "iopub.execute_input": "2021-08-11T04:14:32.368472Z",
     "iopub.status.busy": "2021-08-11T04:14:32.367445Z",
     "iopub.status.idle": "2021-08-11T04:14:32.372733Z",
     "shell.execute_reply": "2021-08-11T04:14:32.373239Z",
     "shell.execute_reply.started": "2021-08-11T03:16:15.852890Z"
    },
    "papermill": {
     "duration": 0.043762,
     "end_time": "2021-08-11T04:14:32.373427",
     "exception": false,
     "start_time": "2021-08-11T04:14:32.329665",
     "status": "completed"
    },
    "tags": []
   },
   "outputs": [
    {
     "name": "stdout",
     "output_type": "stream",
     "text": [
      "Splitting 91 candies\n",
      "Splitting 1 candy\n"
     ]
    },
    {
     "data": {
      "text/plain": [
       "1"
      ]
     },
     "execution_count": 6,
     "metadata": {},
     "output_type": "execute_result"
    }
   ],
   "source": [
    "def to_smash(total_candies):\n",
    "    \"\"\"Return the number of leftover candies that must be smashed after distributing\n",
    "    the given number of candies evenly between 3 friends.\n",
    "    \n",
    "    >>> to_smash(91)\n",
    "    1\n",
    "    \"\"\"\n",
    "    if total_candies == 1:\n",
    "        print(\"Splitting 1 candy\")\n",
    "    else:\n",
    "        print(\"Splitting\", total_candies, \"candies\")\n",
    "    return total_candies % 3\n",
    "\n",
    "to_smash(91)\n",
    "to_smash(1)"
   ]
  },
  {
   "cell_type": "markdown",
   "id": "7b8df783",
   "metadata": {
    "papermill": {
     "duration": 0.03121,
     "end_time": "2021-08-11T04:14:32.435936",
     "exception": false,
     "start_time": "2021-08-11T04:14:32.404726",
     "status": "completed"
    },
    "tags": []
   },
   "source": [
    "To get credit for completing this problem, and to see the official answer, run the code cell below."
   ]
  },
  {
   "cell_type": "code",
   "execution_count": 7,
   "id": "cc3b251d",
   "metadata": {
    "execution": {
     "iopub.execute_input": "2021-08-11T04:14:32.503855Z",
     "iopub.status.busy": "2021-08-11T04:14:32.502958Z",
     "iopub.status.idle": "2021-08-11T04:14:32.509914Z",
     "shell.execute_reply": "2021-08-11T04:14:32.509365Z",
     "shell.execute_reply.started": "2021-08-11T03:12:24.399577Z"
    },
    "papermill": {
     "duration": 0.042892,
     "end_time": "2021-08-11T04:14:32.510074",
     "exception": false,
     "start_time": "2021-08-11T04:14:32.467182",
     "status": "completed"
    },
    "tags": []
   },
   "outputs": [
    {
     "data": {
      "application/javascript": [
       "parent.postMessage({\"jupyterEvent\": \"custom.exercise_interaction\", \"data\": {\"interactionType\": 3, \"questionType\": 4, \"questionId\": \"2_PluralizationProblem\", \"learnToolsVersion\": \"0.3.4\", \"valueTowardsCompletion\": 0.0, \"failureMessage\": \"\", \"exceptionClass\": \"\", \"trace\": \"\", \"outcomeType\": 4}}, \"*\")"
      ],
      "text/plain": [
       "<IPython.core.display.Javascript object>"
      ]
     },
     "metadata": {},
     "output_type": "display_data"
    },
    {
     "data": {
      "text/markdown": [
       "<span style=\"color:#33cc99\">Solution:</span> A straightforward (and totally fine) solution is to replace the original `print` call with:\n",
       "\n",
       "```python\n",
       "if total_candies == 1:\n",
       "    print(\"Splitting 1 candy\")\n",
       "else:\n",
       "    print(\"Splitting\", total_candies, \"candies\")\n",
       "```\n",
       "\n",
       "Here's a slightly more succinct solution using a conditional expression:\n",
       "\n",
       "```python\n",
       "print(\"Splitting\", total_candies, \"candy\" if total_candies == 1 else \"candies\")\n",
       "```"
      ],
      "text/plain": [
       "Solution: A straightforward (and totally fine) solution is to replace the original `print` call with:\n",
       "\n",
       "```python\n",
       "if total_candies == 1:\n",
       "    print(\"Splitting 1 candy\")\n",
       "else:\n",
       "    print(\"Splitting\", total_candies, \"candies\")\n",
       "```\n",
       "\n",
       "Here's a slightly more succinct solution using a conditional expression:\n",
       "\n",
       "```python\n",
       "print(\"Splitting\", total_candies, \"candy\" if total_candies == 1 else \"candies\")\n",
       "```"
      ]
     },
     "metadata": {},
     "output_type": "display_data"
    }
   ],
   "source": [
    "# Check your answer (Run this code cell to receive credit!)\n",
    "q2.solution()"
   ]
  },
  {
   "cell_type": "markdown",
   "id": "8c3590ec",
   "metadata": {
    "papermill": {
     "duration": 0.032079,
     "end_time": "2021-08-11T04:14:32.574947",
     "exception": false,
     "start_time": "2021-08-11T04:14:32.542868",
     "status": "completed"
    },
    "tags": []
   },
   "source": [
    "# 3. <span title=\"A bit spicy\" style=\"color: darkgreen \">🌶️</span>\n",
    "\n",
    "In the tutorial, we talked about deciding whether we're prepared for the weather. I said that I'm safe from today's weather if...\n",
    "- I have an umbrella...\n",
    "- or if the rain isn't too heavy and I have a hood...\n",
    "- otherwise, I'm still fine unless it's raining *and* it's a workday\n",
    "\n",
    "The function below uses our first attempt at turning this logic into a Python expression. I claimed that there was a bug in that code. Can you find it?\n",
    "\n",
    "To prove that `prepared_for_weather` is buggy, come up with a set of inputs where either:\n",
    "- the function returns `False` (but should have returned `True`), or\n",
    "- the function returned `True` (but should have returned `False`).\n",
    "\n",
    "To get credit for completing this question, your code should return a <font color='#33cc33'>Correct</font> result."
   ]
  },
  {
   "cell_type": "code",
   "execution_count": 8,
   "id": "7720787a",
   "metadata": {
    "execution": {
     "iopub.execute_input": "2021-08-11T04:14:32.646522Z",
     "iopub.status.busy": "2021-08-11T04:14:32.645898Z",
     "iopub.status.idle": "2021-08-11T04:14:32.652168Z",
     "shell.execute_reply": "2021-08-11T04:14:32.652651Z",
     "shell.execute_reply.started": "2021-08-11T03:22:01.351256Z"
    },
    "papermill": {
     "duration": 0.045719,
     "end_time": "2021-08-11T04:14:32.652847",
     "exception": false,
     "start_time": "2021-08-11T04:14:32.607128",
     "status": "completed"
    },
    "tags": []
   },
   "outputs": [
    {
     "name": "stdout",
     "output_type": "stream",
     "text": [
      "False\n"
     ]
    },
    {
     "data": {
      "application/javascript": [
       "parent.postMessage({\"jupyterEvent\": \"custom.exercise_interaction\", \"data\": {\"outcomeType\": 1, \"valueTowardsCompletion\": 0.2, \"interactionType\": 1, \"questionType\": 1, \"questionId\": \"3_WeatherDebug\", \"learnToolsVersion\": \"0.3.4\", \"failureMessage\": \"\", \"exceptionClass\": \"\", \"trace\": \"\"}}, \"*\")"
      ],
      "text/plain": [
       "<IPython.core.display.Javascript object>"
      ]
     },
     "metadata": {},
     "output_type": "display_data"
    },
    {
     "data": {
      "text/markdown": [
       "<span style=\"color:#33cc33\">Correct:</span> \n",
       "\n",
       "One example of a failing test case is:\n",
       "\n",
       "```python\n",
       "have_umbrella = False\n",
       "rain_level = 0.0\n",
       "have_hood = False\n",
       "is_workday = False\n",
       "```\n",
       "\n",
       "Clearly we're prepared for the weather in this case. It's not raining. Not only that, it's not a workday, so we don't even need to leave the house! But our function will return False on these inputs.\n",
       "\n",
       "The key problem is that Python implictly parenthesizes the last part as:\n",
       "\n",
       "```python\n",
       "(not (rain_level > 0)) and is_workday\n",
       "```\n",
       "\n",
       "Whereas what we were trying to express would look more like:\n",
       "\n",
       "```python\n",
       "not (rain_level > 0 and is_workday)\n",
       "```\n"
      ],
      "text/plain": [
       "Correct: \n",
       "\n",
       "One example of a failing test case is:\n",
       "\n",
       "```python\n",
       "have_umbrella = False\n",
       "rain_level = 0.0\n",
       "have_hood = False\n",
       "is_workday = False\n",
       "```\n",
       "\n",
       "Clearly we're prepared for the weather in this case. It's not raining. Not only that, it's not a workday, so we don't even need to leave the house! But our function will return False on these inputs.\n",
       "\n",
       "The key problem is that Python implictly parenthesizes the last part as:\n",
       "\n",
       "```python\n",
       "(not (rain_level > 0)) and is_workday\n",
       "```\n",
       "\n",
       "Whereas what we were trying to express would look more like:\n",
       "\n",
       "```python\n",
       "not (rain_level > 0 and is_workday)\n",
       "```"
      ]
     },
     "metadata": {},
     "output_type": "display_data"
    }
   ],
   "source": [
    "def prepared_for_weather(have_umbrella, rain_level, have_hood, is_workday):\n",
    "    # Don't change this code. Our goal is just to find the bug, not fix it!\n",
    "    return have_umbrella or rain_level < 5 and have_hood or not rain_level > 0 and is_workday\n",
    "\n",
    "# Change the values of these inputs so they represent a case where prepared_for_weather\n",
    "# returns the wrong answer.\n",
    "have_umbrella = False\n",
    "rain_level = 0.0\n",
    "have_hood = False\n",
    "is_workday = False\n",
    "\n",
    "# Check what the function returns given the current values of the variables above\n",
    "actual = prepared_for_weather(have_umbrella, rain_level, have_hood, is_workday)\n",
    "print(actual)\n",
    "\n",
    "# Check your answer\n",
    "q3.check()"
   ]
  },
  {
   "cell_type": "code",
   "execution_count": 9,
   "id": "5a3f4aff",
   "metadata": {
    "execution": {
     "iopub.execute_input": "2021-08-11T04:14:32.723830Z",
     "iopub.status.busy": "2021-08-11T04:14:32.723155Z",
     "iopub.status.idle": "2021-08-11T04:14:32.729845Z",
     "shell.execute_reply": "2021-08-11T04:14:32.730383Z",
     "shell.execute_reply.started": "2021-08-11T03:21:42.293688Z"
    },
    "papermill": {
     "duration": 0.043825,
     "end_time": "2021-08-11T04:14:32.730566",
     "exception": false,
     "start_time": "2021-08-11T04:14:32.686741",
     "status": "completed"
    },
    "tags": []
   },
   "outputs": [
    {
     "data": {
      "application/javascript": [
       "parent.postMessage({\"jupyterEvent\": \"custom.exercise_interaction\", \"data\": {\"interactionType\": 3, \"questionType\": 1, \"questionId\": \"3_WeatherDebug\", \"learnToolsVersion\": \"0.3.4\", \"valueTowardsCompletion\": 0.0, \"failureMessage\": \"\", \"exceptionClass\": \"\", \"trace\": \"\", \"outcomeType\": 4}}, \"*\")"
      ],
      "text/plain": [
       "<IPython.core.display.Javascript object>"
      ]
     },
     "metadata": {},
     "output_type": "display_data"
    },
    {
     "data": {
      "text/markdown": [
       "<span style=\"color:#33cc99\">Solution:</span> One example of a failing test case is:\n",
       "\n",
       "```python\n",
       "have_umbrella = False\n",
       "rain_level = 0.0\n",
       "have_hood = False\n",
       "is_workday = False\n",
       "```\n",
       "\n",
       "Clearly we're prepared for the weather in this case. It's not raining. Not only that, it's not a workday, so we don't even need to leave the house! But our function will return False on these inputs.\n",
       "\n",
       "The key problem is that Python implictly parenthesizes the last part as:\n",
       "\n",
       "```python\n",
       "(not (rain_level > 0)) and is_workday\n",
       "```\n",
       "\n",
       "Whereas what we were trying to express would look more like:\n",
       "\n",
       "```python\n",
       "not (rain_level > 0 and is_workday)\n",
       "```\n"
      ],
      "text/plain": [
       "Solution: One example of a failing test case is:\n",
       "\n",
       "```python\n",
       "have_umbrella = False\n",
       "rain_level = 0.0\n",
       "have_hood = False\n",
       "is_workday = False\n",
       "```\n",
       "\n",
       "Clearly we're prepared for the weather in this case. It's not raining. Not only that, it's not a workday, so we don't even need to leave the house! But our function will return False on these inputs.\n",
       "\n",
       "The key problem is that Python implictly parenthesizes the last part as:\n",
       "\n",
       "```python\n",
       "(not (rain_level > 0)) and is_workday\n",
       "```\n",
       "\n",
       "Whereas what we were trying to express would look more like:\n",
       "\n",
       "```python\n",
       "not (rain_level > 0 and is_workday)\n",
       "```"
      ]
     },
     "metadata": {},
     "output_type": "display_data"
    }
   ],
   "source": [
    "#q3.hint()\n",
    "q3.solution()"
   ]
  },
  {
   "cell_type": "markdown",
   "id": "1b8f8ba5",
   "metadata": {
    "papermill": {
     "duration": 0.036486,
     "end_time": "2021-08-11T04:14:32.801971",
     "exception": false,
     "start_time": "2021-08-11T04:14:32.765485",
     "status": "completed"
    },
    "tags": []
   },
   "source": [
    "# 4.\n",
    "\n",
    "The function `is_negative` below is implemented correctly - it returns True if the given number is negative and False otherwise.\n",
    "\n",
    "However, it's more verbose than it needs to be. We can actually reduce the number of lines of code in this function by *75%* while keeping the same behaviour. \n",
    "\n",
    "See if you can come up with an equivalent body that uses just **one line** of code, and put it in the function `concise_is_negative`. (HINT: you don't even need Python's ternary syntax)"
   ]
  },
  {
   "cell_type": "code",
   "execution_count": 10,
   "id": "d5e5de03",
   "metadata": {
    "execution": {
     "iopub.execute_input": "2021-08-11T04:14:32.875729Z",
     "iopub.status.busy": "2021-08-11T04:14:32.875071Z",
     "iopub.status.idle": "2021-08-11T04:14:32.884517Z",
     "shell.execute_reply": "2021-08-11T04:14:32.883975Z",
     "shell.execute_reply.started": "2021-08-11T03:54:03.631137Z"
    },
    "papermill": {
     "duration": 0.047765,
     "end_time": "2021-08-11T04:14:32.884666",
     "exception": false,
     "start_time": "2021-08-11T04:14:32.836901",
     "status": "completed"
    },
    "tags": []
   },
   "outputs": [
    {
     "data": {
      "application/javascript": [
       "parent.postMessage({\"jupyterEvent\": \"custom.exercise_interaction\", \"data\": {\"outcomeType\": 1, \"valueTowardsCompletion\": 0.2, \"interactionType\": 1, \"questionType\": 2, \"questionId\": \"4_ConciseIsNegative\", \"learnToolsVersion\": \"0.3.4\", \"failureMessage\": \"\", \"exceptionClass\": \"\", \"trace\": \"\"}}, \"*\")"
      ],
      "text/plain": [
       "<IPython.core.display.Javascript object>"
      ]
     },
     "metadata": {},
     "output_type": "display_data"
    },
    {
     "data": {
      "text/markdown": [
       "<span style=\"color:#33cc33\">Correct</span>"
      ],
      "text/plain": [
       "Correct"
      ]
     },
     "metadata": {},
     "output_type": "display_data"
    }
   ],
   "source": [
    "def is_negative(number):\n",
    "    if number < 0:\n",
    "        return True\n",
    "    else:\n",
    "        return False\n",
    "\n",
    "def concise_is_negative(number):\n",
    "    return number < 0\n",
    "# Check your answer\n",
    "q4.check()"
   ]
  },
  {
   "cell_type": "code",
   "execution_count": 11,
   "id": "36abfba1",
   "metadata": {
    "execution": {
     "iopub.execute_input": "2021-08-11T04:14:32.962396Z",
     "iopub.status.busy": "2021-08-11T04:14:32.961416Z",
     "iopub.status.idle": "2021-08-11T04:14:32.971393Z",
     "shell.execute_reply": "2021-08-11T04:14:32.970760Z",
     "shell.execute_reply.started": "2021-08-11T03:52:56.671909Z"
    },
    "papermill": {
     "duration": 0.050963,
     "end_time": "2021-08-11T04:14:32.971553",
     "exception": false,
     "start_time": "2021-08-11T04:14:32.920590",
     "status": "completed"
    },
    "tags": []
   },
   "outputs": [
    {
     "data": {
      "application/javascript": [
       "parent.postMessage({\"jupyterEvent\": \"custom.exercise_interaction\", \"data\": {\"interactionType\": 2, \"questionType\": 2, \"questionId\": \"4_ConciseIsNegative\", \"learnToolsVersion\": \"0.3.4\", \"valueTowardsCompletion\": 0.0, \"failureMessage\": \"\", \"exceptionClass\": \"\", \"trace\": \"\", \"outcomeType\": 4}}, \"*\")"
      ],
      "text/plain": [
       "<IPython.core.display.Javascript object>"
      ]
     },
     "metadata": {},
     "output_type": "display_data"
    },
    {
     "data": {
      "text/markdown": [
       "<span style=\"color:#3366cc\">Hint:</span> If the value of the expression `number < 0` is `True`, then we return `True`. If it's `False`, then we return `False`..."
      ],
      "text/plain": [
       "Hint: If the value of the expression `number < 0` is `True`, then we return `True`. If it's `False`, then we return `False`..."
      ]
     },
     "metadata": {},
     "output_type": "display_data"
    },
    {
     "data": {
      "application/javascript": [
       "parent.postMessage({\"jupyterEvent\": \"custom.exercise_interaction\", \"data\": {\"interactionType\": 3, \"questionType\": 2, \"questionId\": \"4_ConciseIsNegative\", \"learnToolsVersion\": \"0.3.4\", \"valueTowardsCompletion\": 0.0, \"failureMessage\": \"\", \"exceptionClass\": \"\", \"trace\": \"\", \"outcomeType\": 4}}, \"*\")"
      ],
      "text/plain": [
       "<IPython.core.display.Javascript object>"
      ]
     },
     "metadata": {},
     "output_type": "display_data"
    },
    {
     "data": {
      "text/markdown": [
       "<span style=\"color:#33cc99\">Solution:</span> \n",
       "```python\n",
       "return number < 0\n",
       "```"
      ],
      "text/plain": [
       "Solution: \n",
       "```python\n",
       "return number < 0\n",
       "```"
      ]
     },
     "metadata": {},
     "output_type": "display_data"
    }
   ],
   "source": [
    "q4.hint()\n",
    "q4.solution()"
   ]
  },
  {
   "cell_type": "markdown",
   "id": "5e987fad",
   "metadata": {
    "papermill": {
     "duration": 0.037822,
     "end_time": "2021-08-11T04:14:33.046940",
     "exception": false,
     "start_time": "2021-08-11T04:14:33.009118",
     "status": "completed"
    },
    "tags": []
   },
   "source": [
    "# 5a.\n",
    "\n",
    "The boolean variables `ketchup`, `mustard` and `onion` represent whether a customer wants a particular topping on their hot dog. We want to implement a number of boolean functions that correspond to some yes-or-no questions about the customer's order. For example:"
   ]
  },
  {
   "cell_type": "code",
   "execution_count": 12,
   "id": "4580a588",
   "metadata": {
    "execution": {
     "iopub.execute_input": "2021-08-11T04:14:33.128044Z",
     "iopub.status.busy": "2021-08-11T04:14:33.127332Z",
     "iopub.status.idle": "2021-08-11T04:14:33.130308Z",
     "shell.execute_reply": "2021-08-11T04:14:33.129825Z"
    },
    "papermill": {
     "duration": 0.045507,
     "end_time": "2021-08-11T04:14:33.130452",
     "exception": false,
     "start_time": "2021-08-11T04:14:33.084945",
     "status": "completed"
    },
    "tags": []
   },
   "outputs": [],
   "source": [
    "def onionless(ketchup, mustard, onion):\n",
    "    \"\"\"Return whether the customer doesn't want onions.\n",
    "    \"\"\"\n",
    "    return not onion"
   ]
  },
  {
   "cell_type": "code",
   "execution_count": 13,
   "id": "90eebed2",
   "metadata": {
    "execution": {
     "iopub.execute_input": "2021-08-11T04:14:33.212970Z",
     "iopub.status.busy": "2021-08-11T04:14:33.212257Z",
     "iopub.status.idle": "2021-08-11T04:14:33.220124Z",
     "shell.execute_reply": "2021-08-11T04:14:33.219553Z",
     "shell.execute_reply.started": "2021-08-11T03:55:55.287658Z"
    },
    "papermill": {
     "duration": 0.051985,
     "end_time": "2021-08-11T04:14:33.220284",
     "exception": false,
     "start_time": "2021-08-11T04:14:33.168299",
     "status": "completed"
    },
    "tags": []
   },
   "outputs": [
    {
     "data": {
      "application/javascript": [
       "parent.postMessage({\"jupyterEvent\": \"custom.exercise_interaction\", \"data\": {\"outcomeType\": 1, \"valueTowardsCompletion\": 0.2, \"interactionType\": 1, \"questionType\": 2, \"questionId\": \"5.1_AllToppings\", \"learnToolsVersion\": \"0.3.4\", \"failureMessage\": \"\", \"exceptionClass\": \"\", \"trace\": \"\"}}, \"*\")"
      ],
      "text/plain": [
       "<IPython.core.display.Javascript object>"
      ]
     },
     "metadata": {},
     "output_type": "display_data"
    },
    {
     "data": {
      "text/markdown": [
       "<span style=\"color:#33cc33\">Correct</span>"
      ],
      "text/plain": [
       "Correct"
      ]
     },
     "metadata": {},
     "output_type": "display_data"
    }
   ],
   "source": [
    "def wants_all_toppings(ketchup, mustard, onion):\n",
    "    \"\"\"Return whether the customer wants \"the works\" (all 3 toppings)\n",
    "    \"\"\"\n",
    "    return ketchup and mustard and onion\n",
    "\n",
    "# Check your answer\n",
    "q5.a.check()"
   ]
  },
  {
   "cell_type": "code",
   "execution_count": 14,
   "id": "4f686923",
   "metadata": {
    "execution": {
     "iopub.execute_input": "2021-08-11T04:14:33.304460Z",
     "iopub.status.busy": "2021-08-11T04:14:33.303445Z",
     "iopub.status.idle": "2021-08-11T04:14:33.307201Z",
     "shell.execute_reply": "2021-08-11T04:14:33.307690Z"
    },
    "papermill": {
     "duration": 0.047681,
     "end_time": "2021-08-11T04:14:33.307935",
     "exception": false,
     "start_time": "2021-08-11T04:14:33.260254",
     "status": "completed"
    },
    "tags": []
   },
   "outputs": [],
   "source": [
    "#q5.a.hint()\n",
    "#q5.a.solution()"
   ]
  },
  {
   "cell_type": "markdown",
   "id": "b785b404",
   "metadata": {
    "papermill": {
     "duration": 0.039919,
     "end_time": "2021-08-11T04:14:33.388279",
     "exception": false,
     "start_time": "2021-08-11T04:14:33.348360",
     "status": "completed"
    },
    "tags": []
   },
   "source": [
    "# 5b.\n",
    "\n",
    "For the next function, fill in the body to match the English description in the docstring. "
   ]
  },
  {
   "cell_type": "code",
   "execution_count": 15,
   "id": "da4d73b9",
   "metadata": {
    "execution": {
     "iopub.execute_input": "2021-08-11T04:14:33.473539Z",
     "iopub.status.busy": "2021-08-11T04:14:33.472425Z",
     "iopub.status.idle": "2021-08-11T04:14:33.480893Z",
     "shell.execute_reply": "2021-08-11T04:14:33.481411Z",
     "shell.execute_reply.started": "2021-08-11T03:57:41.429073Z"
    },
    "papermill": {
     "duration": 0.052603,
     "end_time": "2021-08-11T04:14:33.481608",
     "exception": false,
     "start_time": "2021-08-11T04:14:33.429005",
     "status": "completed"
    },
    "tags": []
   },
   "outputs": [
    {
     "data": {
      "application/javascript": [
       "parent.postMessage({\"jupyterEvent\": \"custom.exercise_interaction\", \"data\": {\"outcomeType\": 1, \"valueTowardsCompletion\": 0.2, \"interactionType\": 1, \"questionType\": 2, \"questionId\": \"5.2_PlainDog\", \"learnToolsVersion\": \"0.3.4\", \"failureMessage\": \"\", \"exceptionClass\": \"\", \"trace\": \"\"}}, \"*\")"
      ],
      "text/plain": [
       "<IPython.core.display.Javascript object>"
      ]
     },
     "metadata": {},
     "output_type": "display_data"
    },
    {
     "data": {
      "text/markdown": [
       "<span style=\"color:#33cc33\">Correct:</span> \n",
       "\n",
       "One solution looks like:\n",
       "```python\n",
       "return not ketchup and not mustard and not onion\n",
       "```\n",
       "\n",
       "We can also [\"factor out\" the nots](https://en.wikipedia.org/wiki/De_Morgan%27s_laws) to get:\n",
       "\n",
       "```python\n",
       "return not (ketchup or mustard or onion)\n",
       "```"
      ],
      "text/plain": [
       "Correct: \n",
       "\n",
       "One solution looks like:\n",
       "```python\n",
       "return not ketchup and not mustard and not onion\n",
       "```\n",
       "\n",
       "We can also [\"factor out\" the nots](https://en.wikipedia.org/wiki/De_Morgan%27s_laws) to get:\n",
       "\n",
       "```python\n",
       "return not (ketchup or mustard or onion)\n",
       "```"
      ]
     },
     "metadata": {},
     "output_type": "display_data"
    }
   ],
   "source": [
    "def wants_plain_hotdog(ketchup, mustard, onion):\n",
    "    \"\"\"Return whether the customer wants a plain hot dog with no toppings.\n",
    "    \"\"\"\n",
    "    return  not (ketchup or mustard or onion)\n",
    "\n",
    "# Check your answer\n",
    "q5.b.check()"
   ]
  },
  {
   "cell_type": "code",
   "execution_count": 16,
   "id": "8c1ddca9",
   "metadata": {
    "execution": {
     "iopub.execute_input": "2021-08-11T04:14:33.568554Z",
     "iopub.status.busy": "2021-08-11T04:14:33.567579Z",
     "iopub.status.idle": "2021-08-11T04:14:33.570966Z",
     "shell.execute_reply": "2021-08-11T04:14:33.571461Z"
    },
    "papermill": {
     "duration": 0.048977,
     "end_time": "2021-08-11T04:14:33.571653",
     "exception": false,
     "start_time": "2021-08-11T04:14:33.522676",
     "status": "completed"
    },
    "tags": []
   },
   "outputs": [],
   "source": [
    "#q5.b.hint()\n",
    "#q5.b.solution()"
   ]
  },
  {
   "cell_type": "markdown",
   "id": "7f4e46e4",
   "metadata": {
    "papermill": {
     "duration": 0.040789,
     "end_time": "2021-08-11T04:14:33.653258",
     "exception": false,
     "start_time": "2021-08-11T04:14:33.612469",
     "status": "completed"
    },
    "tags": []
   },
   "source": [
    "# 5c.\n",
    "\n",
    "You know what to do: for the next function, fill in the body to match the English description in the docstring."
   ]
  },
  {
   "cell_type": "code",
   "execution_count": 17,
   "id": "91aaee23",
   "metadata": {
    "execution": {
     "iopub.execute_input": "2021-08-11T04:14:33.739151Z",
     "iopub.status.busy": "2021-08-11T04:14:33.738125Z",
     "iopub.status.idle": "2021-08-11T04:14:33.747548Z",
     "shell.execute_reply": "2021-08-11T04:14:33.746921Z",
     "shell.execute_reply.started": "2021-08-11T04:01:55.801391Z"
    },
    "papermill": {
     "duration": 0.053935,
     "end_time": "2021-08-11T04:14:33.747725",
     "exception": false,
     "start_time": "2021-08-11T04:14:33.693790",
     "status": "completed"
    },
    "tags": []
   },
   "outputs": [
    {
     "data": {
      "application/javascript": [
       "parent.postMessage({\"jupyterEvent\": \"custom.exercise_interaction\", \"data\": {\"outcomeType\": 1, \"valueTowardsCompletion\": 0.2, \"interactionType\": 1, \"questionType\": 2, \"questionId\": \"5.3_OneSauce\", \"learnToolsVersion\": \"0.3.4\", \"failureMessage\": \"\", \"exceptionClass\": \"\", \"trace\": \"\"}}, \"*\")"
      ],
      "text/plain": [
       "<IPython.core.display.Javascript object>"
      ]
     },
     "metadata": {},
     "output_type": "display_data"
    },
    {
     "data": {
      "text/markdown": [
       "<span style=\"color:#33cc33\">Correct</span>"
      ],
      "text/plain": [
       "Correct"
      ]
     },
     "metadata": {},
     "output_type": "display_data"
    }
   ],
   "source": [
    "def exactly_one_sauce(ketchup, mustard, onion):\n",
    "    \"\"\"Return whether the customer wants either ketchup or mustard, but not both.\n",
    "    (You may be familiar with this operation under the name \"exclusive or\")\n",
    "    \"\"\"\n",
    "    return (ketchup and not mustard) or (mustard and not ketchup)\n",
    "\n",
    "# Check your answer\n",
    "q5.c.check()"
   ]
  },
  {
   "cell_type": "code",
   "execution_count": 18,
   "id": "06dd2804",
   "metadata": {
    "execution": {
     "iopub.execute_input": "2021-08-11T04:14:33.838573Z",
     "iopub.status.busy": "2021-08-11T04:14:33.837879Z",
     "iopub.status.idle": "2021-08-11T04:14:33.843158Z",
     "shell.execute_reply": "2021-08-11T04:14:33.843722Z",
     "shell.execute_reply.started": "2021-08-11T04:00:56.622535Z"
    },
    "papermill": {
     "duration": 0.053513,
     "end_time": "2021-08-11T04:14:33.843917",
     "exception": false,
     "start_time": "2021-08-11T04:14:33.790404",
     "status": "completed"
    },
    "tags": []
   },
   "outputs": [
    {
     "data": {
      "application/javascript": [
       "parent.postMessage({\"jupyterEvent\": \"custom.exercise_interaction\", \"data\": {\"interactionType\": 3, \"questionType\": 2, \"questionId\": \"5.3_OneSauce\", \"learnToolsVersion\": \"0.3.4\", \"valueTowardsCompletion\": 0.0, \"failureMessage\": \"\", \"exceptionClass\": \"\", \"trace\": \"\", \"outcomeType\": 4}}, \"*\")"
      ],
      "text/plain": [
       "<IPython.core.display.Javascript object>"
      ]
     },
     "metadata": {},
     "output_type": "display_data"
    },
    {
     "data": {
      "text/markdown": [
       "<span style=\"color:#33cc99\">Solution:</span> \n",
       "```python\n",
       "return (ketchup and not mustard) or (mustard and not ketchup)\n",
       "```"
      ],
      "text/plain": [
       "Solution: \n",
       "```python\n",
       "return (ketchup and not mustard) or (mustard and not ketchup)\n",
       "```"
      ]
     },
     "metadata": {},
     "output_type": "display_data"
    }
   ],
   "source": [
    "#q5.c.hint()\n",
    "q5.c.solution()"
   ]
  },
  {
   "cell_type": "markdown",
   "id": "14b4ee29",
   "metadata": {
    "papermill": {
     "duration": 0.042404,
     "end_time": "2021-08-11T04:14:33.928397",
     "exception": false,
     "start_time": "2021-08-11T04:14:33.885993",
     "status": "completed"
    },
    "tags": []
   },
   "source": [
    "# 6. <span title=\"A bit spicy\" style=\"color: darkgreen \">🌶️</span>\n",
    "\n",
    "We’ve seen that calling `bool()` on an integer returns `False` if it’s equal to 0 and `True` otherwise. What happens if we call `int()` on a bool? Try it out in the notebook cell below.\n",
    "\n",
    "Can you take advantage of this to write a succinct function that corresponds to the English sentence \"does the customer want exactly one topping?\"?"
   ]
  },
  {
   "cell_type": "code",
   "execution_count": 19,
   "id": "30ae0a7e",
   "metadata": {
    "execution": {
     "iopub.execute_input": "2021-08-11T04:14:34.019633Z",
     "iopub.status.busy": "2021-08-11T04:14:34.018921Z",
     "iopub.status.idle": "2021-08-11T04:14:34.023876Z",
     "shell.execute_reply": "2021-08-11T04:14:34.024379Z",
     "shell.execute_reply.started": "2021-08-11T04:04:58.932831Z"
    },
    "papermill": {
     "duration": 0.053562,
     "end_time": "2021-08-11T04:14:34.024563",
     "exception": false,
     "start_time": "2021-08-11T04:14:33.971001",
     "status": "completed"
    },
    "tags": []
   },
   "outputs": [
    {
     "data": {
      "application/javascript": [
       "parent.postMessage({\"jupyterEvent\": \"custom.exercise_interaction\", \"data\": {\"outcomeType\": 1, \"valueTowardsCompletion\": 0.2, \"interactionType\": 1, \"questionType\": 2, \"questionId\": \"6_OneTopping\", \"learnToolsVersion\": \"0.3.4\", \"failureMessage\": \"\", \"exceptionClass\": \"\", \"trace\": \"\"}}, \"*\")"
      ],
      "text/plain": [
       "<IPython.core.display.Javascript object>"
      ]
     },
     "metadata": {},
     "output_type": "display_data"
    },
    {
     "data": {
      "text/markdown": [
       "<span style=\"color:#33cc33\">Correct:</span> \n",
       "\n",
       "This condition would be pretty complicated to express using just `and`, `or` and `not`, but using boolean-to-integer conversion gives us this short solution:\n",
       "```python\n",
       "return (int(ketchup) + int(mustard) + int(onion)) == 1\n",
       "```\n",
       "\n",
       "Fun fact: we don't technically need to call `int` on the arguments. Just by doing addition with booleans, Python implicitly does the integer conversion. So we could also write...\n",
       "\n",
       "```python\n",
       "return (ketchup + mustard + onion) == 1\n",
       "```"
      ],
      "text/plain": [
       "Correct: \n",
       "\n",
       "This condition would be pretty complicated to express using just `and`, `or` and `not`, but using boolean-to-integer conversion gives us this short solution:\n",
       "```python\n",
       "return (int(ketchup) + int(mustard) + int(onion)) == 1\n",
       "```\n",
       "\n",
       "Fun fact: we don't technically need to call `int` on the arguments. Just by doing addition with booleans, Python implicitly does the integer conversion. So we could also write...\n",
       "\n",
       "```python\n",
       "return (ketchup + mustard + onion) == 1\n",
       "```"
      ]
     },
     "metadata": {},
     "output_type": "display_data"
    }
   ],
   "source": [
    "def exactly_one_topping(ketchup, mustard, onion):\n",
    "    \"\"\"Return whether the customer wants exactly one of the three available toppings\n",
    "    on their hot dog.\n",
    "    \"\"\"\n",
    "    return (ketchup + mustard + onion) == 1\n",
    "\n",
    "# Check your answer\n",
    "q6.check()"
   ]
  },
  {
   "cell_type": "code",
   "execution_count": 20,
   "id": "b801bc4a",
   "metadata": {
    "execution": {
     "iopub.execute_input": "2021-08-11T04:14:34.114442Z",
     "iopub.status.busy": "2021-08-11T04:14:34.113813Z",
     "iopub.status.idle": "2021-08-11T04:14:34.120022Z",
     "shell.execute_reply": "2021-08-11T04:14:34.120614Z",
     "shell.execute_reply.started": "2021-08-11T04:03:25.199443Z"
    },
    "papermill": {
     "duration": 0.052873,
     "end_time": "2021-08-11T04:14:34.120825",
     "exception": false,
     "start_time": "2021-08-11T04:14:34.067952",
     "status": "completed"
    },
    "tags": []
   },
   "outputs": [
    {
     "data": {
      "application/javascript": [
       "parent.postMessage({\"jupyterEvent\": \"custom.exercise_interaction\", \"data\": {\"interactionType\": 3, \"questionType\": 2, \"questionId\": \"6_OneTopping\", \"learnToolsVersion\": \"0.3.4\", \"valueTowardsCompletion\": 0.0, \"failureMessage\": \"\", \"exceptionClass\": \"\", \"trace\": \"\", \"outcomeType\": 4}}, \"*\")"
      ],
      "text/plain": [
       "<IPython.core.display.Javascript object>"
      ]
     },
     "metadata": {},
     "output_type": "display_data"
    },
    {
     "data": {
      "text/markdown": [
       "<span style=\"color:#33cc99\">Solution:</span> This condition would be pretty complicated to express using just `and`, `or` and `not`, but using boolean-to-integer conversion gives us this short solution:\n",
       "```python\n",
       "return (int(ketchup) + int(mustard) + int(onion)) == 1\n",
       "```\n",
       "\n",
       "Fun fact: we don't technically need to call `int` on the arguments. Just by doing addition with booleans, Python implicitly does the integer conversion. So we could also write...\n",
       "\n",
       "```python\n",
       "return (ketchup + mustard + onion) == 1\n",
       "```"
      ],
      "text/plain": [
       "Solution: This condition would be pretty complicated to express using just `and`, `or` and `not`, but using boolean-to-integer conversion gives us this short solution:\n",
       "```python\n",
       "return (int(ketchup) + int(mustard) + int(onion)) == 1\n",
       "```\n",
       "\n",
       "Fun fact: we don't technically need to call `int` on the arguments. Just by doing addition with booleans, Python implicitly does the integer conversion. So we could also write...\n",
       "\n",
       "```python\n",
       "return (ketchup + mustard + onion) == 1\n",
       "```"
      ]
     },
     "metadata": {},
     "output_type": "display_data"
    }
   ],
   "source": [
    "#q6.hint()\n",
    "q6.solution()"
   ]
  },
  {
   "cell_type": "markdown",
   "id": "9b1a9ec5",
   "metadata": {
    "papermill": {
     "duration": 0.043635,
     "end_time": "2021-08-11T04:14:34.208682",
     "exception": false,
     "start_time": "2021-08-11T04:14:34.165047",
     "status": "completed"
    },
    "tags": []
   },
   "source": [
    "# 7. <span title=\"A bit spicy\" style=\"color: darkgreen \">🌶️</span> (Optional)\n",
    "\n",
    "In this problem we'll be working with a simplified version of [blackjack](https://en.wikipedia.org/wiki/Blackjack) (aka twenty-one). In this version there is one player (who you'll control) and a dealer. Play proceeds as follows:\n",
    "\n",
    "- The player is dealt two face-up cards. The dealer is dealt one face-up card.\n",
    "- The player may ask to be dealt another card ('hit') as many times as they wish. If the sum of their cards exceeds 21, they lose the round immediately.\n",
    "- The dealer then deals additional cards to himself until either:\n",
    "    - the sum of the dealer's cards exceeds 21, in which case the player wins the round\n",
    "    - the sum of the dealer's cards is greater than or equal to 17. If the player's total is greater than the dealer's, the player wins. Otherwise, the dealer wins (even in case of a tie).\n",
    "    \n",
    "When calculating the sum of cards, Jack, Queen, and King count for 10. Aces can count as 1 or 11 (when referring to a player's \"total\" above, we mean the largest total that can be made without exceeding 21. So e.g. A+8 = 19, A+8+8 = 17)\n",
    "\n",
    "For this problem, you'll write a function representing the player's decision-making strategy in this game. We've provided a very unintelligent implementation below:"
   ]
  },
  {
   "cell_type": "code",
   "execution_count": 21,
   "id": "4344fc14",
   "metadata": {
    "execution": {
     "iopub.execute_input": "2021-08-11T04:14:34.300642Z",
     "iopub.status.busy": "2021-08-11T04:14:34.300000Z",
     "iopub.status.idle": "2021-08-11T04:14:34.304247Z",
     "shell.execute_reply": "2021-08-11T04:14:34.304807Z"
    },
    "papermill": {
     "duration": 0.051705,
     "end_time": "2021-08-11T04:14:34.304999",
     "exception": false,
     "start_time": "2021-08-11T04:14:34.253294",
     "status": "completed"
    },
    "tags": []
   },
   "outputs": [],
   "source": [
    "def should_hit(dealer_total, player_total, player_low_aces, player_high_aces):\n",
    "    \"\"\"Return True if the player should hit (request another card) given the current game\n",
    "    state, or False if the player should stay.\n",
    "    When calculating a hand's total value, we count aces as \"high\" (with value 11) if doing so\n",
    "    doesn't bring the total above 21, otherwise we count them as low (with value 1). \n",
    "    For example, if the player's hand is {A, A, A, 7}, we will count it as 11 + 1 + 1 + 7,\n",
    "    and therefore set player_total=20, player_low_aces=2, player_high_aces=1.\n",
    "    \"\"\"\n",
    "    return False"
   ]
  },
  {
   "cell_type": "markdown",
   "id": "02c4a232",
   "metadata": {
    "papermill": {
     "duration": 0.043905,
     "end_time": "2021-08-11T04:14:34.393155",
     "exception": false,
     "start_time": "2021-08-11T04:14:34.349250",
     "status": "completed"
    },
    "tags": []
   },
   "source": [
    "This very conservative agent *always* sticks with the hand of two cards that they're dealt.\n",
    "\n",
    "We'll be simulating games between your player agent and our own dealer agent by calling your function.\n",
    "\n",
    "Try running the function below to see an example of a simulated game:"
   ]
  },
  {
   "cell_type": "code",
   "execution_count": 22,
   "id": "d61f70c9",
   "metadata": {
    "execution": {
     "iopub.execute_input": "2021-08-11T04:14:34.484214Z",
     "iopub.status.busy": "2021-08-11T04:14:34.483588Z",
     "iopub.status.idle": "2021-08-11T04:14:34.491050Z",
     "shell.execute_reply": "2021-08-11T04:14:34.490281Z"
    },
    "papermill": {
     "duration": 0.054225,
     "end_time": "2021-08-11T04:14:34.491271",
     "exception": false,
     "start_time": "2021-08-11T04:14:34.437046",
     "status": "completed"
    },
    "tags": []
   },
   "outputs": [
    {
     "name": "stdout",
     "output_type": "stream",
     "text": [
      "Player starts with 5 and J (total = 15)\n",
      "Dealer starts with 2\n",
      "\n",
      "__Player's turn__\n",
      "Player stays\n",
      "\n",
      "__Dealer's turn__\n",
      "Dealer hits and receives 3. (total = 5)\n",
      "Dealer hits and receives J. (total = 15)\n",
      "Dealer hits and receives J. (total = 25)\n",
      "Dealer busts! Player wins.\n"
     ]
    }
   ],
   "source": [
    "q7.simulate_one_game()"
   ]
  },
  {
   "cell_type": "markdown",
   "id": "c298c244",
   "metadata": {
    "papermill": {
     "duration": 0.043936,
     "end_time": "2021-08-11T04:14:34.580684",
     "exception": false,
     "start_time": "2021-08-11T04:14:34.536748",
     "status": "completed"
    },
    "tags": []
   },
   "source": [
    "The real test of your agent's mettle is their average win rate over many games. Try calling the function below to simulate 50000 games of blackjack (it may take a couple seconds):"
   ]
  },
  {
   "cell_type": "code",
   "execution_count": 23,
   "id": "d69df977",
   "metadata": {
    "execution": {
     "iopub.execute_input": "2021-08-11T04:14:34.708864Z",
     "iopub.status.busy": "2021-08-11T04:14:34.682909Z",
     "iopub.status.idle": "2021-08-11T04:14:36.682122Z",
     "shell.execute_reply": "2021-08-11T04:14:36.681562Z"
    },
    "papermill": {
     "duration": 2.057136,
     "end_time": "2021-08-11T04:14:36.682297",
     "exception": false,
     "start_time": "2021-08-11T04:14:34.625161",
     "status": "completed"
    },
    "tags": []
   },
   "outputs": [
    {
     "name": "stdout",
     "output_type": "stream",
     "text": [
      "Player won 19039 out of 50000 games (win rate = 38.1%)\n"
     ]
    }
   ],
   "source": [
    "q7.simulate(n_games=50000)"
   ]
  },
  {
   "cell_type": "markdown",
   "id": "525b2513",
   "metadata": {
    "papermill": {
     "duration": 0.045478,
     "end_time": "2021-08-11T04:14:36.773481",
     "exception": false,
     "start_time": "2021-08-11T04:14:36.728003",
     "status": "completed"
    },
    "tags": []
   },
   "source": [
    "Our dumb agent that completely ignores the game state still manages to win shockingly often!\n",
    "\n",
    "Try adding some more smarts to the `should_hit` function and see how it affects the results."
   ]
  },
  {
   "cell_type": "code",
   "execution_count": 24,
   "id": "a4b774a7",
   "metadata": {
    "execution": {
     "iopub.execute_input": "2021-08-11T04:14:36.889347Z",
     "iopub.status.busy": "2021-08-11T04:14:36.884408Z",
     "iopub.status.idle": "2021-08-11T04:14:38.864312Z",
     "shell.execute_reply": "2021-08-11T04:14:38.863759Z"
    },
    "papermill": {
     "duration": 2.044632,
     "end_time": "2021-08-11T04:14:38.864458",
     "exception": false,
     "start_time": "2021-08-11T04:14:36.819826",
     "status": "completed"
    },
    "tags": []
   },
   "outputs": [
    {
     "name": "stdout",
     "output_type": "stream",
     "text": [
      "Player won 19023 out of 50000 games (win rate = 38.0%)\n"
     ]
    }
   ],
   "source": [
    "def should_hit(dealer_total, player_total, player_low_aces, player_high_aces):\n",
    "    \"\"\"Return True if the player should hit (request another card) given the current game\n",
    "    state, or False if the player should stay.\n",
    "    When calculating a hand's total value, we count aces as \"high\" (with value 11) if doing so\n",
    "    doesn't bring the total above 21, otherwise we count them as low (with value 1). \n",
    "    For example, if the player's hand is {A, A, A, 7}, we will count it as 11 + 1 + 1 + 7,\n",
    "    and therefore set player_total=20, player_low_aces=2, player_high_aces=1.\n",
    "    \"\"\"\n",
    "    return False\n",
    "\n",
    "q7.simulate(n_games=50000)"
   ]
  },
  {
   "cell_type": "markdown",
   "id": "ea8b4a4b",
   "metadata": {
    "papermill": {
     "duration": 0.045099,
     "end_time": "2021-08-11T04:14:38.954341",
     "exception": false,
     "start_time": "2021-08-11T04:14:38.909242",
     "status": "completed"
    },
    "tags": []
   },
   "source": [
    "# Keep Going\n",
    "\n",
    "Learn about **[lists and tuples](https://www.kaggle.com/colinmorris/lists)** to handle multiple items of data in a systematic way."
   ]
  },
  {
   "cell_type": "markdown",
   "id": "16f63139",
   "metadata": {
    "papermill": {
     "duration": 0.045012,
     "end_time": "2021-08-11T04:14:39.045484",
     "exception": false,
     "start_time": "2021-08-11T04:14:39.000472",
     "status": "completed"
    },
    "tags": []
   },
   "source": [
    "---\n",
    "\n",
    "\n",
    "\n",
    "\n",
    "*Have questions or comments? Visit the [Learn Discussion forum](https://www.kaggle.com/learn-forum/161283) to chat with other Learners.*"
   ]
  }
 ],
 "metadata": {
  "kernelspec": {
   "display_name": "Python 3",
   "language": "python",
   "name": "python3"
  },
  "language_info": {
   "codemirror_mode": {
    "name": "ipython",
    "version": 3
   },
   "file_extension": ".py",
   "mimetype": "text/x-python",
   "name": "python",
   "nbconvert_exporter": "python",
   "pygments_lexer": "ipython3",
   "version": "3.7.10"
  },
  "papermill": {
   "default_parameters": {},
   "duration": 17.880127,
   "end_time": "2021-08-11T04:14:40.801480",
   "environment_variables": {},
   "exception": null,
   "input_path": "__notebook__.ipynb",
   "output_path": "__notebook__.ipynb",
   "parameters": {},
   "start_time": "2021-08-11T04:14:22.921353",
   "version": "2.3.3"
  }
 },
 "nbformat": 4,
 "nbformat_minor": 5
}
