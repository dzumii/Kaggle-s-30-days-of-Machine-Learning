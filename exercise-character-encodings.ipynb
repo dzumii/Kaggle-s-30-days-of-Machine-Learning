{
 "cells": [
  {
   "cell_type": "markdown",
   "id": "5f9d6ef9",
   "metadata": {
    "papermill": {
     "duration": 0.011769,
     "end_time": "2021-08-18T01:44:42.115681",
     "exception": false,
     "start_time": "2021-08-18T01:44:42.103912",
     "status": "completed"
    },
    "tags": []
   },
   "source": [
    "**This notebook is an exercise in the [Data Cleaning](https://www.kaggle.com/learn/data-cleaning) course.  You can reference the tutorial at [this link](https://www.kaggle.com/alexisbcook/character-encodings).**\n",
    "\n",
    "---\n"
   ]
  },
  {
   "cell_type": "markdown",
   "id": "5c704706",
   "metadata": {
    "papermill": {
     "duration": 0.010393,
     "end_time": "2021-08-18T01:44:42.137306",
     "exception": false,
     "start_time": "2021-08-18T01:44:42.126913",
     "status": "completed"
    },
    "tags": []
   },
   "source": [
    "In this exercise, you'll apply what you learned in the **Character encodings** tutorial.\n",
    "\n",
    "# Setup\n",
    "\n",
    "The questions below will give you feedback on your work. Run the following cell to set up the feedback system."
   ]
  },
  {
   "cell_type": "code",
   "execution_count": 1,
   "id": "5248e736",
   "metadata": {
    "execution": {
     "iopub.execute_input": "2021-08-18T01:44:42.168925Z",
     "iopub.status.busy": "2021-08-18T01:44:42.168296Z",
     "iopub.status.idle": "2021-08-18T01:44:42.337619Z",
     "shell.execute_reply": "2021-08-18T01:44:42.338094Z",
     "shell.execute_reply.started": "2021-08-18T01:18:36.791024Z"
    },
    "papermill": {
     "duration": 0.190445,
     "end_time": "2021-08-18T01:44:42.338409",
     "exception": false,
     "start_time": "2021-08-18T01:44:42.147964",
     "status": "completed"
    },
    "tags": []
   },
   "outputs": [
    {
     "name": "stdout",
     "output_type": "stream",
     "text": [
      "Setup Complete\n"
     ]
    }
   ],
   "source": [
    "from learntools.core import binder\n",
    "binder.bind(globals())\n",
    "from learntools.data_cleaning.ex4 import *\n",
    "print(\"Setup Complete\")"
   ]
  },
  {
   "cell_type": "markdown",
   "id": "df69c448",
   "metadata": {
    "papermill": {
     "duration": 0.0106,
     "end_time": "2021-08-18T01:44:42.360691",
     "exception": false,
     "start_time": "2021-08-18T01:44:42.350091",
     "status": "completed"
    },
    "tags": []
   },
   "source": [
    "# Get our environment set up\n",
    "\n",
    "The first thing we'll need to do is load in the libraries we'll be using."
   ]
  },
  {
   "cell_type": "code",
   "execution_count": 2,
   "id": "ef040783",
   "metadata": {
    "execution": {
     "iopub.execute_input": "2021-08-18T01:44:42.385167Z",
     "iopub.status.busy": "2021-08-18T01:44:42.384566Z",
     "iopub.status.idle": "2021-08-18T01:44:42.387917Z",
     "shell.execute_reply": "2021-08-18T01:44:42.388338Z",
     "shell.execute_reply.started": "2021-08-18T01:36:27.413745Z"
    },
    "papermill": {
     "duration": 0.016961,
     "end_time": "2021-08-18T01:44:42.388497",
     "exception": false,
     "start_time": "2021-08-18T01:44:42.371536",
     "status": "completed"
    },
    "tags": []
   },
   "outputs": [],
   "source": [
    "# modules we'll use\n",
    "import pandas as pd\n",
    "import numpy as np\n",
    "\n",
    "# helpful character encoding module\n",
    "import chardet\n",
    "\n",
    "# set seed for reproducibility\n",
    "np.random.seed(0)"
   ]
  },
  {
   "cell_type": "markdown",
   "id": "096d3870",
   "metadata": {
    "papermill": {
     "duration": 0.010944,
     "end_time": "2021-08-18T01:44:42.410547",
     "exception": false,
     "start_time": "2021-08-18T01:44:42.399603",
     "status": "completed"
    },
    "tags": []
   },
   "source": [
    "# 1) What are encodings?\n",
    "\n",
    "You're working with a dataset composed of bytes.  Run the code cell below to print a sample entry."
   ]
  },
  {
   "cell_type": "code",
   "execution_count": 3,
   "id": "e1bf7bcc",
   "metadata": {
    "execution": {
     "iopub.execute_input": "2021-08-18T01:44:42.436000Z",
     "iopub.status.busy": "2021-08-18T01:44:42.435413Z",
     "iopub.status.idle": "2021-08-18T01:44:42.440835Z",
     "shell.execute_reply": "2021-08-18T01:44:42.440377Z",
     "shell.execute_reply.started": "2021-08-18T01:36:46.193207Z"
    },
    "papermill": {
     "duration": 0.019129,
     "end_time": "2021-08-18T01:44:42.440966",
     "exception": false,
     "start_time": "2021-08-18T01:44:42.421837",
     "status": "completed"
    },
    "tags": []
   },
   "outputs": [
    {
     "name": "stdout",
     "output_type": "stream",
     "text": [
      "b'\\xa7A\\xa6n'\n",
      "data type: <class 'bytes'>\n"
     ]
    }
   ],
   "source": [
    "sample_entry = b'\\xa7A\\xa6n'\n",
    "print(sample_entry)\n",
    "print('data type:', type(sample_entry))"
   ]
  },
  {
   "cell_type": "markdown",
   "id": "e3bd2def",
   "metadata": {
    "papermill": {
     "duration": 0.010926,
     "end_time": "2021-08-18T01:44:42.462935",
     "exception": false,
     "start_time": "2021-08-18T01:44:42.452009",
     "status": "completed"
    },
    "tags": []
   },
   "source": [
    "You notice that it doesn't use the standard UTF-8 encoding. \n",
    "\n",
    "Use the next code cell to create a variable `new_entry` that changes the encoding from `\"big5-tw\"` to `\"utf-8\"`.  `new_entry` should have the bytes datatype."
   ]
  },
  {
   "cell_type": "code",
   "execution_count": 4,
   "id": "daeddb61",
   "metadata": {
    "execution": {
     "iopub.execute_input": "2021-08-18T01:44:42.492765Z",
     "iopub.status.busy": "2021-08-18T01:44:42.492121Z",
     "iopub.status.idle": "2021-08-18T01:44:42.498073Z",
     "shell.execute_reply": "2021-08-18T01:44:42.497516Z",
     "shell.execute_reply.started": "2021-08-18T01:37:53.643770Z"
    },
    "papermill": {
     "duration": 0.024071,
     "end_time": "2021-08-18T01:44:42.498200",
     "exception": false,
     "start_time": "2021-08-18T01:44:42.474129",
     "status": "completed"
    },
    "tags": []
   },
   "outputs": [
    {
     "data": {
      "application/javascript": [
       "parent.postMessage({\"jupyterEvent\": \"custom.exercise_interaction\", \"data\": {\"outcomeType\": 1, \"valueTowardsCompletion\": 0.3333333333333333, \"interactionType\": 1, \"questionType\": 1, \"questionId\": \"1_EncodingsIntro\", \"learnToolsVersion\": \"0.3.4\", \"failureMessage\": \"\", \"exceptionClass\": \"\", \"trace\": \"\"}}, \"*\")"
      ],
      "text/plain": [
       "<IPython.core.display.Javascript object>"
      ]
     },
     "metadata": {},
     "output_type": "display_data"
    },
    {
     "data": {
      "text/markdown": [
       "<span style=\"color:#33cc33\">Correct</span>"
      ],
      "text/plain": [
       "Correct"
      ]
     },
     "metadata": {},
     "output_type": "display_data"
    }
   ],
   "source": [
    "before = sample_entry.decode(\"big5-tw\")\n",
    "new_entry = before.encode()\n",
    "\n",
    "# Check your answer\n",
    "q1.check()"
   ]
  },
  {
   "cell_type": "code",
   "execution_count": 5,
   "id": "83fee9f4",
   "metadata": {
    "execution": {
     "iopub.execute_input": "2021-08-18T01:44:42.526137Z",
     "iopub.status.busy": "2021-08-18T01:44:42.525318Z",
     "iopub.status.idle": "2021-08-18T01:44:42.528118Z",
     "shell.execute_reply": "2021-08-18T01:44:42.527645Z",
     "shell.execute_reply.started": "2021-08-18T01:38:00.732737Z"
    },
    "papermill": {
     "duration": 0.018019,
     "end_time": "2021-08-18T01:44:42.528243",
     "exception": false,
     "start_time": "2021-08-18T01:44:42.510224",
     "status": "completed"
    },
    "tags": []
   },
   "outputs": [],
   "source": [
    "# Lines below will give you a hint or solution code\n",
    "#q1.hint()\n",
    "#q1.solution()"
   ]
  },
  {
   "cell_type": "markdown",
   "id": "96b1138e",
   "metadata": {
    "papermill": {
     "duration": 0.011509,
     "end_time": "2021-08-18T01:44:42.551679",
     "exception": false,
     "start_time": "2021-08-18T01:44:42.540170",
     "status": "completed"
    },
    "tags": []
   },
   "source": [
    "# 2) Reading in files with encoding problems\n",
    "\n",
    "Use the code cell below to read in this file at path `\"../input/fatal-police-shootings-in-the-us/PoliceKillingsUS.csv\"`.  \n",
    "\n",
    "Figure out what the correct encoding should be and read in the file to a DataFrame `police_killings`."
   ]
  },
  {
   "cell_type": "code",
   "execution_count": 6,
   "id": "5a62e177",
   "metadata": {
    "execution": {
     "iopub.execute_input": "2021-08-18T01:44:42.579914Z",
     "iopub.status.busy": "2021-08-18T01:44:42.579044Z",
     "iopub.status.idle": "2021-08-18T01:44:43.553862Z",
     "shell.execute_reply": "2021-08-18T01:44:43.554314Z",
     "shell.execute_reply.started": "2021-08-18T01:43:10.134304Z"
    },
    "papermill": {
     "duration": 0.991003,
     "end_time": "2021-08-18T01:44:43.554519",
     "exception": false,
     "start_time": "2021-08-18T01:44:42.563516",
     "status": "completed"
    },
    "tags": []
   },
   "outputs": [
    {
     "name": "stdout",
     "output_type": "stream",
     "text": [
      "{'encoding': 'Windows-1252', 'confidence': 0.73, 'language': ''}\n"
     ]
    }
   ],
   "source": [
    "with open(\"../input/fatal-police-shootings-in-the-us/PoliceKillingsUS.csv\",'rb') as rawdata:\n",
    "    result = chardet.detect(rawdata.read(100000))\n",
    "\n",
    "# check what the character encoding might be\n",
    "print(result)"
   ]
  },
  {
   "cell_type": "code",
   "execution_count": 7,
   "id": "322ad250",
   "metadata": {
    "execution": {
     "iopub.execute_input": "2021-08-18T01:44:43.587216Z",
     "iopub.status.busy": "2021-08-18T01:44:43.586646Z",
     "iopub.status.idle": "2021-08-18T01:44:43.610783Z",
     "shell.execute_reply": "2021-08-18T01:44:43.611276Z",
     "shell.execute_reply.started": "2021-08-18T01:43:21.225999Z"
    },
    "papermill": {
     "duration": 0.04373,
     "end_time": "2021-08-18T01:44:43.611474",
     "exception": false,
     "start_time": "2021-08-18T01:44:43.567744",
     "status": "completed"
    },
    "tags": []
   },
   "outputs": [
    {
     "data": {
      "application/javascript": [
       "parent.postMessage({\"jupyterEvent\": \"custom.exercise_interaction\", \"data\": {\"outcomeType\": 1, \"valueTowardsCompletion\": 0.3333333333333333, \"interactionType\": 1, \"questionType\": 1, \"questionId\": \"2_ReadIn\", \"learnToolsVersion\": \"0.3.4\", \"failureMessage\": \"\", \"exceptionClass\": \"\", \"trace\": \"\"}}, \"*\")"
      ],
      "text/plain": [
       "<IPython.core.display.Javascript object>"
      ]
     },
     "metadata": {},
     "output_type": "display_data"
    },
    {
     "data": {
      "text/markdown": [
       "<span style=\"color:#33cc33\">Correct</span>"
      ],
      "text/plain": [
       "Correct"
      ]
     },
     "metadata": {},
     "output_type": "display_data"
    }
   ],
   "source": [
    "# TODO: Load in the DataFrame correctly.\n",
    "\n",
    "police_killings = pd.read_csv(\"../input/fatal-police-shootings-in-the-us/PoliceKillingsUS.csv\", encoding='Windows-1252')\n",
    "\n",
    "# Check your answer\n",
    "q2.check()"
   ]
  },
  {
   "cell_type": "markdown",
   "id": "9ccd8ea2",
   "metadata": {
    "papermill": {
     "duration": 0.014999,
     "end_time": "2021-08-18T01:44:43.639944",
     "exception": false,
     "start_time": "2021-08-18T01:44:43.624945",
     "status": "completed"
    },
    "tags": []
   },
   "source": [
    "Feel free to use any additional code cells for supplemental work.  To get credit for finishing this question, you'll need to run `q2.check()` and get a result of **Correct**."
   ]
  },
  {
   "cell_type": "code",
   "execution_count": 8,
   "id": "db379a9a",
   "metadata": {
    "execution": {
     "iopub.execute_input": "2021-08-18T01:44:43.670303Z",
     "iopub.status.busy": "2021-08-18T01:44:43.669749Z",
     "iopub.status.idle": "2021-08-18T01:44:43.672651Z",
     "shell.execute_reply": "2021-08-18T01:44:43.672190Z"
    },
    "papermill": {
     "duration": 0.019712,
     "end_time": "2021-08-18T01:44:43.672783",
     "exception": false,
     "start_time": "2021-08-18T01:44:43.653071",
     "status": "completed"
    },
    "tags": []
   },
   "outputs": [],
   "source": [
    "# (Optional) Use this code cell for any additional work."
   ]
  },
  {
   "cell_type": "code",
   "execution_count": 9,
   "id": "2376e492",
   "metadata": {
    "execution": {
     "iopub.execute_input": "2021-08-18T01:44:43.702891Z",
     "iopub.status.busy": "2021-08-18T01:44:43.702239Z",
     "iopub.status.idle": "2021-08-18T01:44:43.704495Z",
     "shell.execute_reply": "2021-08-18T01:44:43.704944Z",
     "shell.execute_reply.started": "2021-08-18T01:43:36.044247Z"
    },
    "papermill": {
     "duration": 0.019128,
     "end_time": "2021-08-18T01:44:43.705098",
     "exception": false,
     "start_time": "2021-08-18T01:44:43.685970",
     "status": "completed"
    },
    "tags": []
   },
   "outputs": [],
   "source": [
    "# Lines below will give you a hint or solution code\n",
    "#q2.hint()\n",
    "#q2.solution()"
   ]
  },
  {
   "cell_type": "markdown",
   "id": "8ea6f226",
   "metadata": {
    "papermill": {
     "duration": 0.013531,
     "end_time": "2021-08-18T01:44:43.731713",
     "exception": false,
     "start_time": "2021-08-18T01:44:43.718182",
     "status": "completed"
    },
    "tags": []
   },
   "source": [
    "# 3) Saving your files with UTF-8 encoding\n",
    "\n",
    "Save a version of the police killings dataset to CSV with UTF-8 encoding.  Your answer will be marked correct after saving this file.  \n",
    "\n",
    "Note: When using the `to_csv()` method, supply only the name of the file (e.g., `\"my_file.csv\"`).  This saves the file at the filepath `\"/kaggle/working/my_file.csv\"`."
   ]
  },
  {
   "cell_type": "code",
   "execution_count": 10,
   "id": "cd349a78",
   "metadata": {
    "execution": {
     "iopub.execute_input": "2021-08-18T01:44:43.763488Z",
     "iopub.status.busy": "2021-08-18T01:44:43.762828Z",
     "iopub.status.idle": "2021-08-18T01:44:43.792346Z",
     "shell.execute_reply": "2021-08-18T01:44:43.791775Z",
     "shell.execute_reply.started": "2021-08-18T01:44:18.982105Z"
    },
    "papermill": {
     "duration": 0.047047,
     "end_time": "2021-08-18T01:44:43.792510",
     "exception": false,
     "start_time": "2021-08-18T01:44:43.745463",
     "status": "completed"
    },
    "tags": []
   },
   "outputs": [
    {
     "data": {
      "application/javascript": [
       "parent.postMessage({\"jupyterEvent\": \"custom.exercise_interaction\", \"data\": {\"outcomeType\": 1, \"valueTowardsCompletion\": 0.3333333333333333, \"interactionType\": 1, \"questionType\": 2, \"questionId\": \"3_SaveCSV\", \"learnToolsVersion\": \"0.3.4\", \"failureMessage\": \"\", \"exceptionClass\": \"\", \"trace\": \"\"}}, \"*\")"
      ],
      "text/plain": [
       "<IPython.core.display.Javascript object>"
      ]
     },
     "metadata": {},
     "output_type": "display_data"
    },
    {
     "data": {
      "text/markdown": [
       "<span style=\"color:#33cc33\">Correct</span>"
      ],
      "text/plain": [
       "Correct"
      ]
     },
     "metadata": {},
     "output_type": "display_data"
    }
   ],
   "source": [
    "# TODO: Save the police killings dataset to CSV\n",
    "police_killings.to_csv(\"my_file.csv\")\n",
    "\n",
    "# Check your answer\n",
    "q3.check()"
   ]
  },
  {
   "cell_type": "code",
   "execution_count": 11,
   "id": "77e377e7",
   "metadata": {
    "execution": {
     "iopub.execute_input": "2021-08-18T01:44:43.825972Z",
     "iopub.status.busy": "2021-08-18T01:44:43.825097Z",
     "iopub.status.idle": "2021-08-18T01:44:43.830448Z",
     "shell.execute_reply": "2021-08-18T01:44:43.829893Z",
     "shell.execute_reply.started": "2021-08-18T01:43:59.243618Z"
    },
    "papermill": {
     "duration": 0.023838,
     "end_time": "2021-08-18T01:44:43.830582",
     "exception": false,
     "start_time": "2021-08-18T01:44:43.806744",
     "status": "completed"
    },
    "tags": []
   },
   "outputs": [
    {
     "data": {
      "application/javascript": [
       "parent.postMessage({\"jupyterEvent\": \"custom.exercise_interaction\", \"data\": {\"interactionType\": 3, \"questionType\": 2, \"questionId\": \"3_SaveCSV\", \"learnToolsVersion\": \"0.3.4\", \"valueTowardsCompletion\": 0.0, \"failureMessage\": \"\", \"exceptionClass\": \"\", \"trace\": \"\", \"outcomeType\": 4}}, \"*\")"
      ],
      "text/plain": [
       "<IPython.core.display.Javascript object>"
      ]
     },
     "metadata": {},
     "output_type": "display_data"
    },
    {
     "data": {
      "text/markdown": [
       "<span style=\"color:#33cc99\">Solution:</span> \n",
       "```python\n",
       "\n",
       "police_killings.to_csv(\"my_file.csv\")\n",
       "\n",
       "```"
      ],
      "text/plain": [
       "Solution: \n",
       "```python\n",
       "\n",
       "police_killings.to_csv(\"my_file.csv\")\n",
       "\n",
       "```"
      ]
     },
     "metadata": {},
     "output_type": "display_data"
    }
   ],
   "source": [
    "# Lines below will give you a hint or solution code\n",
    "#q3.hint()\n",
    "q3.solution()"
   ]
  },
  {
   "cell_type": "markdown",
   "id": "f9c6ccdf",
   "metadata": {
    "papermill": {
     "duration": 0.014431,
     "end_time": "2021-08-18T01:44:43.860424",
     "exception": false,
     "start_time": "2021-08-18T01:44:43.845993",
     "status": "completed"
    },
    "tags": []
   },
   "source": [
    "# (Optional) More practice\n",
    "\n",
    "Check out [this dataset of files in different character encodings](https://www.kaggle.com/rtatman/character-encoding-examples). Can you read in all the files with their original encodings and them save them out as UTF-8 files?\n",
    "\n",
    "If you have a file that's in UTF-8 but has just a couple of weird-looking characters in it, you can try out the [ftfy module](https://ftfy.readthedocs.io/en/latest/#) and see if it helps. \n",
    "\n",
    "# Keep going\n",
    "\n",
    "In the final lesson, learn how to [**clean up inconsistent text entries**](https://www.kaggle.com/alexisbcook/inconsistent-data-entry) in your dataset."
   ]
  },
  {
   "cell_type": "markdown",
   "id": "d2e29f0f",
   "metadata": {
    "papermill": {
     "duration": 0.01428,
     "end_time": "2021-08-18T01:44:43.890381",
     "exception": false,
     "start_time": "2021-08-18T01:44:43.876101",
     "status": "completed"
    },
    "tags": []
   },
   "source": [
    "---\n",
    "\n",
    "\n",
    "\n",
    "\n",
    "*Have questions or comments? Visit the [Learn Discussion forum](https://www.kaggle.com/learn-forum/172650) to chat with other Learners.*"
   ]
  }
 ],
 "metadata": {
  "kernelspec": {
   "display_name": "Python 3",
   "language": "python",
   "name": "python3"
  },
  "language_info": {
   "codemirror_mode": {
    "name": "ipython",
    "version": 3
   },
   "file_extension": ".py",
   "mimetype": "text/x-python",
   "name": "python",
   "nbconvert_exporter": "python",
   "pygments_lexer": "ipython3",
   "version": "3.7.10"
  },
  "papermill": {
   "default_parameters": {},
   "duration": 9.463797,
   "end_time": "2021-08-18T01:44:44.514115",
   "environment_variables": {},
   "exception": null,
   "input_path": "__notebook__.ipynb",
   "output_path": "__notebook__.ipynb",
   "parameters": {},
   "start_time": "2021-08-18T01:44:35.050318",
   "version": "2.3.3"
  }
 },
 "nbformat": 4,
 "nbformat_minor": 5
}
