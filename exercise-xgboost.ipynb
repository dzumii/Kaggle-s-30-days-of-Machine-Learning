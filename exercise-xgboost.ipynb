{
 "cells": [
  {
   "cell_type": "markdown",
   "id": "e20ac2b5",
   "metadata": {
    "papermill": {
     "duration": 0.016616,
     "end_time": "2021-08-18T01:08:13.749657",
     "exception": false,
     "start_time": "2021-08-18T01:08:13.733041",
     "status": "completed"
    },
    "tags": []
   },
   "source": [
    "**This notebook is an exercise in the [Intermediate Machine Learning](https://www.kaggle.com/learn/intermediate-machine-learning) course.  You can reference the tutorial at [this link](https://www.kaggle.com/alexisbcook/xgboost).**\n",
    "\n",
    "---\n"
   ]
  },
  {
   "cell_type": "markdown",
   "id": "396ddb04",
   "metadata": {
    "papermill": {
     "duration": 0.015279,
     "end_time": "2021-08-18T01:08:13.782065",
     "exception": false,
     "start_time": "2021-08-18T01:08:13.766786",
     "status": "completed"
    },
    "tags": []
   },
   "source": [
    "In this exercise, you will use your new knowledge to train a model with **gradient boosting**.\n",
    "\n",
    "# Setup\n",
    "\n",
    "The questions below will give you feedback on your work. Run the following cell to set up the feedback system."
   ]
  },
  {
   "cell_type": "code",
   "execution_count": 1,
   "id": "f479097c",
   "metadata": {
    "execution": {
     "iopub.execute_input": "2021-08-18T01:08:13.829494Z",
     "iopub.status.busy": "2021-08-18T01:08:13.828813Z",
     "iopub.status.idle": "2021-08-18T01:08:16.113335Z",
     "shell.execute_reply": "2021-08-18T01:08:16.114487Z",
     "shell.execute_reply.started": "2021-08-18T01:05:24.040644Z"
    },
    "papermill": {
     "duration": 2.317459,
     "end_time": "2021-08-18T01:08:16.115074",
     "exception": false,
     "start_time": "2021-08-18T01:08:13.797615",
     "status": "completed"
    },
    "tags": []
   },
   "outputs": [
    {
     "name": "stdout",
     "output_type": "stream",
     "text": [
      "Setup Complete\n"
     ]
    }
   ],
   "source": [
    "# Set up code checking\n",
    "import os\n",
    "if not os.path.exists(\"../input/train.csv\"):\n",
    "    os.symlink(\"../input/home-data-for-ml-course/train.csv\", \"../input/train.csv\")  \n",
    "    os.symlink(\"../input/home-data-for-ml-course/test.csv\", \"../input/test.csv\") \n",
    "from learntools.core import binder\n",
    "binder.bind(globals())\n",
    "from learntools.ml_intermediate.ex6 import *\n",
    "print(\"Setup Complete\")"
   ]
  },
  {
   "cell_type": "markdown",
   "id": "4dcb4e60",
   "metadata": {
    "papermill": {
     "duration": 0.01546,
     "end_time": "2021-08-18T01:08:16.148308",
     "exception": false,
     "start_time": "2021-08-18T01:08:16.132848",
     "status": "completed"
    },
    "tags": []
   },
   "source": [
    "You will work with the [Housing Prices Competition for Kaggle Learn Users](https://www.kaggle.com/c/home-data-for-ml-course) dataset from the previous exercise. \n",
    "\n",
    "![Ames Housing dataset image](https://i.imgur.com/lTJVG4e.png)\n",
    "\n",
    "Run the next code cell without changes to load the training and validation sets in `X_train`, `X_valid`, `y_train`, and `y_valid`.  The test set is loaded in `X_test`."
   ]
  },
  {
   "cell_type": "code",
   "execution_count": 2,
   "id": "f1df0295",
   "metadata": {
    "execution": {
     "iopub.execute_input": "2021-08-18T01:08:16.191395Z",
     "iopub.status.busy": "2021-08-18T01:08:16.190653Z",
     "iopub.status.idle": "2021-08-18T01:08:16.416711Z",
     "shell.execute_reply": "2021-08-18T01:08:16.416077Z",
     "shell.execute_reply.started": "2021-08-18T01:05:33.362247Z"
    },
    "papermill": {
     "duration": 0.252753,
     "end_time": "2021-08-18T01:08:16.416855",
     "exception": false,
     "start_time": "2021-08-18T01:08:16.164102",
     "status": "completed"
    },
    "tags": []
   },
   "outputs": [],
   "source": [
    "import pandas as pd\n",
    "from sklearn.model_selection import train_test_split\n",
    "\n",
    "# Read the data\n",
    "X = pd.read_csv('../input/train.csv', index_col='Id')\n",
    "X_test_full = pd.read_csv('../input/test.csv', index_col='Id')\n",
    "\n",
    "# Remove rows with missing target, separate target from predictors\n",
    "X.dropna(axis=0, subset=['SalePrice'], inplace=True)\n",
    "y = X.SalePrice              \n",
    "X.drop(['SalePrice'], axis=1, inplace=True)\n",
    "\n",
    "# Break off validation set from training data\n",
    "X_train_full, X_valid_full, y_train, y_valid = train_test_split(X, y, train_size=0.8, test_size=0.2,\n",
    "                                                                random_state=0)\n",
    "\n",
    "# \"Cardinality\" means the number of unique values in a column\n",
    "# Select categorical columns with relatively low cardinality (convenient but arbitrary)\n",
    "low_cardinality_cols = [cname for cname in X_train_full.columns if X_train_full[cname].nunique() < 10 and \n",
    "                        X_train_full[cname].dtype == \"object\"]\n",
    "\n",
    "# Select numeric columns\n",
    "numeric_cols = [cname for cname in X_train_full.columns if X_train_full[cname].dtype in ['int64', 'float64']]\n",
    "\n",
    "# Keep selected columns only\n",
    "my_cols = low_cardinality_cols + numeric_cols\n",
    "X_train = X_train_full[my_cols].copy()\n",
    "X_valid = X_valid_full[my_cols].copy()\n",
    "X_test = X_test_full[my_cols].copy()\n",
    "\n",
    "# One-hot encode the data (to shorten the code, we use pandas)\n",
    "X_train = pd.get_dummies(X_train)\n",
    "X_valid = pd.get_dummies(X_valid)\n",
    "X_test = pd.get_dummies(X_test)\n",
    "X_train, X_valid = X_train.align(X_valid, join='left', axis=1)\n",
    "X_train, X_test = X_train.align(X_test, join='left', axis=1)"
   ]
  },
  {
   "cell_type": "markdown",
   "id": "8f68b341",
   "metadata": {
    "papermill": {
     "duration": 0.015488,
     "end_time": "2021-08-18T01:08:16.449639",
     "exception": false,
     "start_time": "2021-08-18T01:08:16.434151",
     "status": "completed"
    },
    "tags": []
   },
   "source": [
    "# Step 1: Build model\n",
    "\n",
    "### Part A\n",
    "\n",
    "In this step, you'll build and train your first model with gradient boosting.\n",
    "\n",
    "- Begin by setting `my_model_1` to an XGBoost model.  Use the [XGBRegressor](https://xgboost.readthedocs.io/en/latest/python/python_api.html#xgboost.XGBRegressor) class, and set the random seed to 0 (`random_state=0`).  **Leave all other parameters as default.**\n",
    "- Then, fit the model to the training data in `X_train` and `y_train`."
   ]
  },
  {
   "cell_type": "code",
   "execution_count": 3,
   "id": "53510a4c",
   "metadata": {
    "execution": {
     "iopub.execute_input": "2021-08-18T01:08:16.487480Z",
     "iopub.status.busy": "2021-08-18T01:08:16.486747Z",
     "iopub.status.idle": "2021-08-18T01:08:17.195591Z",
     "shell.execute_reply": "2021-08-18T01:08:17.196133Z",
     "shell.execute_reply.started": "2021-08-18T01:05:41.480422Z"
    },
    "papermill": {
     "duration": 0.730665,
     "end_time": "2021-08-18T01:08:17.196322",
     "exception": false,
     "start_time": "2021-08-18T01:08:16.465657",
     "status": "completed"
    },
    "tags": []
   },
   "outputs": [
    {
     "data": {
      "application/javascript": [
       "parent.postMessage({\"jupyterEvent\": \"custom.exercise_interaction\", \"data\": {\"outcomeType\": 1, \"valueTowardsCompletion\": 0.5, \"interactionType\": 1, \"questionType\": 2, \"questionId\": \"1.1_Model1A\", \"learnToolsVersion\": \"0.3.4\", \"failureMessage\": \"\", \"exceptionClass\": \"\", \"trace\": \"\"}}, \"*\")"
      ],
      "text/plain": [
       "<IPython.core.display.Javascript object>"
      ]
     },
     "metadata": {},
     "output_type": "display_data"
    },
    {
     "data": {
      "text/markdown": [
       "<span style=\"color:#33cc33\">Correct</span>"
      ],
      "text/plain": [
       "Correct"
      ]
     },
     "metadata": {},
     "output_type": "display_data"
    }
   ],
   "source": [
    "from xgboost import XGBRegressor\n",
    "\n",
    "# Define the model\n",
    "my_model_1 = XGBRegressor(random_state=0) # Your code here\n",
    "\n",
    "# Fit the model\n",
    "my_model_1.fit(X_train, y_train) # Your code here\n",
    "\n",
    "# Check your answer\n",
    "step_1.a.check()"
   ]
  },
  {
   "cell_type": "code",
   "execution_count": 4,
   "id": "26d1844b",
   "metadata": {
    "execution": {
     "iopub.execute_input": "2021-08-18T01:08:17.234551Z",
     "iopub.status.busy": "2021-08-18T01:08:17.233504Z",
     "iopub.status.idle": "2021-08-18T01:08:17.237537Z",
     "shell.execute_reply": "2021-08-18T01:08:17.238177Z"
    },
    "papermill": {
     "duration": 0.024766,
     "end_time": "2021-08-18T01:08:17.238398",
     "exception": false,
     "start_time": "2021-08-18T01:08:17.213632",
     "status": "completed"
    },
    "tags": []
   },
   "outputs": [],
   "source": [
    "# Lines below will give you a hint or solution code\n",
    "#step_1.a.hint()\n",
    "#step_1.a.solution()"
   ]
  },
  {
   "cell_type": "markdown",
   "id": "14769715",
   "metadata": {
    "papermill": {
     "duration": 0.016725,
     "end_time": "2021-08-18T01:08:17.272563",
     "exception": false,
     "start_time": "2021-08-18T01:08:17.255838",
     "status": "completed"
    },
    "tags": []
   },
   "source": [
    "### Part B\n",
    "\n",
    "Set `predictions_1` to the model's predictions for the validation data.  Recall that the validation features are stored in `X_valid`."
   ]
  },
  {
   "cell_type": "code",
   "execution_count": 5,
   "id": "9c78d3c4",
   "metadata": {
    "execution": {
     "iopub.execute_input": "2021-08-18T01:08:17.309803Z",
     "iopub.status.busy": "2021-08-18T01:08:17.308827Z",
     "iopub.status.idle": "2021-08-18T01:08:17.327229Z",
     "shell.execute_reply": "2021-08-18T01:08:17.326607Z",
     "shell.execute_reply.started": "2021-08-18T01:05:48.743278Z"
    },
    "papermill": {
     "duration": 0.037982,
     "end_time": "2021-08-18T01:08:17.327390",
     "exception": false,
     "start_time": "2021-08-18T01:08:17.289408",
     "status": "completed"
    },
    "tags": []
   },
   "outputs": [
    {
     "data": {
      "application/javascript": [
       "parent.postMessage({\"jupyterEvent\": \"custom.exercise_interaction\", \"data\": {\"outcomeType\": 1, \"valueTowardsCompletion\": 0.5, \"interactionType\": 1, \"questionType\": 2, \"questionId\": \"1.2_Model1B\", \"learnToolsVersion\": \"0.3.4\", \"failureMessage\": \"\", \"exceptionClass\": \"\", \"trace\": \"\"}}, \"*\")"
      ],
      "text/plain": [
       "<IPython.core.display.Javascript object>"
      ]
     },
     "metadata": {},
     "output_type": "display_data"
    },
    {
     "data": {
      "text/markdown": [
       "<span style=\"color:#33cc33\">Correct</span>"
      ],
      "text/plain": [
       "Correct"
      ]
     },
     "metadata": {},
     "output_type": "display_data"
    }
   ],
   "source": [
    "from sklearn.metrics import mean_absolute_error\n",
    "\n",
    "# Get predictions\n",
    "predictions_1 = my_model_1.predict(X_valid) # Your code here\n",
    "\n",
    "# Check your answer\n",
    "step_1.b.check()"
   ]
  },
  {
   "cell_type": "code",
   "execution_count": 6,
   "id": "71138056",
   "metadata": {
    "execution": {
     "iopub.execute_input": "2021-08-18T01:08:17.368577Z",
     "iopub.status.busy": "2021-08-18T01:08:17.367826Z",
     "iopub.status.idle": "2021-08-18T01:08:17.369868Z",
     "shell.execute_reply": "2021-08-18T01:08:17.370341Z"
    },
    "papermill": {
     "duration": 0.024076,
     "end_time": "2021-08-18T01:08:17.370519",
     "exception": false,
     "start_time": "2021-08-18T01:08:17.346443",
     "status": "completed"
    },
    "tags": []
   },
   "outputs": [],
   "source": [
    "# Lines below will give you a hint or solution code\n",
    "#step_1.b.hint()\n",
    "#step_1.b.solution()"
   ]
  },
  {
   "cell_type": "markdown",
   "id": "ca2a95d2",
   "metadata": {
    "papermill": {
     "duration": 0.017779,
     "end_time": "2021-08-18T01:08:17.406507",
     "exception": false,
     "start_time": "2021-08-18T01:08:17.388728",
     "status": "completed"
    },
    "tags": []
   },
   "source": [
    "### Part C\n",
    "\n",
    "Finally, use the `mean_absolute_error()` function to calculate the mean absolute error (MAE) corresponding to the predictions for the validation set.  Recall that the labels for the validation data are stored in `y_valid`."
   ]
  },
  {
   "cell_type": "code",
   "execution_count": 7,
   "id": "a64bd6be",
   "metadata": {
    "execution": {
     "iopub.execute_input": "2021-08-18T01:08:17.445997Z",
     "iopub.status.busy": "2021-08-18T01:08:17.445373Z",
     "iopub.status.idle": "2021-08-18T01:08:17.454868Z",
     "shell.execute_reply": "2021-08-18T01:08:17.454209Z",
     "shell.execute_reply.started": "2021-08-18T01:05:52.563382Z"
    },
    "papermill": {
     "duration": 0.030325,
     "end_time": "2021-08-18T01:08:17.455017",
     "exception": false,
     "start_time": "2021-08-18T01:08:17.424692",
     "status": "completed"
    },
    "tags": []
   },
   "outputs": [
    {
     "name": "stdout",
     "output_type": "stream",
     "text": [
      "Mean Absolute Error 1: 17662.736729452055\n"
     ]
    },
    {
     "data": {
      "application/javascript": [
       "parent.postMessage({\"jupyterEvent\": \"custom.exercise_interaction\", \"data\": {\"outcomeType\": 1, \"valueTowardsCompletion\": 0.5, \"interactionType\": 1, \"questionType\": 2, \"questionId\": \"1.3_Model1C\", \"learnToolsVersion\": \"0.3.4\", \"failureMessage\": \"\", \"exceptionClass\": \"\", \"trace\": \"\"}}, \"*\")"
      ],
      "text/plain": [
       "<IPython.core.display.Javascript object>"
      ]
     },
     "metadata": {},
     "output_type": "display_data"
    },
    {
     "data": {
      "text/markdown": [
       "<span style=\"color:#33cc33\">Correct</span>"
      ],
      "text/plain": [
       "Correct"
      ]
     },
     "metadata": {},
     "output_type": "display_data"
    }
   ],
   "source": [
    "# Calculate MAE\n",
    "mae_1 = 17662.736729452055 # Your code here\n",
    "\n",
    "# Uncomment to print MAE\n",
    "print(\"Mean Absolute Error 1: \" + str(mean_absolute_error(predictions_1, y_valid)))\n",
    "\n",
    "# Check your answer\n",
    "step_1.c.check()"
   ]
  },
  {
   "cell_type": "code",
   "execution_count": 8,
   "id": "e790d36c",
   "metadata": {
    "execution": {
     "iopub.execute_input": "2021-08-18T01:08:17.498775Z",
     "iopub.status.busy": "2021-08-18T01:08:17.498105Z",
     "iopub.status.idle": "2021-08-18T01:08:17.501428Z",
     "shell.execute_reply": "2021-08-18T01:08:17.500907Z"
    },
    "papermill": {
     "duration": 0.026894,
     "end_time": "2021-08-18T01:08:17.501571",
     "exception": false,
     "start_time": "2021-08-18T01:08:17.474677",
     "status": "completed"
    },
    "tags": []
   },
   "outputs": [],
   "source": [
    "# Lines below will give you a hint or solution code\n",
    "#step_1.c.hint()\n",
    "#step_1.c.solution()"
   ]
  },
  {
   "cell_type": "markdown",
   "id": "0978b56e",
   "metadata": {
    "papermill": {
     "duration": 0.019681,
     "end_time": "2021-08-18T01:08:17.541072",
     "exception": false,
     "start_time": "2021-08-18T01:08:17.521391",
     "status": "completed"
    },
    "tags": []
   },
   "source": [
    "# Step 2: Improve the model\n",
    "\n",
    "Now that you've trained a default model as baseline, it's time to tinker with the parameters, to see if you can get better performance!\n",
    "- Begin by setting `my_model_2` to an XGBoost model, using the [XGBRegressor](https://xgboost.readthedocs.io/en/latest/python/python_api.html#xgboost.XGBRegressor) class.  Use what you learned in the previous tutorial to figure out how to change the default parameters (like `n_estimators` and `learning_rate`) to get better results.\n",
    "- Then, fit the model to the training data in `X_train` and `y_train`.\n",
    "- Set `predictions_2` to the model's predictions for the validation data.  Recall that the validation features are stored in `X_valid`.\n",
    "- Finally, use the `mean_absolute_error()` function to calculate the mean absolute error (MAE) corresponding to the predictions on the validation set.  Recall that the labels for the validation data are stored in `y_valid`.\n",
    "\n",
    "In order for this step to be marked correct, your model in `my_model_2` must attain lower MAE than the model in `my_model_1`. "
   ]
  },
  {
   "cell_type": "code",
   "execution_count": 9,
   "id": "dbb538bf",
   "metadata": {
    "execution": {
     "iopub.execute_input": "2021-08-18T01:08:17.593536Z",
     "iopub.status.busy": "2021-08-18T01:08:17.592538Z",
     "iopub.status.idle": "2021-08-18T01:08:24.263447Z",
     "shell.execute_reply": "2021-08-18T01:08:24.264008Z",
     "shell.execute_reply.started": "2021-08-18T01:05:58.613677Z"
    },
    "papermill": {
     "duration": 6.702902,
     "end_time": "2021-08-18T01:08:24.264236",
     "exception": false,
     "start_time": "2021-08-18T01:08:17.561334",
     "status": "completed"
    },
    "tags": []
   },
   "outputs": [
    {
     "name": "stdout",
     "output_type": "stream",
     "text": [
      "Mean Absolute Error 2: 16688.691513270547\n"
     ]
    },
    {
     "data": {
      "application/javascript": [
       "parent.postMessage({\"jupyterEvent\": \"custom.exercise_interaction\", \"data\": {\"outcomeType\": 1, \"valueTowardsCompletion\": 0.5, \"interactionType\": 1, \"questionType\": 2, \"questionId\": \"2_Model2\", \"learnToolsVersion\": \"0.3.4\", \"failureMessage\": \"\", \"exceptionClass\": \"\", \"trace\": \"\"}}, \"*\")"
      ],
      "text/plain": [
       "<IPython.core.display.Javascript object>"
      ]
     },
     "metadata": {},
     "output_type": "display_data"
    },
    {
     "data": {
      "text/markdown": [
       "<span style=\"color:#33cc33\">Correct</span>"
      ],
      "text/plain": [
       "Correct"
      ]
     },
     "metadata": {},
     "output_type": "display_data"
    }
   ],
   "source": [
    "# Define the model\n",
    "my_model_2 = XGBRegressor(n_estimators=1000, learning_rate=0.05, n_jobs=4) # Your code here\n",
    "\n",
    "# Fit the model\n",
    "my_model_2.fit(X_train, y_train) # Your code here\n",
    " # Your code here\n",
    "\n",
    "# Get predictions\n",
    "predictions_2 = my_model_2.predict(X_valid) # Your code here\n",
    "\n",
    "# Calculate MAE\n",
    "mae_2 = 16688.691513270547 # Your code here\n",
    "\n",
    "# Uncomment to print MAE\n",
    "print(\"Mean Absolute Error 2: \" + str(mean_absolute_error(predictions_2, y_valid)))\n",
    "\n",
    "# Check your answer\n",
    "step_2.check()"
   ]
  },
  {
   "cell_type": "code",
   "execution_count": 10,
   "id": "14a32bdd",
   "metadata": {
    "execution": {
     "iopub.execute_input": "2021-08-18T01:08:24.310675Z",
     "iopub.status.busy": "2021-08-18T01:08:24.309706Z",
     "iopub.status.idle": "2021-08-18T01:08:24.312876Z",
     "shell.execute_reply": "2021-08-18T01:08:24.312372Z"
    },
    "papermill": {
     "duration": 0.027753,
     "end_time": "2021-08-18T01:08:24.313028",
     "exception": false,
     "start_time": "2021-08-18T01:08:24.285275",
     "status": "completed"
    },
    "tags": []
   },
   "outputs": [],
   "source": [
    "# Lines below will give you a hint or solution code\n",
    "#step_2.hint()\n",
    "#step_2.solution()"
   ]
  },
  {
   "cell_type": "markdown",
   "id": "d8a11f8f",
   "metadata": {
    "papermill": {
     "duration": 0.020537,
     "end_time": "2021-08-18T01:08:24.354615",
     "exception": false,
     "start_time": "2021-08-18T01:08:24.334078",
     "status": "completed"
    },
    "tags": []
   },
   "source": [
    "# Step 3: Break the model\n",
    "\n",
    "In this step, you will create a model that performs worse than the original model in Step 1.  This will help you to develop your intuition for how to set parameters.  You might even find that you accidentally get better performance, which is ultimately a nice problem to have and a valuable learning experience!\n",
    "- Begin by setting `my_model_3` to an XGBoost model, using the [XGBRegressor](https://xgboost.readthedocs.io/en/latest/python/python_api.html#xgboost.XGBRegressor) class.  Use what you learned in the previous tutorial to figure out how to change the default parameters (like `n_estimators` and `learning_rate`) to design a model to get high MAE.\n",
    "- Then, fit the model to the training data in `X_train` and `y_train`.\n",
    "- Set `predictions_3` to the model's predictions for the validation data.  Recall that the validation features are stored in `X_valid`.\n",
    "- Finally, use the `mean_absolute_error()` function to calculate the mean absolute error (MAE) corresponding to the predictions on the validation set.  Recall that the labels for the validation data are stored in `y_valid`.\n",
    "\n",
    "In order for this step to be marked correct, your model in `my_model_3` must attain higher MAE than the model in `my_model_1`. "
   ]
  },
  {
   "cell_type": "code",
   "execution_count": 11,
   "id": "d9a1c045",
   "metadata": {
    "execution": {
     "iopub.execute_input": "2021-08-18T01:08:24.408377Z",
     "iopub.status.busy": "2021-08-18T01:08:24.407404Z",
     "iopub.status.idle": "2021-08-18T01:08:24.442104Z",
     "shell.execute_reply": "2021-08-18T01:08:24.442677Z",
     "shell.execute_reply.started": "2021-08-18T01:07:45.325476Z"
    },
    "papermill": {
     "duration": 0.067357,
     "end_time": "2021-08-18T01:08:24.442868",
     "exception": false,
     "start_time": "2021-08-18T01:08:24.375511",
     "status": "completed"
    },
    "tags": []
   },
   "outputs": [
    {
     "name": "stdout",
     "output_type": "stream",
     "text": [
      "Mean Absolute Error 3: 127895.0828807256\n"
     ]
    },
    {
     "data": {
      "application/javascript": [
       "parent.postMessage({\"jupyterEvent\": \"custom.exercise_interaction\", \"data\": {\"outcomeType\": 1, \"valueTowardsCompletion\": 0.5, \"interactionType\": 1, \"questionType\": 2, \"questionId\": \"3_Model3\", \"learnToolsVersion\": \"0.3.4\", \"failureMessage\": \"\", \"exceptionClass\": \"\", \"trace\": \"\"}}, \"*\")"
      ],
      "text/plain": [
       "<IPython.core.display.Javascript object>"
      ]
     },
     "metadata": {},
     "output_type": "display_data"
    },
    {
     "data": {
      "text/markdown": [
       "<span style=\"color:#33cc33\">Correct</span>"
      ],
      "text/plain": [
       "Correct"
      ]
     },
     "metadata": {},
     "output_type": "display_data"
    }
   ],
   "source": [
    "# Define the model\n",
    "my_model_3 = XGBRegressor(n_estimators=1)\n",
    "\n",
    "# Fit the model\n",
    "my_model_3.fit(X_train, y_train) # Your code here\n",
    "\n",
    "# Get predictions\n",
    "predictions_3 = my_model_3.predict(X_valid)\n",
    "\n",
    "# Calculate MAE\n",
    "mae_3 = 172457.41701141777\n",
    "\n",
    "# Uncomment to print MAE\n",
    "print(\"Mean Absolute Error 3: \" + str(mean_absolute_error(predictions_3, y_valid)))\n",
    "\n",
    "# Check your answer\n",
    "step_3.check()"
   ]
  },
  {
   "cell_type": "code",
   "execution_count": 12,
   "id": "89d5902b",
   "metadata": {
    "execution": {
     "iopub.execute_input": "2021-08-18T01:08:24.494833Z",
     "iopub.status.busy": "2021-08-18T01:08:24.494142Z",
     "iopub.status.idle": "2021-08-18T01:08:24.500342Z",
     "shell.execute_reply": "2021-08-18T01:08:24.499846Z",
     "shell.execute_reply.started": "2021-08-18T01:07:29.565408Z"
    },
    "papermill": {
     "duration": 0.033389,
     "end_time": "2021-08-18T01:08:24.500482",
     "exception": false,
     "start_time": "2021-08-18T01:08:24.467093",
     "status": "completed"
    },
    "tags": []
   },
   "outputs": [
    {
     "data": {
      "application/javascript": [
       "parent.postMessage({\"jupyterEvent\": \"custom.exercise_interaction\", \"data\": {\"interactionType\": 3, \"questionType\": 2, \"questionId\": \"3_Model3\", \"learnToolsVersion\": \"0.3.4\", \"valueTowardsCompletion\": 0.0, \"failureMessage\": \"\", \"exceptionClass\": \"\", \"trace\": \"\", \"outcomeType\": 4}}, \"*\")"
      ],
      "text/plain": [
       "<IPython.core.display.Javascript object>"
      ]
     },
     "metadata": {},
     "output_type": "display_data"
    },
    {
     "data": {
      "text/markdown": [
       "<span style=\"color:#33cc99\">Solution:</span> \n",
       "```python\n",
       "# Define the model\n",
       "my_model_3 = XGBRegressor(n_estimators=1)\n",
       "\n",
       "# Fit the model\n",
       "my_model_3.fit(X_train, y_train)\n",
       "\n",
       "# Get predictions\n",
       "predictions_3 = my_model_3.predict(X_valid)\n",
       "\n",
       "# Calculate MAE\n",
       "mae_3 = mean_absolute_error(predictions_3, y_valid)\n",
       "print(\"Mean Absolute Error:\" , mae_3)\n",
       "\n",
       "```"
      ],
      "text/plain": [
       "Solution: \n",
       "```python\n",
       "# Define the model\n",
       "my_model_3 = XGBRegressor(n_estimators=1)\n",
       "\n",
       "# Fit the model\n",
       "my_model_3.fit(X_train, y_train)\n",
       "\n",
       "# Get predictions\n",
       "predictions_3 = my_model_3.predict(X_valid)\n",
       "\n",
       "# Calculate MAE\n",
       "mae_3 = mean_absolute_error(predictions_3, y_valid)\n",
       "print(\"Mean Absolute Error:\" , mae_3)\n",
       "\n",
       "```"
      ]
     },
     "metadata": {},
     "output_type": "display_data"
    }
   ],
   "source": [
    "# Lines below will give you a hint or solution code\n",
    "#step_3.hint()\n",
    "step_3.solution()"
   ]
  },
  {
   "cell_type": "markdown",
   "id": "4e99437b",
   "metadata": {
    "papermill": {
     "duration": 0.023083,
     "end_time": "2021-08-18T01:08:24.546683",
     "exception": false,
     "start_time": "2021-08-18T01:08:24.523600",
     "status": "completed"
    },
    "tags": []
   },
   "source": [
    "# Keep going\n",
    "\n",
    "Continue to learn about **[data leakage](https://www.kaggle.com/alexisbcook/data-leakage)**.  This is an important issue for a data scientist to understand, and it has the potential to ruin your models in subtle and dangerous ways!"
   ]
  },
  {
   "cell_type": "markdown",
   "id": "2dd83c5f",
   "metadata": {
    "papermill": {
     "duration": 0.026494,
     "end_time": "2021-08-18T01:08:24.602510",
     "exception": false,
     "start_time": "2021-08-18T01:08:24.576016",
     "status": "completed"
    },
    "tags": []
   },
   "source": [
    "---\n",
    "\n",
    "\n",
    "\n",
    "\n",
    "*Have questions or comments? Visit the [Learn Discussion forum](https://www.kaggle.com/learn-forum/161289) to chat with other Learners.*"
   ]
  }
 ],
 "metadata": {
  "kernelspec": {
   "display_name": "Python 3",
   "language": "python",
   "name": "python3"
  },
  "language_info": {
   "codemirror_mode": {
    "name": "ipython",
    "version": 3
   },
   "file_extension": ".py",
   "mimetype": "text/x-python",
   "name": "python",
   "nbconvert_exporter": "python",
   "pygments_lexer": "ipython3",
   "version": "3.7.10"
  },
  "papermill": {
   "default_parameters": {},
   "duration": 20.395759,
   "end_time": "2021-08-18T01:08:25.344520",
   "environment_variables": {},
   "exception": null,
   "input_path": "__notebook__.ipynb",
   "output_path": "__notebook__.ipynb",
   "parameters": {},
   "start_time": "2021-08-18T01:08:04.948761",
   "version": "2.3.3"
  }
 },
 "nbformat": 4,
 "nbformat_minor": 5
}
