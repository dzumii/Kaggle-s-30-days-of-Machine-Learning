{
 "cells": [
  {
   "cell_type": "markdown",
   "id": "531a6330",
   "metadata": {
    "papermill": {
     "duration": 0.01282,
     "end_time": "2021-08-13T02:40:52.380945",
     "exception": false,
     "start_time": "2021-08-13T02:40:52.368125",
     "status": "completed"
    },
    "tags": []
   },
   "source": [
    "**This notebook is an exercise in the [Introduction to Machine Learning](https://www.kaggle.com/learn/intro-to-machine-learning) course.  You can reference the tutorial at [this link](https://www.kaggle.com/dansbecker/underfitting-and-overfitting).**\n",
    "\n",
    "---\n"
   ]
  },
  {
   "cell_type": "markdown",
   "id": "5174c77a",
   "metadata": {
    "papermill": {
     "duration": 0.008981,
     "end_time": "2021-08-13T02:40:52.400882",
     "exception": false,
     "start_time": "2021-08-13T02:40:52.391901",
     "status": "completed"
    },
    "tags": []
   },
   "source": [
    "## Recap\n",
    "You've built your first model, and now it's time to optimize the size of the tree to make better predictions. Run this cell to set up your coding environment where the previous step left off."
   ]
  },
  {
   "cell_type": "code",
   "execution_count": 1,
   "id": "018aa778",
   "metadata": {
    "execution": {
     "iopub.execute_input": "2021-08-13T02:40:52.425095Z",
     "iopub.status.busy": "2021-08-13T02:40:52.423979Z",
     "iopub.status.idle": "2021-08-13T02:40:53.698797Z",
     "shell.execute_reply": "2021-08-13T02:40:53.699260Z",
     "shell.execute_reply.started": "2021-08-13T02:35:37.377838Z"
    },
    "papermill": {
     "duration": 1.289441,
     "end_time": "2021-08-13T02:40:53.699554",
     "exception": false,
     "start_time": "2021-08-13T02:40:52.410113",
     "status": "completed"
    },
    "tags": []
   },
   "outputs": [
    {
     "name": "stdout",
     "output_type": "stream",
     "text": [
      "Validation MAE: 29,653\n",
      "\n",
      "Setup complete\n"
     ]
    }
   ],
   "source": [
    "# Code you have previously used to load data\n",
    "import pandas as pd\n",
    "from sklearn.metrics import mean_absolute_error\n",
    "from sklearn.model_selection import train_test_split\n",
    "from sklearn.tree import DecisionTreeRegressor\n",
    "\n",
    "\n",
    "# Path of the file to read\n",
    "iowa_file_path = '../input/home-data-for-ml-course/train.csv'\n",
    "\n",
    "home_data = pd.read_csv(iowa_file_path)\n",
    "# Create target object and call it y\n",
    "y = home_data.SalePrice\n",
    "# Create X\n",
    "features = ['LotArea', 'YearBuilt', '1stFlrSF', '2ndFlrSF', 'FullBath', 'BedroomAbvGr', 'TotRmsAbvGrd']\n",
    "X = home_data[features]\n",
    "\n",
    "# Split into validation and training data\n",
    "train_X, val_X, train_y, val_y = train_test_split(X, y, random_state=1)\n",
    "\n",
    "# Specify Model\n",
    "iowa_model = DecisionTreeRegressor(random_state=1)\n",
    "# Fit Model\n",
    "iowa_model.fit(train_X, train_y)\n",
    "\n",
    "# Make validation predictions and calculate mean absolute error\n",
    "val_predictions = iowa_model.predict(val_X)\n",
    "val_mae = mean_absolute_error(val_predictions, val_y)\n",
    "print(\"Validation MAE: {:,.0f}\".format(val_mae))\n",
    "\n",
    "# Set up code checking\n",
    "from learntools.core import binder\n",
    "binder.bind(globals())\n",
    "from learntools.machine_learning.ex5 import *\n",
    "print(\"\\nSetup complete\")"
   ]
  },
  {
   "cell_type": "markdown",
   "id": "e1773776",
   "metadata": {
    "papermill": {
     "duration": 0.009096,
     "end_time": "2021-08-13T02:40:53.718442",
     "exception": false,
     "start_time": "2021-08-13T02:40:53.709346",
     "status": "completed"
    },
    "tags": []
   },
   "source": [
    "# Exercises\n",
    "You could write the function `get_mae` yourself. For now, we'll supply it. This is the same function you read about in the previous lesson. Just run the cell below."
   ]
  },
  {
   "cell_type": "code",
   "execution_count": 2,
   "id": "7d4947cf",
   "metadata": {
    "execution": {
     "iopub.execute_input": "2021-08-13T02:40:53.739981Z",
     "iopub.status.busy": "2021-08-13T02:40:53.739317Z",
     "iopub.status.idle": "2021-08-13T02:40:53.743782Z",
     "shell.execute_reply": "2021-08-13T02:40:53.744339Z",
     "shell.execute_reply.started": "2021-08-13T02:36:04.831531Z"
    },
    "papermill": {
     "duration": 0.016773,
     "end_time": "2021-08-13T02:40:53.744496",
     "exception": false,
     "start_time": "2021-08-13T02:40:53.727723",
     "status": "completed"
    },
    "tags": []
   },
   "outputs": [],
   "source": [
    "def get_mae(max_leaf_nodes, train_X, val_X, train_y, val_y):\n",
    "    model = DecisionTreeRegressor(max_leaf_nodes=max_leaf_nodes, random_state=0)\n",
    "    model.fit(train_X, train_y)\n",
    "    preds_val = model.predict(val_X)\n",
    "    mae = mean_absolute_error(val_y, preds_val)\n",
    "    return(mae)"
   ]
  },
  {
   "cell_type": "markdown",
   "id": "926306d6",
   "metadata": {
    "papermill": {
     "duration": 0.009243,
     "end_time": "2021-08-13T02:40:53.763312",
     "exception": false,
     "start_time": "2021-08-13T02:40:53.754069",
     "status": "completed"
    },
    "tags": []
   },
   "source": [
    "## Step 1: Compare Different Tree Sizes\n",
    "Write a loop that tries the following values for *max_leaf_nodes* from a set of possible values.\n",
    "\n",
    "Call the *get_mae* function on each value of max_leaf_nodes. Store the output in some way that allows you to select the value of `max_leaf_nodes` that gives the most accurate model on your data."
   ]
  },
  {
   "cell_type": "code",
   "execution_count": 3,
   "id": "79b6af1f",
   "metadata": {
    "execution": {
     "iopub.execute_input": "2021-08-13T02:40:53.784580Z",
     "iopub.status.busy": "2021-08-13T02:40:53.783943Z",
     "iopub.status.idle": "2021-08-13T02:40:53.846799Z",
     "shell.execute_reply": "2021-08-13T02:40:53.846290Z",
     "shell.execute_reply.started": "2021-08-13T02:38:35.842140Z"
    },
    "papermill": {
     "duration": 0.07443,
     "end_time": "2021-08-13T02:40:53.846963",
     "exception": false,
     "start_time": "2021-08-13T02:40:53.772533",
     "status": "completed"
    },
    "tags": []
   },
   "outputs": [
    {
     "name": "stdout",
     "output_type": "stream",
     "text": [
      "Max leaf nodes: 5  \t\t Mean Absolute Error:  35044\n",
      "Max leaf nodes: 25  \t\t Mean Absolute Error:  29016\n",
      "Max leaf nodes: 50  \t\t Mean Absolute Error:  27405\n",
      "Max leaf nodes: 100  \t\t Mean Absolute Error:  27282\n",
      "Max leaf nodes: 250  \t\t Mean Absolute Error:  27893\n",
      "Max leaf nodes: 500  \t\t Mean Absolute Error:  29454\n"
     ]
    },
    {
     "data": {
      "application/javascript": [
       "parent.postMessage({\"jupyterEvent\": \"custom.exercise_interaction\", \"data\": {\"outcomeType\": 1, \"valueTowardsCompletion\": 0.5, \"interactionType\": 1, \"questionType\": 1, \"questionId\": \"1_BestTreeSize\", \"learnToolsVersion\": \"0.3.4\", \"failureMessage\": \"\", \"exceptionClass\": \"\", \"trace\": \"\"}}, \"*\")"
      ],
      "text/plain": [
       "<IPython.core.display.Javascript object>"
      ]
     },
     "metadata": {},
     "output_type": "display_data"
    },
    {
     "data": {
      "text/markdown": [
       "<span style=\"color:#33cc33\">Correct</span>"
      ],
      "text/plain": [
       "Correct"
      ]
     },
     "metadata": {},
     "output_type": "display_data"
    }
   ],
   "source": [
    "candidate_max_leaf_nodes = [5, 25, 50, 100, 250, 500]\n",
    "# Write loop to find the ideal tree size from candidate_max_leaf_nodes\n",
    "for max_leaf_nodes in candidate_max_leaf_nodes :\n",
    "    my_mae = get_mae(max_leaf_nodes, train_X, val_X, train_y, val_y)\n",
    "    print(\"Max leaf nodes: %d  \\t\\t Mean Absolute Error:  %d\" %(max_leaf_nodes, my_mae))\n",
    "\n",
    "# Store the best value of max_leaf_nodes (it will be either 5, 25, 50, 100, 250 or 500)\n",
    "best_tree_size = 100\n",
    "\n",
    "# Check your answer\n",
    "step_1.check()"
   ]
  },
  {
   "cell_type": "code",
   "execution_count": 4,
   "id": "7aa859e2",
   "metadata": {
    "execution": {
     "iopub.execute_input": "2021-08-13T02:40:53.873186Z",
     "iopub.status.busy": "2021-08-13T02:40:53.872577Z",
     "iopub.status.idle": "2021-08-13T02:40:53.875027Z",
     "shell.execute_reply": "2021-08-13T02:40:53.875481Z"
    },
    "papermill": {
     "duration": 0.017751,
     "end_time": "2021-08-13T02:40:53.875635",
     "exception": false,
     "start_time": "2021-08-13T02:40:53.857884",
     "status": "completed"
    },
    "tags": []
   },
   "outputs": [],
   "source": [
    "# The lines below will show you a hint or the solution.\n",
    "# step_1.hint() \n",
    "# step_1.solution()"
   ]
  },
  {
   "cell_type": "markdown",
   "id": "4cce7cea",
   "metadata": {
    "papermill": {
     "duration": 0.010611,
     "end_time": "2021-08-13T02:40:53.897113",
     "exception": false,
     "start_time": "2021-08-13T02:40:53.886502",
     "status": "completed"
    },
    "tags": []
   },
   "source": [
    "## Step 2: Fit Model Using All Data\n",
    "You know the best tree size. If you were going to deploy this model in practice, you would make it even more accurate by using all of the data and keeping that tree size.  That is, you don't need to hold out the validation data now that you've made all your modeling decisions."
   ]
  },
  {
   "cell_type": "code",
   "execution_count": 5,
   "id": "d511779b",
   "metadata": {
    "execution": {
     "iopub.execute_input": "2021-08-13T02:40:53.921771Z",
     "iopub.status.busy": "2021-08-13T02:40:53.921160Z",
     "iopub.status.idle": "2021-08-13T02:40:53.937340Z",
     "shell.execute_reply": "2021-08-13T02:40:53.937784Z",
     "shell.execute_reply.started": "2021-08-13T02:40:24.031520Z"
    },
    "papermill": {
     "duration": 0.030011,
     "end_time": "2021-08-13T02:40:53.937951",
     "exception": false,
     "start_time": "2021-08-13T02:40:53.907940",
     "status": "completed"
    },
    "tags": []
   },
   "outputs": [
    {
     "data": {
      "application/javascript": [
       "parent.postMessage({\"jupyterEvent\": \"custom.exercise_interaction\", \"data\": {\"outcomeType\": 1, \"valueTowardsCompletion\": 0.5, \"interactionType\": 1, \"questionType\": 2, \"questionId\": \"2_FitModelWithAllData\", \"learnToolsVersion\": \"0.3.4\", \"failureMessage\": \"\", \"exceptionClass\": \"\", \"trace\": \"\"}}, \"*\")"
      ],
      "text/plain": [
       "<IPython.core.display.Javascript object>"
      ]
     },
     "metadata": {},
     "output_type": "display_data"
    },
    {
     "data": {
      "text/markdown": [
       "<span style=\"color:#33cc33\">Correct</span>"
      ],
      "text/plain": [
       "Correct"
      ]
     },
     "metadata": {},
     "output_type": "display_data"
    }
   ],
   "source": [
    "# Fill in argument to make optimal size and uncomment\n",
    "final_model = DecisionTreeRegressor(max_leaf_nodes=best_tree_size, random_state=1)\n",
    "\n",
    "# fit the final model and uncomment the next two lines\n",
    "final_model.fit(X,y)\n",
    "\n",
    "# Check your answer\n",
    "step_2.check()"
   ]
  },
  {
   "cell_type": "code",
   "execution_count": 6,
   "id": "b7cbb79b",
   "metadata": {
    "execution": {
     "iopub.execute_input": "2021-08-13T02:40:53.971872Z",
     "iopub.status.busy": "2021-08-13T02:40:53.970945Z",
     "iopub.status.idle": "2021-08-13T02:40:53.977012Z",
     "shell.execute_reply": "2021-08-13T02:40:53.977702Z",
     "shell.execute_reply.started": "2021-08-13T02:39:32.631446Z"
    },
    "papermill": {
     "duration": 0.028105,
     "end_time": "2021-08-13T02:40:53.977944",
     "exception": false,
     "start_time": "2021-08-13T02:40:53.949839",
     "status": "completed"
    },
    "tags": []
   },
   "outputs": [
    {
     "data": {
      "application/javascript": [
       "parent.postMessage({\"jupyterEvent\": \"custom.exercise_interaction\", \"data\": {\"interactionType\": 3, \"questionType\": 2, \"questionId\": \"2_FitModelWithAllData\", \"learnToolsVersion\": \"0.3.4\", \"valueTowardsCompletion\": 0.0, \"failureMessage\": \"\", \"exceptionClass\": \"\", \"trace\": \"\", \"outcomeType\": 4}}, \"*\")"
      ],
      "text/plain": [
       "<IPython.core.display.Javascript object>"
      ]
     },
     "metadata": {},
     "output_type": "display_data"
    },
    {
     "data": {
      "text/markdown": [
       "<span style=\"color:#33cc99\">Solution:</span> \n",
       "```python\n",
       "# Fit the model with best_tree_size. Fill in argument to make optimal size\n",
       "final_model = DecisionTreeRegressor(max_leaf_nodes=best_tree_size, random_state=1)\n",
       "\n",
       "# fit the final model\n",
       "final_model.fit(X, y)\n",
       "```"
      ],
      "text/plain": [
       "Solution: \n",
       "```python\n",
       "# Fit the model with best_tree_size. Fill in argument to make optimal size\n",
       "final_model = DecisionTreeRegressor(max_leaf_nodes=best_tree_size, random_state=1)\n",
       "\n",
       "# fit the final model\n",
       "final_model.fit(X, y)\n",
       "```"
      ]
     },
     "metadata": {},
     "output_type": "display_data"
    }
   ],
   "source": [
    "# step_2.hint()\n",
    "step_2.solution()"
   ]
  },
  {
   "cell_type": "markdown",
   "id": "86ca4df6",
   "metadata": {
    "papermill": {
     "duration": 0.02011,
     "end_time": "2021-08-13T02:40:54.016572",
     "exception": false,
     "start_time": "2021-08-13T02:40:53.996462",
     "status": "completed"
    },
    "tags": []
   },
   "source": [
    "You've tuned this model and improved your results. But we are still using Decision Tree models, which are not very sophisticated by modern machine learning standards. In the next step you will learn to use Random Forests to improve your models even more.\n",
    "\n",
    "# Keep Going\n",
    "\n",
    "You are ready for **[Random Forests](https://www.kaggle.com/dansbecker/random-forests).**\n"
   ]
  },
  {
   "cell_type": "markdown",
   "id": "75d0693e",
   "metadata": {
    "papermill": {
     "duration": 0.016141,
     "end_time": "2021-08-13T02:40:54.054370",
     "exception": false,
     "start_time": "2021-08-13T02:40:54.038229",
     "status": "completed"
    },
    "tags": []
   },
   "source": [
    "---\n",
    "\n",
    "\n",
    "\n",
    "\n",
    "*Have questions or comments? Visit the [Learn Discussion forum](https://www.kaggle.com/learn-forum/161285) to chat with other Learners.*"
   ]
  }
 ],
 "metadata": {
  "kernelspec": {
   "display_name": "Python 3",
   "language": "python",
   "name": "python3"
  },
  "language_info": {
   "codemirror_mode": {
    "name": "ipython",
    "version": 3
   },
   "file_extension": ".py",
   "mimetype": "text/x-python",
   "name": "python",
   "nbconvert_exporter": "python",
   "pygments_lexer": "ipython3",
   "version": "3.7.10"
  },
  "papermill": {
   "default_parameters": {},
   "duration": 10.456305,
   "end_time": "2021-08-13T02:40:54.779558",
   "environment_variables": {},
   "exception": null,
   "input_path": "__notebook__.ipynb",
   "output_path": "__notebook__.ipynb",
   "parameters": {},
   "start_time": "2021-08-13T02:40:44.323253",
   "version": "2.3.3"
  }
 },
 "nbformat": 4,
 "nbformat_minor": 5
}
