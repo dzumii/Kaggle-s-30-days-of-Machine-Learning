{
 "cells": [
  {
   "cell_type": "markdown",
   "id": "de299ec4",
   "metadata": {
    "papermill": {
     "duration": 0.015771,
     "end_time": "2021-08-17T00:51:32.752327",
     "exception": false,
     "start_time": "2021-08-17T00:51:32.736556",
     "status": "completed"
    },
    "tags": []
   },
   "source": [
    "**This notebook is an exercise in the [Python](https://www.kaggle.com/learn/python) course.  You can reference the tutorial at [this link](https://www.kaggle.com/colinmorris/lists).**\n",
    "\n",
    "---\n"
   ]
  },
  {
   "cell_type": "markdown",
   "id": "2ddbc6a8",
   "metadata": {
    "papermill": {
     "duration": 0.013924,
     "end_time": "2021-08-17T00:51:32.782488",
     "exception": false,
     "start_time": "2021-08-17T00:51:32.768564",
     "status": "completed"
    },
    "tags": []
   },
   "source": [
    "Things get more interesting with lists. You'll apply your new knowledge to solve the questions below. Remember to run the following cell first."
   ]
  },
  {
   "cell_type": "code",
   "execution_count": 1,
   "id": "78097158",
   "metadata": {
    "execution": {
     "iopub.execute_input": "2021-08-17T00:51:32.823742Z",
     "iopub.status.busy": "2021-08-17T00:51:32.823128Z",
     "iopub.status.idle": "2021-08-17T00:51:33.003951Z",
     "shell.execute_reply": "2021-08-17T00:51:33.004522Z",
     "shell.execute_reply.started": "2021-08-17T00:43:42.459681Z"
    },
    "papermill": {
     "duration": 0.20827,
     "end_time": "2021-08-17T00:51:33.004909",
     "exception": false,
     "start_time": "2021-08-17T00:51:32.796639",
     "status": "completed"
    },
    "tags": []
   },
   "outputs": [
    {
     "name": "stdout",
     "output_type": "stream",
     "text": [
      "Setup complete.\n"
     ]
    }
   ],
   "source": [
    "from learntools.core import binder; binder.bind(globals())\n",
    "from learntools.python.ex4 import *\n",
    "print('Setup complete.')"
   ]
  },
  {
   "cell_type": "markdown",
   "id": "dc68fa0e",
   "metadata": {
    "papermill": {
     "duration": 0.022191,
     "end_time": "2021-08-17T00:51:33.044789",
     "exception": false,
     "start_time": "2021-08-17T00:51:33.022598",
     "status": "completed"
    },
    "tags": []
   },
   "source": [
    "# 1.\n",
    "\n",
    "Complete the function below according to its docstring."
   ]
  },
  {
   "cell_type": "code",
   "execution_count": 2,
   "id": "92c0caf9",
   "metadata": {
    "execution": {
     "iopub.execute_input": "2021-08-17T00:51:33.096266Z",
     "iopub.status.busy": "2021-08-17T00:51:33.095470Z",
     "iopub.status.idle": "2021-08-17T00:51:33.105097Z",
     "shell.execute_reply": "2021-08-17T00:51:33.104164Z",
     "shell.execute_reply.started": "2021-08-17T00:44:50.279899Z"
    },
    "papermill": {
     "duration": 0.038081,
     "end_time": "2021-08-17T00:51:33.105329",
     "exception": false,
     "start_time": "2021-08-17T00:51:33.067248",
     "status": "completed"
    },
    "tags": []
   },
   "outputs": [
    {
     "data": {
      "application/javascript": [
       "parent.postMessage({\"jupyterEvent\": \"custom.exercise_interaction\", \"data\": {\"outcomeType\": 1, \"valueTowardsCompletion\": 0.2, \"interactionType\": 1, \"questionType\": 2, \"questionId\": \"1_SelectSecondItem\", \"learnToolsVersion\": \"0.3.4\", \"failureMessage\": \"\", \"exceptionClass\": \"\", \"trace\": \"\"}}, \"*\")"
      ],
      "text/plain": [
       "<IPython.core.display.Javascript object>"
      ]
     },
     "metadata": {},
     "output_type": "display_data"
    },
    {
     "data": {
      "text/markdown": [
       "<span style=\"color:#33cc33\">Correct</span>"
      ],
      "text/plain": [
       "Correct"
      ]
     },
     "metadata": {},
     "output_type": "display_data"
    }
   ],
   "source": [
    "def select_second(L):\n",
    "    \"\"\"Return the second element of the given list. If the list has no second\n",
    "    element, return None.\n",
    "    \"\"\"\n",
    "    if len(L) < 2:\n",
    "        return None\n",
    "    return L[1]\n",
    "\n",
    "# Check your answer\n",
    "q1.check()"
   ]
  },
  {
   "cell_type": "code",
   "execution_count": 3,
   "id": "80904703",
   "metadata": {
    "execution": {
     "iopub.execute_input": "2021-08-17T00:51:33.153586Z",
     "iopub.status.busy": "2021-08-17T00:51:33.152441Z",
     "iopub.status.idle": "2021-08-17T00:51:33.161716Z",
     "shell.execute_reply": "2021-08-17T00:51:33.162457Z",
     "shell.execute_reply.started": "2021-08-17T00:44:12.455881Z"
    },
    "papermill": {
     "duration": 0.035889,
     "end_time": "2021-08-17T00:51:33.162757",
     "exception": false,
     "start_time": "2021-08-17T00:51:33.126868",
     "status": "completed"
    },
    "tags": []
   },
   "outputs": [
    {
     "data": {
      "application/javascript": [
       "parent.postMessage({\"jupyterEvent\": \"custom.exercise_interaction\", \"data\": {\"interactionType\": 3, \"questionType\": 2, \"questionId\": \"1_SelectSecondItem\", \"learnToolsVersion\": \"0.3.4\", \"valueTowardsCompletion\": 0.0, \"failureMessage\": \"\", \"exceptionClass\": \"\", \"trace\": \"\", \"outcomeType\": 4}}, \"*\")"
      ],
      "text/plain": [
       "<IPython.core.display.Javascript object>"
      ]
     },
     "metadata": {},
     "output_type": "display_data"
    },
    {
     "data": {
      "text/markdown": [
       "<span style=\"color:#33cc99\">Solution:</span> \n",
       "```python\n",
       "def select_second(L):\n",
       "    if len(L) < 2:\n",
       "        return None\n",
       "    return L[1]\n",
       "```"
      ],
      "text/plain": [
       "Solution: \n",
       "```python\n",
       "def select_second(L):\n",
       "    if len(L) < 2:\n",
       "        return None\n",
       "    return L[1]\n",
       "```"
      ]
     },
     "metadata": {},
     "output_type": "display_data"
    }
   ],
   "source": [
    "#q1.hint()\n",
    "q1.solution()"
   ]
  },
  {
   "cell_type": "markdown",
   "id": "d11d13d2",
   "metadata": {
    "papermill": {
     "duration": 0.016793,
     "end_time": "2021-08-17T00:51:33.197509",
     "exception": false,
     "start_time": "2021-08-17T00:51:33.180716",
     "status": "completed"
    },
    "tags": []
   },
   "source": [
    "# 2.\n",
    "\n",
    "You are analyzing sports teams.  Members of each team are stored in a list. The Coach is the first name in the list, the captain is the second name in the list, and other players are listed after that. \n",
    "These lists are stored in another list, which starts with the best team and proceeds through the list to the worst team last.  Complete the function below to select the **captain** of the worst team."
   ]
  },
  {
   "cell_type": "code",
   "execution_count": 4,
   "id": "430cc28a",
   "metadata": {
    "execution": {
     "iopub.execute_input": "2021-08-17T00:51:33.238644Z",
     "iopub.status.busy": "2021-08-17T00:51:33.237578Z",
     "iopub.status.idle": "2021-08-17T00:51:33.243258Z",
     "shell.execute_reply": "2021-08-17T00:51:33.243872Z",
     "shell.execute_reply.started": "2021-08-17T00:45:40.758475Z"
    },
    "papermill": {
     "duration": 0.029747,
     "end_time": "2021-08-17T00:51:33.244140",
     "exception": false,
     "start_time": "2021-08-17T00:51:33.214393",
     "status": "completed"
    },
    "tags": []
   },
   "outputs": [
    {
     "data": {
      "application/javascript": [
       "parent.postMessage({\"jupyterEvent\": \"custom.exercise_interaction\", \"data\": {\"outcomeType\": 1, \"valueTowardsCompletion\": 0.2, \"interactionType\": 1, \"questionType\": 2, \"questionId\": \"2_LosingTeamCaptain\", \"learnToolsVersion\": \"0.3.4\", \"failureMessage\": \"\", \"exceptionClass\": \"\", \"trace\": \"\"}}, \"*\")"
      ],
      "text/plain": [
       "<IPython.core.display.Javascript object>"
      ]
     },
     "metadata": {},
     "output_type": "display_data"
    },
    {
     "data": {
      "text/markdown": [
       "<span style=\"color:#33cc33\">Correct</span>"
      ],
      "text/plain": [
       "Correct"
      ]
     },
     "metadata": {},
     "output_type": "display_data"
    }
   ],
   "source": [
    "def losing_team_captain(teams):\n",
    "    \"\"\"Given a list of teams, where each team is a list of names, return the 2nd player (captain)\n",
    "    from the last listed team\n",
    "    \"\"\"\n",
    "    return teams[-1][1]\n",
    "\n",
    "# Check your answer\n",
    "q2.check()"
   ]
  },
  {
   "cell_type": "code",
   "execution_count": 5,
   "id": "6347b879",
   "metadata": {
    "execution": {
     "iopub.execute_input": "2021-08-17T00:51:33.295397Z",
     "iopub.status.busy": "2021-08-17T00:51:33.294500Z",
     "iopub.status.idle": "2021-08-17T00:51:33.299673Z",
     "shell.execute_reply": "2021-08-17T00:51:33.300275Z",
     "shell.execute_reply.started": "2021-08-17T00:45:15.714483Z"
    },
    "papermill": {
     "duration": 0.033951,
     "end_time": "2021-08-17T00:51:33.300504",
     "exception": false,
     "start_time": "2021-08-17T00:51:33.266553",
     "status": "completed"
    },
    "tags": []
   },
   "outputs": [
    {
     "data": {
      "application/javascript": [
       "parent.postMessage({\"jupyterEvent\": \"custom.exercise_interaction\", \"data\": {\"interactionType\": 3, \"questionType\": 2, \"questionId\": \"2_LosingTeamCaptain\", \"learnToolsVersion\": \"0.3.4\", \"valueTowardsCompletion\": 0.0, \"failureMessage\": \"\", \"exceptionClass\": \"\", \"trace\": \"\", \"outcomeType\": 4}}, \"*\")"
      ],
      "text/plain": [
       "<IPython.core.display.Javascript object>"
      ]
     },
     "metadata": {},
     "output_type": "display_data"
    },
    {
     "data": {
      "text/markdown": [
       "<span style=\"color:#33cc99\">Solution:</span> \n",
       "```python\n",
       "def losing_team_captain(teams):\n",
       "    return teams[-1][1]\n",
       "```"
      ],
      "text/plain": [
       "Solution: \n",
       "```python\n",
       "def losing_team_captain(teams):\n",
       "    return teams[-1][1]\n",
       "```"
      ]
     },
     "metadata": {},
     "output_type": "display_data"
    }
   ],
   "source": [
    "#q2.hint()\n",
    "q2.solution()"
   ]
  },
  {
   "cell_type": "markdown",
   "id": "68c43f24",
   "metadata": {
    "papermill": {
     "duration": 0.018783,
     "end_time": "2021-08-17T00:51:33.342705",
     "exception": false,
     "start_time": "2021-08-17T00:51:33.323922",
     "status": "completed"
    },
    "tags": []
   },
   "source": [
    "# 3.\n",
    "\n",
    "The next iteration of Mario Kart will feature an extra-infuriating new item, the *Purple Shell*. When used, it warps the last place racer into first place and the first place racer into last place. Complete the function below to implement the Purple Shell's effect."
   ]
  },
  {
   "cell_type": "code",
   "execution_count": 6,
   "id": "988296c3",
   "metadata": {
    "execution": {
     "iopub.execute_input": "2021-08-17T00:51:33.387991Z",
     "iopub.status.busy": "2021-08-17T00:51:33.387294Z",
     "iopub.status.idle": "2021-08-17T00:51:33.393305Z",
     "shell.execute_reply": "2021-08-17T00:51:33.392752Z",
     "shell.execute_reply.started": "2021-08-17T00:47:02.209427Z"
    },
    "papermill": {
     "duration": 0.031746,
     "end_time": "2021-08-17T00:51:33.393460",
     "exception": false,
     "start_time": "2021-08-17T00:51:33.361714",
     "status": "completed"
    },
    "tags": []
   },
   "outputs": [
    {
     "data": {
      "application/javascript": [
       "parent.postMessage({\"jupyterEvent\": \"custom.exercise_interaction\", \"data\": {\"outcomeType\": 1, \"valueTowardsCompletion\": 0.2, \"interactionType\": 1, \"questionType\": 2, \"questionId\": \"3_PurpleShell\", \"learnToolsVersion\": \"0.3.4\", \"failureMessage\": \"\", \"exceptionClass\": \"\", \"trace\": \"\"}}, \"*\")"
      ],
      "text/plain": [
       "<IPython.core.display.Javascript object>"
      ]
     },
     "metadata": {},
     "output_type": "display_data"
    },
    {
     "data": {
      "text/markdown": [
       "<span style=\"color:#33cc33\">Correct</span>"
      ],
      "text/plain": [
       "Correct"
      ]
     },
     "metadata": {},
     "output_type": "display_data"
    }
   ],
   "source": [
    "def purple_shell(racers):\n",
    "    \"\"\"Given a list of racers, set the first place racer (at the front of the list) to last\n",
    "    place and vice versa.\n",
    "    \n",
    "    >>> r = [\"Mario\", \"Bowser\", \"Luigi\"]\n",
    "    >>> purple_shell(r)\n",
    "    >>> r\n",
    "    [\"Luigi\", \"Bowser\", \"Mario\"]\n",
    "    \"\"\"\n",
    "    temporary = racers[0]\n",
    "    racers[0] = racers[-1]\n",
    "    racers[-1] = temporary\n",
    "\n",
    "# Check your answer\n",
    "q3.check()"
   ]
  },
  {
   "cell_type": "code",
   "execution_count": 7,
   "id": "6bd05e0b",
   "metadata": {
    "execution": {
     "iopub.execute_input": "2021-08-17T00:51:33.436651Z",
     "iopub.status.busy": "2021-08-17T00:51:33.435961Z",
     "iopub.status.idle": "2021-08-17T00:51:33.442608Z",
     "shell.execute_reply": "2021-08-17T00:51:33.443119Z",
     "shell.execute_reply.started": "2021-08-17T00:46:12.027807Z"
    },
    "papermill": {
     "duration": 0.029907,
     "end_time": "2021-08-17T00:51:33.443322",
     "exception": false,
     "start_time": "2021-08-17T00:51:33.413415",
     "status": "completed"
    },
    "tags": []
   },
   "outputs": [
    {
     "data": {
      "application/javascript": [
       "parent.postMessage({\"jupyterEvent\": \"custom.exercise_interaction\", \"data\": {\"interactionType\": 3, \"questionType\": 2, \"questionId\": \"3_PurpleShell\", \"learnToolsVersion\": \"0.3.4\", \"valueTowardsCompletion\": 0.0, \"failureMessage\": \"\", \"exceptionClass\": \"\", \"trace\": \"\", \"outcomeType\": 4}}, \"*\")"
      ],
      "text/plain": [
       "<IPython.core.display.Javascript object>"
      ]
     },
     "metadata": {},
     "output_type": "display_data"
    },
    {
     "data": {
      "text/markdown": [
       "<span style=\"color:#33cc99\">Solution:</span> \n",
       "```python\n",
       "def purple_shell(racers):\n",
       "    # One slick way to do the swap is x[0], x[-1] = x[-1], x[0].\n",
       "    temp = racers[0]\n",
       "    racers[0] = racers[-1]\n",
       "    racers[-1] = temp\n",
       "```"
      ],
      "text/plain": [
       "Solution: \n",
       "```python\n",
       "def purple_shell(racers):\n",
       "    # One slick way to do the swap is x[0], x[-1] = x[-1], x[0].\n",
       "    temp = racers[0]\n",
       "    racers[0] = racers[-1]\n",
       "    racers[-1] = temp\n",
       "```"
      ]
     },
     "metadata": {},
     "output_type": "display_data"
    }
   ],
   "source": [
    "#q3.hint()\n",
    "q3.solution()"
   ]
  },
  {
   "cell_type": "markdown",
   "id": "a303dc44",
   "metadata": {
    "papermill": {
     "duration": 0.020727,
     "end_time": "2021-08-17T00:51:33.485312",
     "exception": false,
     "start_time": "2021-08-17T00:51:33.464585",
     "status": "completed"
    },
    "tags": []
   },
   "source": [
    "# 4.\n",
    "\n",
    "What are the lengths of the following lists? Fill in the variable `lengths` with your predictions. (Try to make a prediction for each list *without* just calling `len()` on it.)"
   ]
  },
  {
   "cell_type": "code",
   "execution_count": 8,
   "id": "6783cd93",
   "metadata": {
    "execution": {
     "iopub.execute_input": "2021-08-17T00:51:33.533870Z",
     "iopub.status.busy": "2021-08-17T00:51:33.533187Z",
     "iopub.status.idle": "2021-08-17T00:51:33.540023Z",
     "shell.execute_reply": "2021-08-17T00:51:33.540487Z",
     "shell.execute_reply.started": "2021-08-17T00:48:47.085001Z"
    },
    "papermill": {
     "duration": 0.034846,
     "end_time": "2021-08-17T00:51:33.540694",
     "exception": false,
     "start_time": "2021-08-17T00:51:33.505848",
     "status": "completed"
    },
    "tags": []
   },
   "outputs": [
    {
     "data": {
      "application/javascript": [
       "parent.postMessage({\"jupyterEvent\": \"custom.exercise_interaction\", \"data\": {\"outcomeType\": 1, \"valueTowardsCompletion\": 0.2, \"interactionType\": 1, \"questionType\": 1, \"questionId\": \"4_UnderstandLen\", \"learnToolsVersion\": \"0.3.4\", \"failureMessage\": \"\", \"exceptionClass\": \"\", \"trace\": \"\"}}, \"*\")"
      ],
      "text/plain": [
       "<IPython.core.display.Javascript object>"
      ]
     },
     "metadata": {},
     "output_type": "display_data"
    },
    {
     "data": {
      "text/markdown": [
       "<span style=\"color:#33cc33\">Correct:</span> \n",
       "\n",
       "\n",
       "- a: There are three items in this list. Nothing tricky yet.\n",
       "- b: The list `[2, 3]` counts as a single item. It has one item before it. So we have 2 items in the list\n",
       "- c: The empty list has 0 items\n",
       "- d: The expression is the same as the list `[2, 3]`, which has length 2."
      ],
      "text/plain": [
       "Correct: \n",
       "\n",
       "\n",
       "- a: There are three items in this list. Nothing tricky yet.\n",
       "- b: The list `[2, 3]` counts as a single item. It has one item before it. So we have 2 items in the list\n",
       "- c: The empty list has 0 items\n",
       "- d: The expression is the same as the list `[2, 3]`, which has length 2."
      ]
     },
     "metadata": {},
     "output_type": "display_data"
    }
   ],
   "source": [
    "a = [1, 2, 3]\n",
    "b = [1, [2, 3]]\n",
    "c = []\n",
    "d = [1, 2, 3][1:]\n",
    "\n",
    "# Put your predictions in the list below. Lengths should contain 4 numbers, the\n",
    "# first being the length of a, the second being the length of b and so on.\n",
    "lengths = [3,2,0,2]\n",
    "\n",
    "# Check your answer\n",
    "q4.check()"
   ]
  },
  {
   "cell_type": "code",
   "execution_count": 9,
   "id": "c7dce30e",
   "metadata": {
    "execution": {
     "iopub.execute_input": "2021-08-17T00:51:33.587419Z",
     "iopub.status.busy": "2021-08-17T00:51:33.586781Z",
     "iopub.status.idle": "2021-08-17T00:51:33.593822Z",
     "shell.execute_reply": "2021-08-17T00:51:33.594369Z",
     "shell.execute_reply.started": "2021-08-17T00:47:39.852349Z"
    },
    "papermill": {
     "duration": 0.031985,
     "end_time": "2021-08-17T00:51:33.594575",
     "exception": false,
     "start_time": "2021-08-17T00:51:33.562590",
     "status": "completed"
    },
    "tags": []
   },
   "outputs": [
    {
     "data": {
      "application/javascript": [
       "parent.postMessage({\"jupyterEvent\": \"custom.exercise_interaction\", \"data\": {\"interactionType\": 3, \"questionType\": 1, \"questionId\": \"4_UnderstandLen\", \"learnToolsVersion\": \"0.3.4\", \"valueTowardsCompletion\": 0.0, \"failureMessage\": \"\", \"exceptionClass\": \"\", \"trace\": \"\", \"outcomeType\": 4}}, \"*\")"
      ],
      "text/plain": [
       "<IPython.core.display.Javascript object>"
      ]
     },
     "metadata": {},
     "output_type": "display_data"
    },
    {
     "data": {
      "text/markdown": [
       "<span style=\"color:#33cc99\">Solution:</span> \n",
       "- a: There are three items in this list. Nothing tricky yet.\n",
       "- b: The list `[2, 3]` counts as a single item. It has one item before it. So we have 2 items in the list\n",
       "- c: The empty list has 0 items\n",
       "- d: The expression is the same as the list `[2, 3]`, which has length 2."
      ],
      "text/plain": [
       "Solution: \n",
       "- a: There are three items in this list. Nothing tricky yet.\n",
       "- b: The list `[2, 3]` counts as a single item. It has one item before it. So we have 2 items in the list\n",
       "- c: The empty list has 0 items\n",
       "- d: The expression is the same as the list `[2, 3]`, which has length 2."
      ]
     },
     "metadata": {},
     "output_type": "display_data"
    }
   ],
   "source": [
    "# line below provides some explanation\n",
    "q4.solution()"
   ]
  },
  {
   "cell_type": "markdown",
   "id": "a57518c9",
   "metadata": {
    "papermill": {
     "duration": 0.023102,
     "end_time": "2021-08-17T00:51:33.640783",
     "exception": false,
     "start_time": "2021-08-17T00:51:33.617681",
     "status": "completed"
    },
    "tags": []
   },
   "source": [
    "# 5. <span title=\"A bit spicy\" style=\"color: darkgreen \">🌶️</span>\n",
    "\n",
    "We're using lists to record people who attended our party and what order they arrived in. For example, the following list represents a party with 7 guests, in which Adela showed up first and Ford was the last to arrive:\n",
    "\n",
    "    party_attendees = ['Adela', 'Fleda', 'Owen', 'May', 'Mona', 'Gilbert', 'Ford']\n",
    "\n",
    "A guest is considered 'fashionably late' if they arrived after at least half of the party's guests. However, they must not be the very last guest (that's taking it too far). In the above example, Mona and Gilbert are the only guests who were fashionably late.\n",
    "\n",
    "Complete the function below which takes a list of party attendees as well as a person, and tells us whether that person is fashionably late."
   ]
  },
  {
   "cell_type": "code",
   "execution_count": 10,
   "id": "155ee3dd",
   "metadata": {
    "execution": {
     "iopub.execute_input": "2021-08-17T00:51:33.690939Z",
     "iopub.status.busy": "2021-08-17T00:51:33.690170Z",
     "iopub.status.idle": "2021-08-17T00:51:33.697855Z",
     "shell.execute_reply": "2021-08-17T00:51:33.698532Z",
     "shell.execute_reply.started": "2021-08-17T00:50:56.939661Z"
    },
    "papermill": {
     "duration": 0.034655,
     "end_time": "2021-08-17T00:51:33.698746",
     "exception": false,
     "start_time": "2021-08-17T00:51:33.664091",
     "status": "completed"
    },
    "tags": []
   },
   "outputs": [
    {
     "data": {
      "application/javascript": [
       "parent.postMessage({\"jupyterEvent\": \"custom.exercise_interaction\", \"data\": {\"outcomeType\": 1, \"valueTowardsCompletion\": 0.2, \"interactionType\": 1, \"questionType\": 2, \"questionId\": \"5_FashionablyLate\", \"learnToolsVersion\": \"0.3.4\", \"failureMessage\": \"\", \"exceptionClass\": \"\", \"trace\": \"\"}}, \"*\")"
      ],
      "text/plain": [
       "<IPython.core.display.Javascript object>"
      ]
     },
     "metadata": {},
     "output_type": "display_data"
    },
    {
     "data": {
      "text/markdown": [
       "<span style=\"color:#33cc33\">Correct</span>"
      ],
      "text/plain": [
       "Correct"
      ]
     },
     "metadata": {},
     "output_type": "display_data"
    }
   ],
   "source": [
    "def fashionably_late(arrivals, name):\n",
    "    \"\"\"Given an ordered list of arrivals to the party and a name, return whether the guest with that\n",
    "    name was fashionably late.\n",
    "    \"\"\"\n",
    "    order = arrivals.index(name)\n",
    "    return order >= len(arrivals) / 2 and order != len(arrivals) - 1\n",
    "\n",
    "# Check your answer\n",
    "q5.check()"
   ]
  },
  {
   "cell_type": "code",
   "execution_count": 11,
   "id": "b3a41b54",
   "metadata": {
    "execution": {
     "iopub.execute_input": "2021-08-17T00:51:33.752741Z",
     "iopub.status.busy": "2021-08-17T00:51:33.751842Z",
     "iopub.status.idle": "2021-08-17T00:51:33.759130Z",
     "shell.execute_reply": "2021-08-17T00:51:33.758567Z",
     "shell.execute_reply.started": "2021-08-17T00:50:23.609419Z"
    },
    "papermill": {
     "duration": 0.034323,
     "end_time": "2021-08-17T00:51:33.759291",
     "exception": false,
     "start_time": "2021-08-17T00:51:33.724968",
     "status": "completed"
    },
    "tags": []
   },
   "outputs": [
    {
     "data": {
      "application/javascript": [
       "parent.postMessage({\"jupyterEvent\": \"custom.exercise_interaction\", \"data\": {\"interactionType\": 3, \"questionType\": 2, \"questionId\": \"5_FashionablyLate\", \"learnToolsVersion\": \"0.3.4\", \"valueTowardsCompletion\": 0.0, \"failureMessage\": \"\", \"exceptionClass\": \"\", \"trace\": \"\", \"outcomeType\": 4}}, \"*\")"
      ],
      "text/plain": [
       "<IPython.core.display.Javascript object>"
      ]
     },
     "metadata": {},
     "output_type": "display_data"
    },
    {
     "data": {
      "text/markdown": [
       "<span style=\"color:#33cc99\">Solution:</span> \n",
       "```python\n",
       "def fashionably_late(arrivals, name):\n",
       "    order = arrivals.index(name)\n",
       "    return order >= len(arrivals) / 2 and order != len(arrivals) - 1\n",
       "```"
      ],
      "text/plain": [
       "Solution: \n",
       "```python\n",
       "def fashionably_late(arrivals, name):\n",
       "    order = arrivals.index(name)\n",
       "    return order >= len(arrivals) / 2 and order != len(arrivals) - 1\n",
       "```"
      ]
     },
     "metadata": {},
     "output_type": "display_data"
    }
   ],
   "source": [
    "#q5.hint()\n",
    "q5.solution()"
   ]
  },
  {
   "cell_type": "markdown",
   "id": "a4466f5b",
   "metadata": {
    "papermill": {
     "duration": 0.02521,
     "end_time": "2021-08-17T00:51:33.810205",
     "exception": false,
     "start_time": "2021-08-17T00:51:33.784995",
     "status": "completed"
    },
    "tags": []
   },
   "source": [
    "# Keep Going\n",
    "\n",
    "That's it for lists and tuples! Now you have the baseline knowledge to **[learn about loops](https://www.kaggle.com/colinmorris/loops-and-list-comprehensions)**, which is where lists and tuples get really interesting. "
   ]
  },
  {
   "cell_type": "markdown",
   "id": "0b662b5c",
   "metadata": {
    "papermill": {
     "duration": 0.024629,
     "end_time": "2021-08-17T00:51:33.860223",
     "exception": false,
     "start_time": "2021-08-17T00:51:33.835594",
     "status": "completed"
    },
    "tags": []
   },
   "source": [
    "---\n",
    "\n",
    "\n",
    "\n",
    "\n",
    "*Have questions or comments? Visit the [Learn Discussion forum](https://www.kaggle.com/learn-forum/161283) to chat with other Learners.*"
   ]
  }
 ],
 "metadata": {
  "kernelspec": {
   "display_name": "Python 3",
   "language": "python",
   "name": "python3"
  },
  "language_info": {
   "codemirror_mode": {
    "name": "ipython",
    "version": 3
   },
   "file_extension": ".py",
   "mimetype": "text/x-python",
   "name": "python",
   "nbconvert_exporter": "python",
   "pygments_lexer": "ipython3",
   "version": "3.7.10"
  },
  "papermill": {
   "default_parameters": {},
   "duration": 10.49081,
   "end_time": "2021-08-17T00:51:34.597397",
   "environment_variables": {},
   "exception": null,
   "input_path": "__notebook__.ipynb",
   "output_path": "__notebook__.ipynb",
   "parameters": {},
   "start_time": "2021-08-17T00:51:24.106587",
   "version": "2.3.3"
  }
 },
 "nbformat": 4,
 "nbformat_minor": 5
}
