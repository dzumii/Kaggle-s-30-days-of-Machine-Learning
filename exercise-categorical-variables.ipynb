{
 "cells": [
  {
   "cell_type": "markdown",
   "id": "ed6f029b",
   "metadata": {
    "papermill": {
     "duration": 0.03031,
     "end_time": "2021-08-17T02:32:38.832199",
     "exception": false,
     "start_time": "2021-08-17T02:32:38.801889",
     "status": "completed"
    },
    "tags": []
   },
   "source": [
    "**This notebook is an exercise in the [Intermediate Machine Learning](https://www.kaggle.com/learn/intermediate-machine-learning) course.  You can reference the tutorial at [this link](https://www.kaggle.com/alexisbcook/categorical-variables).**\n",
    "\n",
    "---\n"
   ]
  },
  {
   "cell_type": "markdown",
   "id": "7f507cdf",
   "metadata": {
    "papermill": {
     "duration": 0.028696,
     "end_time": "2021-08-17T02:32:38.890065",
     "exception": false,
     "start_time": "2021-08-17T02:32:38.861369",
     "status": "completed"
    },
    "tags": []
   },
   "source": [
    "By encoding **categorical variables**, you'll obtain your best results thus far!\n",
    "\n",
    "# Setup\n",
    "\n",
    "The questions below will give you feedback on your work. Run the following cell to set up the feedback system."
   ]
  },
  {
   "cell_type": "code",
   "execution_count": 1,
   "id": "b20c2b91",
   "metadata": {
    "execution": {
     "iopub.execute_input": "2021-08-17T02:32:38.954785Z",
     "iopub.status.busy": "2021-08-17T02:32:38.952954Z",
     "iopub.status.idle": "2021-08-17T02:32:39.101138Z",
     "shell.execute_reply": "2021-08-17T02:32:39.101986Z",
     "shell.execute_reply.started": "2021-08-17T02:14:51.904683Z"
    },
    "papermill": {
     "duration": 0.183022,
     "end_time": "2021-08-17T02:32:39.102435",
     "exception": false,
     "start_time": "2021-08-17T02:32:38.919413",
     "status": "completed"
    },
    "tags": []
   },
   "outputs": [
    {
     "name": "stdout",
     "output_type": "stream",
     "text": [
      "Setup Complete\n"
     ]
    }
   ],
   "source": [
    "# Set up code checking\n",
    "import os\n",
    "if not os.path.exists(\"../input/train.csv\"):\n",
    "    os.symlink(\"../input/home-data-for-ml-course/train.csv\", \"../input/train.csv\")  \n",
    "    os.symlink(\"../input/home-data-for-ml-course/test.csv\", \"../input/test.csv\") \n",
    "from learntools.core import binder\n",
    "binder.bind(globals())\n",
    "from learntools.ml_intermediate.ex3 import *\n",
    "print(\"Setup Complete\")"
   ]
  },
  {
   "cell_type": "markdown",
   "id": "be47e249",
   "metadata": {
    "papermill": {
     "duration": 0.037765,
     "end_time": "2021-08-17T02:32:39.182568",
     "exception": false,
     "start_time": "2021-08-17T02:32:39.144803",
     "status": "completed"
    },
    "tags": []
   },
   "source": [
    "In this exercise, you will work with data from the [Housing Prices Competition for Kaggle Learn Users](https://www.kaggle.com/c/home-data-for-ml-course). \n",
    "\n",
    "![Ames Housing dataset image](https://i.imgur.com/lTJVG4e.png)\n",
    "\n",
    "Run the next code cell without changes to load the training and validation sets in `X_train`, `X_valid`, `y_train`, and `y_valid`.  The test set is loaded in `X_test`."
   ]
  },
  {
   "cell_type": "code",
   "execution_count": 2,
   "id": "3ee8fcc5",
   "metadata": {
    "execution": {
     "iopub.execute_input": "2021-08-17T02:32:39.254851Z",
     "iopub.status.busy": "2021-08-17T02:32:39.254154Z",
     "iopub.status.idle": "2021-08-17T02:32:40.392403Z",
     "shell.execute_reply": "2021-08-17T02:32:40.391853Z",
     "shell.execute_reply.started": "2021-08-17T02:14:56.939350Z"
    },
    "papermill": {
     "duration": 1.172464,
     "end_time": "2021-08-17T02:32:40.392684",
     "exception": false,
     "start_time": "2021-08-17T02:32:39.220220",
     "status": "completed"
    },
    "tags": []
   },
   "outputs": [],
   "source": [
    "import pandas as pd\n",
    "from sklearn.model_selection import train_test_split\n",
    "\n",
    "# Read the data\n",
    "X = pd.read_csv('../input/train.csv', index_col='Id') \n",
    "X_test = pd.read_csv('../input/test.csv', index_col='Id')\n",
    "\n",
    "# Remove rows with missing target, separate target from predictors\n",
    "X.dropna(axis=0, subset=['SalePrice'], inplace=True)\n",
    "y = X.SalePrice\n",
    "X.drop(['SalePrice'], axis=1, inplace=True)\n",
    "\n",
    "# To keep things simple, we'll drop columns with missing values\n",
    "cols_with_missing = [col for col in X.columns if X[col].isnull().any()] \n",
    "X.drop(cols_with_missing, axis=1, inplace=True)\n",
    "X_test.drop(cols_with_missing, axis=1, inplace=True)\n",
    "\n",
    "# Break off validation set from training data\n",
    "X_train, X_valid, y_train, y_valid = train_test_split(X, y,\n",
    "                                                      train_size=0.8, test_size=0.2,\n",
    "                                                      random_state=0)"
   ]
  },
  {
   "cell_type": "markdown",
   "id": "d218bf0f",
   "metadata": {
    "papermill": {
     "duration": 0.030113,
     "end_time": "2021-08-17T02:32:40.452322",
     "exception": false,
     "start_time": "2021-08-17T02:32:40.422209",
     "status": "completed"
    },
    "tags": []
   },
   "source": [
    "Use the next code cell to print the first five rows of the data."
   ]
  },
  {
   "cell_type": "code",
   "execution_count": 3,
   "id": "029cbb23",
   "metadata": {
    "execution": {
     "iopub.execute_input": "2021-08-17T02:32:40.523377Z",
     "iopub.status.busy": "2021-08-17T02:32:40.522329Z",
     "iopub.status.idle": "2021-08-17T02:32:40.551365Z",
     "shell.execute_reply": "2021-08-17T02:32:40.550859Z",
     "shell.execute_reply.started": "2021-08-17T02:17:00.395807Z"
    },
    "papermill": {
     "duration": 0.068284,
     "end_time": "2021-08-17T02:32:40.551531",
     "exception": false,
     "start_time": "2021-08-17T02:32:40.483247",
     "status": "completed"
    },
    "tags": []
   },
   "outputs": [
    {
     "data": {
      "text/html": [
       "<div>\n",
       "<style scoped>\n",
       "    .dataframe tbody tr th:only-of-type {\n",
       "        vertical-align: middle;\n",
       "    }\n",
       "\n",
       "    .dataframe tbody tr th {\n",
       "        vertical-align: top;\n",
       "    }\n",
       "\n",
       "    .dataframe thead th {\n",
       "        text-align: right;\n",
       "    }\n",
       "</style>\n",
       "<table border=\"1\" class=\"dataframe\">\n",
       "  <thead>\n",
       "    <tr style=\"text-align: right;\">\n",
       "      <th></th>\n",
       "      <th>MSSubClass</th>\n",
       "      <th>MSZoning</th>\n",
       "      <th>LotArea</th>\n",
       "      <th>Street</th>\n",
       "      <th>LotShape</th>\n",
       "      <th>LandContour</th>\n",
       "      <th>Utilities</th>\n",
       "      <th>LotConfig</th>\n",
       "      <th>LandSlope</th>\n",
       "      <th>Neighborhood</th>\n",
       "      <th>...</th>\n",
       "      <th>OpenPorchSF</th>\n",
       "      <th>EnclosedPorch</th>\n",
       "      <th>3SsnPorch</th>\n",
       "      <th>ScreenPorch</th>\n",
       "      <th>PoolArea</th>\n",
       "      <th>MiscVal</th>\n",
       "      <th>MoSold</th>\n",
       "      <th>YrSold</th>\n",
       "      <th>SaleType</th>\n",
       "      <th>SaleCondition</th>\n",
       "    </tr>\n",
       "    <tr>\n",
       "      <th>Id</th>\n",
       "      <th></th>\n",
       "      <th></th>\n",
       "      <th></th>\n",
       "      <th></th>\n",
       "      <th></th>\n",
       "      <th></th>\n",
       "      <th></th>\n",
       "      <th></th>\n",
       "      <th></th>\n",
       "      <th></th>\n",
       "      <th></th>\n",
       "      <th></th>\n",
       "      <th></th>\n",
       "      <th></th>\n",
       "      <th></th>\n",
       "      <th></th>\n",
       "      <th></th>\n",
       "      <th></th>\n",
       "      <th></th>\n",
       "      <th></th>\n",
       "      <th></th>\n",
       "    </tr>\n",
       "  </thead>\n",
       "  <tbody>\n",
       "    <tr>\n",
       "      <th>619</th>\n",
       "      <td>20</td>\n",
       "      <td>RL</td>\n",
       "      <td>11694</td>\n",
       "      <td>Pave</td>\n",
       "      <td>Reg</td>\n",
       "      <td>Lvl</td>\n",
       "      <td>AllPub</td>\n",
       "      <td>Inside</td>\n",
       "      <td>Gtl</td>\n",
       "      <td>NridgHt</td>\n",
       "      <td>...</td>\n",
       "      <td>108</td>\n",
       "      <td>0</td>\n",
       "      <td>0</td>\n",
       "      <td>260</td>\n",
       "      <td>0</td>\n",
       "      <td>0</td>\n",
       "      <td>7</td>\n",
       "      <td>2007</td>\n",
       "      <td>New</td>\n",
       "      <td>Partial</td>\n",
       "    </tr>\n",
       "    <tr>\n",
       "      <th>871</th>\n",
       "      <td>20</td>\n",
       "      <td>RL</td>\n",
       "      <td>6600</td>\n",
       "      <td>Pave</td>\n",
       "      <td>Reg</td>\n",
       "      <td>Lvl</td>\n",
       "      <td>AllPub</td>\n",
       "      <td>Inside</td>\n",
       "      <td>Gtl</td>\n",
       "      <td>NAmes</td>\n",
       "      <td>...</td>\n",
       "      <td>0</td>\n",
       "      <td>0</td>\n",
       "      <td>0</td>\n",
       "      <td>0</td>\n",
       "      <td>0</td>\n",
       "      <td>0</td>\n",
       "      <td>8</td>\n",
       "      <td>2009</td>\n",
       "      <td>WD</td>\n",
       "      <td>Normal</td>\n",
       "    </tr>\n",
       "    <tr>\n",
       "      <th>93</th>\n",
       "      <td>30</td>\n",
       "      <td>RL</td>\n",
       "      <td>13360</td>\n",
       "      <td>Pave</td>\n",
       "      <td>IR1</td>\n",
       "      <td>HLS</td>\n",
       "      <td>AllPub</td>\n",
       "      <td>Inside</td>\n",
       "      <td>Gtl</td>\n",
       "      <td>Crawfor</td>\n",
       "      <td>...</td>\n",
       "      <td>0</td>\n",
       "      <td>44</td>\n",
       "      <td>0</td>\n",
       "      <td>0</td>\n",
       "      <td>0</td>\n",
       "      <td>0</td>\n",
       "      <td>8</td>\n",
       "      <td>2009</td>\n",
       "      <td>WD</td>\n",
       "      <td>Normal</td>\n",
       "    </tr>\n",
       "    <tr>\n",
       "      <th>818</th>\n",
       "      <td>20</td>\n",
       "      <td>RL</td>\n",
       "      <td>13265</td>\n",
       "      <td>Pave</td>\n",
       "      <td>IR1</td>\n",
       "      <td>Lvl</td>\n",
       "      <td>AllPub</td>\n",
       "      <td>CulDSac</td>\n",
       "      <td>Gtl</td>\n",
       "      <td>Mitchel</td>\n",
       "      <td>...</td>\n",
       "      <td>59</td>\n",
       "      <td>0</td>\n",
       "      <td>0</td>\n",
       "      <td>0</td>\n",
       "      <td>0</td>\n",
       "      <td>0</td>\n",
       "      <td>7</td>\n",
       "      <td>2008</td>\n",
       "      <td>WD</td>\n",
       "      <td>Normal</td>\n",
       "    </tr>\n",
       "    <tr>\n",
       "      <th>303</th>\n",
       "      <td>20</td>\n",
       "      <td>RL</td>\n",
       "      <td>13704</td>\n",
       "      <td>Pave</td>\n",
       "      <td>IR1</td>\n",
       "      <td>Lvl</td>\n",
       "      <td>AllPub</td>\n",
       "      <td>Corner</td>\n",
       "      <td>Gtl</td>\n",
       "      <td>CollgCr</td>\n",
       "      <td>...</td>\n",
       "      <td>81</td>\n",
       "      <td>0</td>\n",
       "      <td>0</td>\n",
       "      <td>0</td>\n",
       "      <td>0</td>\n",
       "      <td>0</td>\n",
       "      <td>1</td>\n",
       "      <td>2006</td>\n",
       "      <td>WD</td>\n",
       "      <td>Normal</td>\n",
       "    </tr>\n",
       "  </tbody>\n",
       "</table>\n",
       "<p>5 rows × 60 columns</p>\n",
       "</div>"
      ],
      "text/plain": [
       "     MSSubClass MSZoning  LotArea Street LotShape LandContour Utilities  \\\n",
       "Id                                                                        \n",
       "619          20       RL    11694   Pave      Reg         Lvl    AllPub   \n",
       "871          20       RL     6600   Pave      Reg         Lvl    AllPub   \n",
       "93           30       RL    13360   Pave      IR1         HLS    AllPub   \n",
       "818          20       RL    13265   Pave      IR1         Lvl    AllPub   \n",
       "303          20       RL    13704   Pave      IR1         Lvl    AllPub   \n",
       "\n",
       "    LotConfig LandSlope Neighborhood  ... OpenPorchSF EnclosedPorch 3SsnPorch  \\\n",
       "Id                                    ...                                       \n",
       "619    Inside       Gtl      NridgHt  ...         108             0         0   \n",
       "871    Inside       Gtl        NAmes  ...           0             0         0   \n",
       "93     Inside       Gtl      Crawfor  ...           0            44         0   \n",
       "818   CulDSac       Gtl      Mitchel  ...          59             0         0   \n",
       "303    Corner       Gtl      CollgCr  ...          81             0         0   \n",
       "\n",
       "    ScreenPorch  PoolArea  MiscVal  MoSold  YrSold SaleType SaleCondition  \n",
       "Id                                                                         \n",
       "619         260         0        0       7    2007      New       Partial  \n",
       "871           0         0        0       8    2009       WD        Normal  \n",
       "93            0         0        0       8    2009       WD        Normal  \n",
       "818           0         0        0       7    2008       WD        Normal  \n",
       "303           0         0        0       1    2006       WD        Normal  \n",
       "\n",
       "[5 rows x 60 columns]"
      ]
     },
     "execution_count": 3,
     "metadata": {},
     "output_type": "execute_result"
    }
   ],
   "source": [
    "X_train.head()"
   ]
  },
  {
   "cell_type": "markdown",
   "id": "12b88781",
   "metadata": {
    "papermill": {
     "duration": 0.030498,
     "end_time": "2021-08-17T02:32:40.612546",
     "exception": false,
     "start_time": "2021-08-17T02:32:40.582048",
     "status": "completed"
    },
    "tags": []
   },
   "source": [
    "Notice that the dataset contains both numerical and categorical variables.  You'll need to encode the categorical data before training a model.\n",
    "\n",
    "To compare different models, you'll use the same `score_dataset()` function from the tutorial.  This function reports the [mean absolute error](https://en.wikipedia.org/wiki/Mean_absolute_error) (MAE) from a random forest model."
   ]
  },
  {
   "cell_type": "code",
   "execution_count": 4,
   "id": "a48bf049",
   "metadata": {
    "execution": {
     "iopub.execute_input": "2021-08-17T02:32:40.689528Z",
     "iopub.status.busy": "2021-08-17T02:32:40.687985Z",
     "iopub.status.idle": "2021-08-17T02:32:40.910257Z",
     "shell.execute_reply": "2021-08-17T02:32:40.909578Z",
     "shell.execute_reply.started": "2021-08-17T02:17:11.608890Z"
    },
    "papermill": {
     "duration": 0.265294,
     "end_time": "2021-08-17T02:32:40.910391",
     "exception": false,
     "start_time": "2021-08-17T02:32:40.645097",
     "status": "completed"
    },
    "tags": []
   },
   "outputs": [],
   "source": [
    "from sklearn.ensemble import RandomForestRegressor\n",
    "from sklearn.metrics import mean_absolute_error\n",
    "\n",
    "# function for comparing different approaches\n",
    "def score_dataset(X_train, X_valid, y_train, y_valid):\n",
    "    model = RandomForestRegressor(n_estimators=100, random_state=0)\n",
    "    model.fit(X_train, y_train)\n",
    "    preds = model.predict(X_valid)\n",
    "    return mean_absolute_error(y_valid, preds)"
   ]
  },
  {
   "cell_type": "markdown",
   "id": "455a7696",
   "metadata": {
    "papermill": {
     "duration": 0.029447,
     "end_time": "2021-08-17T02:32:40.970044",
     "exception": false,
     "start_time": "2021-08-17T02:32:40.940597",
     "status": "completed"
    },
    "tags": []
   },
   "source": [
    "# Step 1: Drop columns with categorical data\n",
    "\n",
    "You'll get started with the most straightforward approach.  Use the code cell below to preprocess the data in `X_train` and `X_valid` to remove columns with categorical data.  Set the preprocessed DataFrames to `drop_X_train` and `drop_X_valid`, respectively.  "
   ]
  },
  {
   "cell_type": "code",
   "execution_count": 5,
   "id": "2bf1436c",
   "metadata": {
    "execution": {
     "iopub.execute_input": "2021-08-17T02:32:41.032701Z",
     "iopub.status.busy": "2021-08-17T02:32:41.032027Z",
     "iopub.status.idle": "2021-08-17T02:32:41.045473Z",
     "shell.execute_reply": "2021-08-17T02:32:41.044929Z",
     "shell.execute_reply.started": "2021-08-17T02:18:20.165955Z"
    },
    "papermill": {
     "duration": 0.045846,
     "end_time": "2021-08-17T02:32:41.045640",
     "exception": false,
     "start_time": "2021-08-17T02:32:40.999794",
     "status": "completed"
    },
    "tags": []
   },
   "outputs": [
    {
     "data": {
      "application/javascript": [
       "parent.postMessage({\"jupyterEvent\": \"custom.exercise_interaction\", \"data\": {\"outcomeType\": 1, \"valueTowardsCompletion\": 0.5, \"interactionType\": 1, \"questionType\": 2, \"questionId\": \"1_Drop\", \"learnToolsVersion\": \"0.3.4\", \"failureMessage\": \"\", \"exceptionClass\": \"\", \"trace\": \"\"}}, \"*\")"
      ],
      "text/plain": [
       "<IPython.core.display.Javascript object>"
      ]
     },
     "metadata": {},
     "output_type": "display_data"
    },
    {
     "data": {
      "text/markdown": [
       "<span style=\"color:#33cc33\">Correct</span>"
      ],
      "text/plain": [
       "Correct"
      ]
     },
     "metadata": {},
     "output_type": "display_data"
    }
   ],
   "source": [
    "# Fill in the lines below: drop columns in training and validation data\n",
    "drop_X_train = X_train.select_dtypes(exclude=['object'])\n",
    "drop_X_valid = X_valid.select_dtypes(exclude=['object'])\n",
    "\n",
    "# Check your answers\n",
    "step_1.check()"
   ]
  },
  {
   "cell_type": "code",
   "execution_count": 6,
   "id": "b9a50073",
   "metadata": {
    "execution": {
     "iopub.execute_input": "2021-08-17T02:32:41.113270Z",
     "iopub.status.busy": "2021-08-17T02:32:41.112419Z",
     "iopub.status.idle": "2021-08-17T02:32:41.116614Z",
     "shell.execute_reply": "2021-08-17T02:32:41.115951Z"
    },
    "papermill": {
     "duration": 0.039658,
     "end_time": "2021-08-17T02:32:41.116756",
     "exception": false,
     "start_time": "2021-08-17T02:32:41.077098",
     "status": "completed"
    },
    "tags": []
   },
   "outputs": [],
   "source": [
    "# Lines below will give you a hint or solution code\n",
    "#step_1.hint()\n",
    "#step_1.solution()"
   ]
  },
  {
   "cell_type": "markdown",
   "id": "25560b5b",
   "metadata": {
    "papermill": {
     "duration": 0.03114,
     "end_time": "2021-08-17T02:32:41.179259",
     "exception": false,
     "start_time": "2021-08-17T02:32:41.148119",
     "status": "completed"
    },
    "tags": []
   },
   "source": [
    "Run the next code cell to get the MAE for this approach."
   ]
  },
  {
   "cell_type": "code",
   "execution_count": 7,
   "id": "bbbadc26",
   "metadata": {
    "execution": {
     "iopub.execute_input": "2021-08-17T02:32:41.249840Z",
     "iopub.status.busy": "2021-08-17T02:32:41.248775Z",
     "iopub.status.idle": "2021-08-17T02:32:42.497540Z",
     "shell.execute_reply": "2021-08-17T02:32:42.496982Z",
     "shell.execute_reply.started": "2021-08-17T02:18:35.434656Z"
    },
    "papermill": {
     "duration": 1.287246,
     "end_time": "2021-08-17T02:32:42.497680",
     "exception": false,
     "start_time": "2021-08-17T02:32:41.210434",
     "status": "completed"
    },
    "tags": []
   },
   "outputs": [
    {
     "name": "stdout",
     "output_type": "stream",
     "text": [
      "MAE from Approach 1 (Drop categorical variables):\n",
      "17837.82570776256\n"
     ]
    }
   ],
   "source": [
    "print(\"MAE from Approach 1 (Drop categorical variables):\")\n",
    "print(score_dataset(drop_X_train, drop_X_valid, y_train, y_valid))"
   ]
  },
  {
   "cell_type": "markdown",
   "id": "7524a538",
   "metadata": {
    "papermill": {
     "duration": 0.031605,
     "end_time": "2021-08-17T02:32:42.561224",
     "exception": false,
     "start_time": "2021-08-17T02:32:42.529619",
     "status": "completed"
    },
    "tags": []
   },
   "source": [
    "Before jumping into ordinal encoding, we'll investigate the dataset.  Specifically, we'll look at the `'Condition2'` column.  The code cell below prints the unique entries in both the training and validation sets."
   ]
  },
  {
   "cell_type": "code",
   "execution_count": 8,
   "id": "ebc99ee5",
   "metadata": {
    "execution": {
     "iopub.execute_input": "2021-08-17T02:32:42.632305Z",
     "iopub.status.busy": "2021-08-17T02:32:42.631257Z",
     "iopub.status.idle": "2021-08-17T02:32:42.636904Z",
     "shell.execute_reply": "2021-08-17T02:32:42.637365Z",
     "shell.execute_reply.started": "2021-08-17T02:19:07.618747Z"
    },
    "papermill": {
     "duration": 0.044226,
     "end_time": "2021-08-17T02:32:42.637556",
     "exception": false,
     "start_time": "2021-08-17T02:32:42.593330",
     "status": "completed"
    },
    "tags": []
   },
   "outputs": [
    {
     "name": "stdout",
     "output_type": "stream",
     "text": [
      "Unique values in 'Condition2' column in training data: ['Norm' 'PosA' 'Feedr' 'PosN' 'Artery' 'RRAe']\n",
      "\n",
      "Unique values in 'Condition2' column in validation data: ['Norm' 'RRAn' 'RRNn' 'Artery' 'Feedr' 'PosN']\n"
     ]
    }
   ],
   "source": [
    "print(\"Unique values in 'Condition2' column in training data:\", X_train['Condition2'].unique())\n",
    "print(\"\\nUnique values in 'Condition2' column in validation data:\", X_valid['Condition2'].unique())"
   ]
  },
  {
   "cell_type": "markdown",
   "id": "344e78e7",
   "metadata": {
    "papermill": {
     "duration": 0.032003,
     "end_time": "2021-08-17T02:32:42.702615",
     "exception": false,
     "start_time": "2021-08-17T02:32:42.670612",
     "status": "completed"
    },
    "tags": []
   },
   "source": [
    "# Step 2: Ordinal encoding\n",
    "\n",
    "### Part A\n",
    "\n",
    "If you now write code to: \n",
    "- fit an ordinal encoder to the training data, and then \n",
    "- use it to transform both the training and validation data, \n",
    "\n",
    "you'll get an error.  Can you see why this is the case?  (_You'll need  to use the above output to answer this question._)"
   ]
  },
  {
   "cell_type": "code",
   "execution_count": 9,
   "id": "619be10e",
   "metadata": {
    "execution": {
     "iopub.execute_input": "2021-08-17T02:32:42.772445Z",
     "iopub.status.busy": "2021-08-17T02:32:42.771745Z",
     "iopub.status.idle": "2021-08-17T02:32:42.778071Z",
     "shell.execute_reply": "2021-08-17T02:32:42.777393Z"
    },
    "papermill": {
     "duration": 0.043531,
     "end_time": "2021-08-17T02:32:42.778213",
     "exception": false,
     "start_time": "2021-08-17T02:32:42.734682",
     "status": "completed"
    },
    "tags": []
   },
   "outputs": [
    {
     "data": {
      "application/javascript": [
       "parent.postMessage({\"jupyterEvent\": \"custom.exercise_interaction\", \"data\": {\"outcomeType\": 1, \"valueTowardsCompletion\": 0.5, \"interactionType\": 1, \"questionType\": 4, \"questionId\": \"2.1_LabelA\", \"learnToolsVersion\": \"0.3.4\", \"failureMessage\": \"\", \"exceptionClass\": \"\", \"trace\": \"\"}}, \"*\")"
      ],
      "text/plain": [
       "<IPython.core.display.Javascript object>"
      ]
     },
     "metadata": {},
     "output_type": "display_data"
    },
    {
     "data": {
      "text/markdown": [
       "<span style=\"color:#33cc33\">Correct:</span> \n",
       "\n",
       "Fitting an ordinal encoder to a column in the training data creates a corresponding integer-valued label for each unique value **that appears in the training data**. In the case that the validation data contains values that don't also appear in the training data, the encoder will throw an error, because these values won't have an integer assigned to them.  Notice that the `'Condition2'` column in the validation data contains the values `'RRAn'` and `'RRNn'`, but these don't appear in the training data -- thus, if we try to use an ordinal encoder with scikit-learn, the code will throw an error."
      ],
      "text/plain": [
       "Correct: \n",
       "\n",
       "Fitting an ordinal encoder to a column in the training data creates a corresponding integer-valued label for each unique value **that appears in the training data**. In the case that the validation data contains values that don't also appear in the training data, the encoder will throw an error, because these values won't have an integer assigned to them.  Notice that the `'Condition2'` column in the validation data contains the values `'RRAn'` and `'RRNn'`, but these don't appear in the training data -- thus, if we try to use an ordinal encoder with scikit-learn, the code will throw an error."
      ]
     },
     "metadata": {},
     "output_type": "display_data"
    }
   ],
   "source": [
    "# Check your answer (Run this code cell to receive credit!)\n",
    "step_2.a.check()"
   ]
  },
  {
   "cell_type": "code",
   "execution_count": 10,
   "id": "774aa2c6",
   "metadata": {
    "execution": {
     "iopub.execute_input": "2021-08-17T02:32:42.849687Z",
     "iopub.status.busy": "2021-08-17T02:32:42.849063Z",
     "iopub.status.idle": "2021-08-17T02:32:42.851842Z",
     "shell.execute_reply": "2021-08-17T02:32:42.852322Z"
    },
    "papermill": {
     "duration": 0.040704,
     "end_time": "2021-08-17T02:32:42.852510",
     "exception": false,
     "start_time": "2021-08-17T02:32:42.811806",
     "status": "completed"
    },
    "tags": []
   },
   "outputs": [],
   "source": [
    "#step_2.a.hint()"
   ]
  },
  {
   "cell_type": "markdown",
   "id": "53e2ccb7",
   "metadata": {
    "papermill": {
     "duration": 0.032917,
     "end_time": "2021-08-17T02:32:42.918784",
     "exception": false,
     "start_time": "2021-08-17T02:32:42.885867",
     "status": "completed"
    },
    "tags": []
   },
   "source": [
    "This is a common problem that you'll encounter with real-world data, and there are many approaches to fixing this issue.  For instance, you can write a custom ordinal encoder to deal with new categories.  The simplest approach, however, is to drop the problematic categorical columns.  \n",
    "\n",
    "Run the code cell below to save the problematic columns to a Python list `bad_label_cols`.  Likewise, columns that can be safely ordinal encoded are stored in `good_label_cols`."
   ]
  },
  {
   "cell_type": "code",
   "execution_count": 11,
   "id": "9c39bf2e",
   "metadata": {
    "execution": {
     "iopub.execute_input": "2021-08-17T02:32:43.001596Z",
     "iopub.status.busy": "2021-08-17T02:32:43.000828Z",
     "iopub.status.idle": "2021-08-17T02:32:43.005646Z",
     "shell.execute_reply": "2021-08-17T02:32:43.006116Z",
     "shell.execute_reply.started": "2021-08-17T02:21:13.948973Z"
    },
    "papermill": {
     "duration": 0.054197,
     "end_time": "2021-08-17T02:32:43.006292",
     "exception": false,
     "start_time": "2021-08-17T02:32:42.952095",
     "status": "completed"
    },
    "tags": []
   },
   "outputs": [
    {
     "name": "stdout",
     "output_type": "stream",
     "text": [
      "Categorical columns that will be ordinal encoded: ['MSZoning', 'Street', 'LotShape', 'LandContour', 'Utilities', 'LotConfig', 'LandSlope', 'Neighborhood', 'Condition1', 'BldgType', 'HouseStyle', 'RoofStyle', 'Exterior1st', 'Exterior2nd', 'ExterQual', 'ExterCond', 'Foundation', 'Heating', 'HeatingQC', 'CentralAir', 'KitchenQual', 'PavedDrive', 'SaleType', 'SaleCondition']\n",
      "\n",
      "Categorical columns that will be dropped from the dataset: ['RoofMatl', 'Condition2', 'Functional']\n"
     ]
    }
   ],
   "source": [
    "# Categorical columns in the training data\n",
    "object_cols = [col for col in X_train.columns if X_train[col].dtype == \"object\"]\n",
    "\n",
    "# Columns that can be safely ordinal encoded\n",
    "good_label_cols = [col for col in object_cols if \n",
    "                   set(X_valid[col]).issubset(set(X_train[col]))]\n",
    "        \n",
    "# Problematic columns that will be dropped from the dataset\n",
    "bad_label_cols = list(set(object_cols)-set(good_label_cols))\n",
    "        \n",
    "print('Categorical columns that will be ordinal encoded:', good_label_cols)\n",
    "print('\\nCategorical columns that will be dropped from the dataset:', bad_label_cols)"
   ]
  },
  {
   "cell_type": "markdown",
   "id": "ea970bf1",
   "metadata": {
    "papermill": {
     "duration": 0.03422,
     "end_time": "2021-08-17T02:32:43.074453",
     "exception": false,
     "start_time": "2021-08-17T02:32:43.040233",
     "status": "completed"
    },
    "tags": []
   },
   "source": [
    "### Part B\n",
    "\n",
    "Use the next code cell to ordinal encode the data in `X_train` and `X_valid`.  Set the preprocessed DataFrames to `label_X_train` and `label_X_valid`, respectively.  \n",
    "- We have provided code below to drop the categorical columns in `bad_label_cols` from the dataset. \n",
    "- You should ordinal encode the categorical columns in `good_label_cols`.  "
   ]
  },
  {
   "cell_type": "code",
   "execution_count": 12,
   "id": "f4dedc5e",
   "metadata": {
    "execution": {
     "iopub.execute_input": "2021-08-17T02:32:43.172292Z",
     "iopub.status.busy": "2021-08-17T02:32:43.171597Z",
     "iopub.status.idle": "2021-08-17T02:32:43.219216Z",
     "shell.execute_reply": "2021-08-17T02:32:43.218722Z",
     "shell.execute_reply.started": "2021-08-17T02:22:20.815772Z"
    },
    "papermill": {
     "duration": 0.110528,
     "end_time": "2021-08-17T02:32:43.219351",
     "exception": false,
     "start_time": "2021-08-17T02:32:43.108823",
     "status": "completed"
    },
    "tags": []
   },
   "outputs": [
    {
     "data": {
      "application/javascript": [
       "parent.postMessage({\"jupyterEvent\": \"custom.exercise_interaction\", \"data\": {\"outcomeType\": 1, \"valueTowardsCompletion\": 0.5, \"interactionType\": 1, \"questionType\": 2, \"questionId\": \"2.2_LabelB\", \"learnToolsVersion\": \"0.3.4\", \"failureMessage\": \"\", \"exceptionClass\": \"\", \"trace\": \"\"}}, \"*\")"
      ],
      "text/plain": [
       "<IPython.core.display.Javascript object>"
      ]
     },
     "metadata": {},
     "output_type": "display_data"
    },
    {
     "data": {
      "text/markdown": [
       "<span style=\"color:#33cc33\">Correct</span>"
      ],
      "text/plain": [
       "Correct"
      ]
     },
     "metadata": {},
     "output_type": "display_data"
    }
   ],
   "source": [
    "from sklearn.preprocessing import OrdinalEncoder\n",
    "\n",
    "# Drop categorical columns that will not be encoded\n",
    "label_X_train = X_train.drop(bad_label_cols, axis=1)\n",
    "label_X_valid = X_valid.drop(bad_label_cols, axis=1)\n",
    "\n",
    "# Apply ordinal encoder \n",
    "ordinal_encoder = OrdinalEncoder()\n",
    "label_X_train[good_label_cols] = ordinal_encoder.fit_transform(X_train[good_label_cols])\n",
    "label_X_valid[good_label_cols] = ordinal_encoder.transform(X_valid[good_label_cols]) # Your code here\n",
    "    \n",
    "# Check your answer\n",
    "step_2.b.check()"
   ]
  },
  {
   "cell_type": "code",
   "execution_count": 13,
   "id": "e19d0205",
   "metadata": {
    "execution": {
     "iopub.execute_input": "2021-08-17T02:32:43.292563Z",
     "iopub.status.busy": "2021-08-17T02:32:43.291920Z",
     "iopub.status.idle": "2021-08-17T02:32:43.294135Z",
     "shell.execute_reply": "2021-08-17T02:32:43.294675Z",
     "shell.execute_reply.started": "2021-08-17T02:22:31.603534Z"
    },
    "papermill": {
     "duration": 0.040944,
     "end_time": "2021-08-17T02:32:43.294848",
     "exception": false,
     "start_time": "2021-08-17T02:32:43.253904",
     "status": "completed"
    },
    "tags": []
   },
   "outputs": [],
   "source": [
    "# Lines below will give you a hint or solution code\n",
    "#step_2.b.hint()\n",
    "#step_2.b.solution()"
   ]
  },
  {
   "cell_type": "markdown",
   "id": "97b8ab6f",
   "metadata": {
    "papermill": {
     "duration": 0.034334,
     "end_time": "2021-08-17T02:32:43.363669",
     "exception": false,
     "start_time": "2021-08-17T02:32:43.329335",
     "status": "completed"
    },
    "tags": []
   },
   "source": [
    "Run the next code cell to get the MAE for this approach."
   ]
  },
  {
   "cell_type": "code",
   "execution_count": 14,
   "id": "1eb402cb",
   "metadata": {
    "execution": {
     "iopub.execute_input": "2021-08-17T02:32:43.435855Z",
     "iopub.status.busy": "2021-08-17T02:32:43.435182Z",
     "iopub.status.idle": "2021-08-17T02:32:45.047953Z",
     "shell.execute_reply": "2021-08-17T02:32:45.047231Z",
     "shell.execute_reply.started": "2021-08-17T02:22:37.234675Z"
    },
    "papermill": {
     "duration": 1.649883,
     "end_time": "2021-08-17T02:32:45.048101",
     "exception": false,
     "start_time": "2021-08-17T02:32:43.398218",
     "status": "completed"
    },
    "tags": []
   },
   "outputs": [
    {
     "name": "stdout",
     "output_type": "stream",
     "text": [
      "MAE from Approach 2 (Ordinal Encoding):\n",
      "17098.01649543379\n"
     ]
    }
   ],
   "source": [
    "print(\"MAE from Approach 2 (Ordinal Encoding):\") \n",
    "print(score_dataset(label_X_train, label_X_valid, y_train, y_valid))"
   ]
  },
  {
   "cell_type": "markdown",
   "id": "5ab0b3b6",
   "metadata": {
    "papermill": {
     "duration": 0.036065,
     "end_time": "2021-08-17T02:32:45.119951",
     "exception": false,
     "start_time": "2021-08-17T02:32:45.083886",
     "status": "completed"
    },
    "tags": []
   },
   "source": [
    "So far, you've tried two different approaches to dealing with categorical variables.  And, you've seen that encoding categorical data yields better results than removing columns from the dataset.\n",
    "\n",
    "Soon, you'll try one-hot encoding.  Before then, there's one additional topic we need to cover.  Begin by running the next code cell without changes.  "
   ]
  },
  {
   "cell_type": "code",
   "execution_count": 15,
   "id": "798644a0",
   "metadata": {
    "execution": {
     "iopub.execute_input": "2021-08-17T02:32:45.199458Z",
     "iopub.status.busy": "2021-08-17T02:32:45.198800Z",
     "iopub.status.idle": "2021-08-17T02:32:45.214672Z",
     "shell.execute_reply": "2021-08-17T02:32:45.214088Z",
     "shell.execute_reply.started": "2021-08-17T02:22:54.524965Z"
    },
    "papermill": {
     "duration": 0.059252,
     "end_time": "2021-08-17T02:32:45.214819",
     "exception": false,
     "start_time": "2021-08-17T02:32:45.155567",
     "status": "completed"
    },
    "tags": []
   },
   "outputs": [
    {
     "data": {
      "text/plain": [
       "[('Street', 2),\n",
       " ('Utilities', 2),\n",
       " ('CentralAir', 2),\n",
       " ('LandSlope', 3),\n",
       " ('PavedDrive', 3),\n",
       " ('LotShape', 4),\n",
       " ('LandContour', 4),\n",
       " ('ExterQual', 4),\n",
       " ('KitchenQual', 4),\n",
       " ('MSZoning', 5),\n",
       " ('LotConfig', 5),\n",
       " ('BldgType', 5),\n",
       " ('ExterCond', 5),\n",
       " ('HeatingQC', 5),\n",
       " ('Condition2', 6),\n",
       " ('RoofStyle', 6),\n",
       " ('Foundation', 6),\n",
       " ('Heating', 6),\n",
       " ('Functional', 6),\n",
       " ('SaleCondition', 6),\n",
       " ('RoofMatl', 7),\n",
       " ('HouseStyle', 8),\n",
       " ('Condition1', 9),\n",
       " ('SaleType', 9),\n",
       " ('Exterior1st', 15),\n",
       " ('Exterior2nd', 16),\n",
       " ('Neighborhood', 25)]"
      ]
     },
     "execution_count": 15,
     "metadata": {},
     "output_type": "execute_result"
    }
   ],
   "source": [
    "# Get number of unique entries in each column with categorical data\n",
    "object_nunique = list(map(lambda col: X_train[col].nunique(), object_cols))\n",
    "d = dict(zip(object_cols, object_nunique))\n",
    "\n",
    "# Print number of unique entries by column, in ascending order\n",
    "sorted(d.items(), key=lambda x: x[1])"
   ]
  },
  {
   "cell_type": "markdown",
   "id": "5f5623c0",
   "metadata": {
    "papermill": {
     "duration": 0.035109,
     "end_time": "2021-08-17T02:32:45.285776",
     "exception": false,
     "start_time": "2021-08-17T02:32:45.250667",
     "status": "completed"
    },
    "tags": []
   },
   "source": [
    "# Step 3: Investigating cardinality\n",
    "\n",
    "### Part A\n",
    "\n",
    "The output above shows, for each column with categorical data, the number of unique values in the column.  For instance, the `'Street'` column in the training data has two unique values: `'Grvl'` and `'Pave'`, corresponding to a gravel road and a paved road, respectively.\n",
    "\n",
    "We refer to the number of unique entries of a categorical variable as the **cardinality** of that categorical variable.  For instance, the `'Street'` variable has cardinality 2.\n",
    "\n",
    "Use the output above to answer the questions below."
   ]
  },
  {
   "cell_type": "code",
   "execution_count": 16,
   "id": "0534ccdc",
   "metadata": {
    "execution": {
     "iopub.execute_input": "2021-08-17T02:32:45.360112Z",
     "iopub.status.busy": "2021-08-17T02:32:45.359440Z",
     "iopub.status.idle": "2021-08-17T02:32:45.367103Z",
     "shell.execute_reply": "2021-08-17T02:32:45.366420Z",
     "shell.execute_reply.started": "2021-08-17T02:24:45.755088Z"
    },
    "papermill": {
     "duration": 0.045873,
     "end_time": "2021-08-17T02:32:45.367243",
     "exception": false,
     "start_time": "2021-08-17T02:32:45.321370",
     "status": "completed"
    },
    "tags": []
   },
   "outputs": [
    {
     "data": {
      "application/javascript": [
       "parent.postMessage({\"jupyterEvent\": \"custom.exercise_interaction\", \"data\": {\"outcomeType\": 1, \"valueTowardsCompletion\": 0.5, \"interactionType\": 1, \"questionType\": 1, \"questionId\": \"3.1_CardinalityA\", \"learnToolsVersion\": \"0.3.4\", \"failureMessage\": \"\", \"exceptionClass\": \"\", \"trace\": \"\"}}, \"*\")"
      ],
      "text/plain": [
       "<IPython.core.display.Javascript object>"
      ]
     },
     "metadata": {},
     "output_type": "display_data"
    },
    {
     "data": {
      "text/markdown": [
       "<span style=\"color:#33cc33\">Correct</span>"
      ],
      "text/plain": [
       "Correct"
      ]
     },
     "metadata": {},
     "output_type": "display_data"
    }
   ],
   "source": [
    "# Fill in the line below: How many categorical variables in the training data\n",
    "# have cardinality greater than 10?\n",
    "high_cardinality_numcols = 3\n",
    "\n",
    "# Fill in the line below: How many columns are needed to one-hot encode the \n",
    "# 'Neighborhood' variable in the training data?\n",
    "num_cols_neighborhood = 25\n",
    "\n",
    "# Check your answers\n",
    "step_3.a.check()"
   ]
  },
  {
   "cell_type": "code",
   "execution_count": 17,
   "id": "083751c9",
   "metadata": {
    "execution": {
     "iopub.execute_input": "2021-08-17T02:32:45.445071Z",
     "iopub.status.busy": "2021-08-17T02:32:45.444393Z",
     "iopub.status.idle": "2021-08-17T02:32:45.447163Z",
     "shell.execute_reply": "2021-08-17T02:32:45.447651Z"
    },
    "papermill": {
     "duration": 0.043537,
     "end_time": "2021-08-17T02:32:45.447830",
     "exception": false,
     "start_time": "2021-08-17T02:32:45.404293",
     "status": "completed"
    },
    "tags": []
   },
   "outputs": [],
   "source": [
    "# Lines below will give you a hint or solution code\n",
    "#step_3.a.hint()\n",
    "#step_3.a.solution()"
   ]
  },
  {
   "cell_type": "markdown",
   "id": "ef58e112",
   "metadata": {
    "papermill": {
     "duration": 0.036349,
     "end_time": "2021-08-17T02:32:45.522380",
     "exception": false,
     "start_time": "2021-08-17T02:32:45.486031",
     "status": "completed"
    },
    "tags": []
   },
   "source": [
    "### Part B\n",
    "\n",
    "For large datasets with many rows, one-hot encoding can greatly expand the size of the dataset.  For this reason, we typically will only one-hot encode columns with relatively low cardinality.  Then, high cardinality columns can either be dropped from the dataset, or we can use ordinal encoding.\n",
    "\n",
    "As an example, consider a dataset with 10,000 rows, and containing one categorical column with 100 unique entries.  \n",
    "- If this column is replaced with the corresponding one-hot encoding, how many entries are added to the dataset?  \n",
    "- If we instead replace the column with the ordinal encoding, how many entries are added?  \n",
    "\n",
    "Use your answers to fill in the lines below."
   ]
  },
  {
   "cell_type": "code",
   "execution_count": 18,
   "id": "44c0f224",
   "metadata": {
    "execution": {
     "iopub.execute_input": "2021-08-17T02:32:45.602013Z",
     "iopub.status.busy": "2021-08-17T02:32:45.601315Z",
     "iopub.status.idle": "2021-08-17T02:32:45.605578Z",
     "shell.execute_reply": "2021-08-17T02:32:45.606109Z",
     "shell.execute_reply.started": "2021-08-17T02:28:34.142111Z"
    },
    "papermill": {
     "duration": 0.047068,
     "end_time": "2021-08-17T02:32:45.606277",
     "exception": false,
     "start_time": "2021-08-17T02:32:45.559209",
     "status": "completed"
    },
    "tags": []
   },
   "outputs": [
    {
     "data": {
      "application/javascript": [
       "parent.postMessage({\"jupyterEvent\": \"custom.exercise_interaction\", \"data\": {\"outcomeType\": 1, \"valueTowardsCompletion\": 0.5, \"interactionType\": 1, \"questionType\": 1, \"questionId\": \"3.2_CardinalityB\", \"learnToolsVersion\": \"0.3.4\", \"failureMessage\": \"\", \"exceptionClass\": \"\", \"trace\": \"\"}}, \"*\")"
      ],
      "text/plain": [
       "<IPython.core.display.Javascript object>"
      ]
     },
     "metadata": {},
     "output_type": "display_data"
    },
    {
     "data": {
      "text/markdown": [
       "<span style=\"color:#33cc33\">Correct</span>"
      ],
      "text/plain": [
       "Correct"
      ]
     },
     "metadata": {},
     "output_type": "display_data"
    }
   ],
   "source": [
    "# Fill in the line below: How many entries are added to the dataset by \n",
    "# replacing the column with a one-hot encoding?\n",
    "OH_entries_added = 10000*100-10000\n",
    "\n",
    "# Fill in the line below: How many entries are added to the dataset by\n",
    "# replacing the column with an ordinal encoding?\n",
    "label_entries_added = 0\n",
    "\n",
    "# Check your answers\n",
    "step_3.b.check()"
   ]
  },
  {
   "cell_type": "code",
   "execution_count": 19,
   "id": "17d31ae7",
   "metadata": {
    "execution": {
     "iopub.execute_input": "2021-08-17T02:32:45.684318Z",
     "iopub.status.busy": "2021-08-17T02:32:45.683662Z",
     "iopub.status.idle": "2021-08-17T02:32:45.691112Z",
     "shell.execute_reply": "2021-08-17T02:32:45.691594Z",
     "shell.execute_reply.started": "2021-08-17T02:25:20.724632Z"
    },
    "papermill": {
     "duration": 0.048046,
     "end_time": "2021-08-17T02:32:45.691773",
     "exception": false,
     "start_time": "2021-08-17T02:32:45.643727",
     "status": "completed"
    },
    "tags": []
   },
   "outputs": [
    {
     "data": {
      "application/javascript": [
       "parent.postMessage({\"jupyterEvent\": \"custom.exercise_interaction\", \"data\": {\"interactionType\": 3, \"questionType\": 1, \"questionId\": \"3.2_CardinalityB\", \"learnToolsVersion\": \"0.3.4\", \"valueTowardsCompletion\": 0.0, \"failureMessage\": \"\", \"exceptionClass\": \"\", \"trace\": \"\", \"outcomeType\": 4}}, \"*\")"
      ],
      "text/plain": [
       "<IPython.core.display.Javascript object>"
      ]
     },
     "metadata": {},
     "output_type": "display_data"
    },
    {
     "data": {
      "text/markdown": [
       "<span style=\"color:#33cc99\">Solution:</span> \n",
       "```python\n",
       "# How many entries are added to the dataset by\n",
       "# replacing the column with a one-hot encoding?\n",
       "OH_entries_added = 1e4*100 - 1e4\n",
       "\n",
       "# How many entries are added to the dataset by\n",
       "# replacing the column with an ordinal encoding?\n",
       "label_entries_added = 0\n",
       "\n",
       "```"
      ],
      "text/plain": [
       "Solution: \n",
       "```python\n",
       "# How many entries are added to the dataset by\n",
       "# replacing the column with a one-hot encoding?\n",
       "OH_entries_added = 1e4*100 - 1e4\n",
       "\n",
       "# How many entries are added to the dataset by\n",
       "# replacing the column with an ordinal encoding?\n",
       "label_entries_added = 0\n",
       "\n",
       "```"
      ]
     },
     "metadata": {},
     "output_type": "display_data"
    }
   ],
   "source": [
    "# Lines below will give you a hint or solution code\n",
    "#step_3.b.hint()\n",
    "step_3.b.solution()"
   ]
  },
  {
   "cell_type": "markdown",
   "id": "83ef73b0",
   "metadata": {
    "papermill": {
     "duration": 0.038288,
     "end_time": "2021-08-17T02:32:45.768848",
     "exception": false,
     "start_time": "2021-08-17T02:32:45.730560",
     "status": "completed"
    },
    "tags": []
   },
   "source": [
    "Next, you'll experiment with one-hot encoding.  But, instead of encoding all of the categorical variables in the dataset, you'll only create a one-hot encoding for columns with cardinality less than 10.\n",
    "\n",
    "Run the code cell below without changes to set `low_cardinality_cols` to a Python list containing the columns that will be one-hot encoded.  Likewise, `high_cardinality_cols` contains a list of categorical columns that will be dropped from the dataset."
   ]
  },
  {
   "cell_type": "code",
   "execution_count": 20,
   "id": "b9c5fd6b",
   "metadata": {
    "execution": {
     "iopub.execute_input": "2021-08-17T02:32:45.850260Z",
     "iopub.status.busy": "2021-08-17T02:32:45.849261Z",
     "iopub.status.idle": "2021-08-17T02:32:45.867623Z",
     "shell.execute_reply": "2021-08-17T02:32:45.868091Z",
     "shell.execute_reply.started": "2021-08-17T02:28:51.791998Z"
    },
    "papermill": {
     "duration": 0.060577,
     "end_time": "2021-08-17T02:32:45.868265",
     "exception": false,
     "start_time": "2021-08-17T02:32:45.807688",
     "status": "completed"
    },
    "tags": []
   },
   "outputs": [
    {
     "name": "stdout",
     "output_type": "stream",
     "text": [
      "Categorical columns that will be one-hot encoded: ['MSZoning', 'Street', 'LotShape', 'LandContour', 'Utilities', 'LotConfig', 'LandSlope', 'Condition1', 'Condition2', 'BldgType', 'HouseStyle', 'RoofStyle', 'RoofMatl', 'ExterQual', 'ExterCond', 'Foundation', 'Heating', 'HeatingQC', 'CentralAir', 'KitchenQual', 'Functional', 'PavedDrive', 'SaleType', 'SaleCondition']\n",
      "\n",
      "Categorical columns that will be dropped from the dataset: ['Exterior2nd', 'Neighborhood', 'Exterior1st']\n"
     ]
    }
   ],
   "source": [
    "# Columns that will be one-hot encoded\n",
    "low_cardinality_cols = [col for col in object_cols if X_train[col].nunique() < 10]\n",
    "\n",
    "# Columns that will be dropped from the dataset\n",
    "high_cardinality_cols = list(set(object_cols)-set(low_cardinality_cols))\n",
    "\n",
    "print('Categorical columns that will be one-hot encoded:', low_cardinality_cols)\n",
    "print('\\nCategorical columns that will be dropped from the dataset:', high_cardinality_cols)"
   ]
  },
  {
   "cell_type": "markdown",
   "id": "4ea4d3e3",
   "metadata": {
    "papermill": {
     "duration": 0.03864,
     "end_time": "2021-08-17T02:32:45.945816",
     "exception": false,
     "start_time": "2021-08-17T02:32:45.907176",
     "status": "completed"
    },
    "tags": []
   },
   "source": [
    "# Step 4: One-hot encoding\n",
    "\n",
    "Use the next code cell to one-hot encode the data in `X_train` and `X_valid`.  Set the preprocessed DataFrames to `OH_X_train` and `OH_X_valid`, respectively.  \n",
    "- The full list of categorical columns in the dataset can be found in the Python list `object_cols`.\n",
    "- You should only one-hot encode the categorical columns in `low_cardinality_cols`.  All other categorical columns should be dropped from the dataset. "
   ]
  },
  {
   "cell_type": "code",
   "execution_count": 21,
   "id": "391efe37",
   "metadata": {
    "execution": {
     "iopub.execute_input": "2021-08-17T02:32:46.028573Z",
     "iopub.status.busy": "2021-08-17T02:32:46.027541Z",
     "iopub.status.idle": "2021-08-17T02:32:46.074076Z",
     "shell.execute_reply": "2021-08-17T02:32:46.074578Z",
     "shell.execute_reply.started": "2021-08-17T02:31:23.063429Z"
    },
    "papermill": {
     "duration": 0.089832,
     "end_time": "2021-08-17T02:32:46.074765",
     "exception": false,
     "start_time": "2021-08-17T02:32:45.984933",
     "status": "completed"
    },
    "tags": []
   },
   "outputs": [
    {
     "data": {
      "application/javascript": [
       "parent.postMessage({\"jupyterEvent\": \"custom.exercise_interaction\", \"data\": {\"outcomeType\": 1, \"valueTowardsCompletion\": 0.5, \"interactionType\": 1, \"questionType\": 2, \"questionId\": \"4_OneHot\", \"learnToolsVersion\": \"0.3.4\", \"failureMessage\": \"\", \"exceptionClass\": \"\", \"trace\": \"\"}}, \"*\")"
      ],
      "text/plain": [
       "<IPython.core.display.Javascript object>"
      ]
     },
     "metadata": {},
     "output_type": "display_data"
    },
    {
     "data": {
      "text/markdown": [
       "<span style=\"color:#33cc33\">Correct</span>"
      ],
      "text/plain": [
       "Correct"
      ]
     },
     "metadata": {},
     "output_type": "display_data"
    }
   ],
   "source": [
    "from sklearn.preprocessing import OneHotEncoder\n",
    "\n",
    "# Use as many lines of code as you need!\n",
    "\n",
    "OH_encoder = OneHotEncoder(handle_unknown='ignore', sparse=False)\n",
    "OH_cols_train = pd.DataFrame(OH_encoder.fit_transform(X_train[low_cardinality_cols]))\n",
    "OH_cols_valid = pd.DataFrame(OH_encoder.transform(X_valid[low_cardinality_cols]))\n",
    "\n",
    "\n",
    "OH_cols_train.index = X_train.index\n",
    "OH_cols_valid.index = X_valid.index\n",
    "\n",
    "\n",
    "num_X_train = X_train.drop(object_cols, axis=1)\n",
    "num_X_valid = X_valid.drop(object_cols, axis=1)\n",
    "\n",
    "OH_X_train = pd.concat([num_X_train, OH_cols_train], axis=1) # Your code here\n",
    "OH_X_valid = pd.concat([num_X_valid, OH_cols_valid], axis=1)\n",
    " # Your code here\n",
    "\n",
    "# Check your answer\n",
    "step_4.check()"
   ]
  },
  {
   "cell_type": "code",
   "execution_count": 22,
   "id": "ff8683b3",
   "metadata": {
    "execution": {
     "iopub.execute_input": "2021-08-17T02:32:46.160275Z",
     "iopub.status.busy": "2021-08-17T02:32:46.159608Z",
     "iopub.status.idle": "2021-08-17T02:32:46.161738Z",
     "shell.execute_reply": "2021-08-17T02:32:46.162209Z",
     "shell.execute_reply.started": "2021-08-17T02:32:09.530463Z"
    },
    "papermill": {
     "duration": 0.046874,
     "end_time": "2021-08-17T02:32:46.162388",
     "exception": false,
     "start_time": "2021-08-17T02:32:46.115514",
     "status": "completed"
    },
    "tags": []
   },
   "outputs": [],
   "source": [
    "# Lines below will give you a hint or solution code\n",
    "#step_4.hint()\n",
    "#step_4.solution()"
   ]
  },
  {
   "cell_type": "markdown",
   "id": "55970b1b",
   "metadata": {
    "papermill": {
     "duration": 0.039501,
     "end_time": "2021-08-17T02:32:46.242033",
     "exception": false,
     "start_time": "2021-08-17T02:32:46.202532",
     "status": "completed"
    },
    "tags": []
   },
   "source": [
    "Run the next code cell to get the MAE for this approach."
   ]
  },
  {
   "cell_type": "code",
   "execution_count": 23,
   "id": "ed06b009",
   "metadata": {
    "execution": {
     "iopub.execute_input": "2021-08-17T02:32:46.325099Z",
     "iopub.status.busy": "2021-08-17T02:32:46.324408Z",
     "iopub.status.idle": "2021-08-17T02:32:48.313047Z",
     "shell.execute_reply": "2021-08-17T02:32:48.313546Z",
     "shell.execute_reply.started": "2021-08-17T02:31:59.747618Z"
    },
    "papermill": {
     "duration": 2.0316,
     "end_time": "2021-08-17T02:32:48.313736",
     "exception": false,
     "start_time": "2021-08-17T02:32:46.282136",
     "status": "completed"
    },
    "tags": []
   },
   "outputs": [
    {
     "name": "stdout",
     "output_type": "stream",
     "text": [
      "MAE from Approach 3 (One-Hot Encoding):\n",
      "17525.345719178084\n"
     ]
    }
   ],
   "source": [
    "print(\"MAE from Approach 3 (One-Hot Encoding):\") \n",
    "print(score_dataset(OH_X_train, OH_X_valid, y_train, y_valid))"
   ]
  },
  {
   "cell_type": "markdown",
   "id": "f56071a3",
   "metadata": {
    "papermill": {
     "duration": 0.041565,
     "end_time": "2021-08-17T02:32:48.395961",
     "exception": false,
     "start_time": "2021-08-17T02:32:48.354396",
     "status": "completed"
    },
    "tags": []
   },
   "source": [
    "# Generate test predictions and submit your results\n",
    "\n",
    "After you complete Step 4, if you'd like to use what you've learned to submit your results to the leaderboard, you'll need to preprocess the test data before generating predictions.\n",
    "\n",
    "**This step is completely optional, and you do not need to submit results to the leaderboard to successfully complete the exercise.**\n",
    "\n",
    "Check out the previous exercise if you need help with remembering how to [join the competition](https://www.kaggle.com/c/home-data-for-ml-course) or save your results to CSV.  Once you have generated a file with your results, follow the instructions below:\n",
    "1. Begin by clicking on the **Save Version** button in the top right corner of the window.  This will generate a pop-up window.  \n",
    "2. Ensure that the **Save and Run All** option is selected, and then click on the **Save** button.\n",
    "3. This generates a window in the bottom left corner of the notebook.  After it has finished running, click on the number to the right of the **Save Version** button.  This pulls up a list of versions on the right of the screen.  Click on the ellipsis **(...)** to the right of the most recent version, and select **Open in Viewer**.  This brings you into view mode of the same page. You will need to scroll down to get back to these instructions.\n",
    "4. Click on the **Output** tab on the right of the screen.  Then, click on the file you would like to submit, and click on the blue **Submit** button to submit your results to the leaderboard.\n",
    "\n",
    "You have now successfully submitted to the competition!\n",
    "\n",
    "If you want to keep working to improve your performance, select the **Edit** button in the top right of the screen. Then you can change your code and repeat the process. There's a lot of room to improve, and you will climb up the leaderboard as you work.\n"
   ]
  },
  {
   "cell_type": "code",
   "execution_count": 24,
   "id": "209a9c48",
   "metadata": {
    "execution": {
     "iopub.execute_input": "2021-08-17T02:32:48.485403Z",
     "iopub.status.busy": "2021-08-17T02:32:48.484714Z",
     "iopub.status.idle": "2021-08-17T02:32:48.486587Z",
     "shell.execute_reply": "2021-08-17T02:32:48.487301Z"
    },
    "papermill": {
     "duration": 0.050138,
     "end_time": "2021-08-17T02:32:48.487500",
     "exception": false,
     "start_time": "2021-08-17T02:32:48.437362",
     "status": "completed"
    },
    "tags": []
   },
   "outputs": [],
   "source": [
    "# (Optional) Your code here"
   ]
  },
  {
   "cell_type": "markdown",
   "id": "ff2fefb7",
   "metadata": {
    "papermill": {
     "duration": 0.040803,
     "end_time": "2021-08-17T02:32:48.569656",
     "exception": false,
     "start_time": "2021-08-17T02:32:48.528853",
     "status": "completed"
    },
    "tags": []
   },
   "source": [
    "# Keep going\n",
    "\n",
    "With missing value handling and categorical encoding, your modeling process is getting complex. This complexity gets worse when you want to save your model to use in the future. The key to managing this complexity is something called **pipelines**. \n",
    "\n",
    "**[Learn to use pipelines](https://www.kaggle.com/alexisbcook/pipelines)** to preprocess datasets with categorical variables, missing values and any other messiness your data throws at you."
   ]
  },
  {
   "cell_type": "markdown",
   "id": "bb97f8bc",
   "metadata": {
    "papermill": {
     "duration": 0.042546,
     "end_time": "2021-08-17T02:32:48.653421",
     "exception": false,
     "start_time": "2021-08-17T02:32:48.610875",
     "status": "completed"
    },
    "tags": []
   },
   "source": [
    "---\n",
    "\n",
    "\n",
    "\n",
    "\n",
    "*Have questions or comments? Visit the [Learn Discussion forum](https://www.kaggle.com/learn-forum/161289) to chat with other Learners.*"
   ]
  }
 ],
 "metadata": {
  "kernelspec": {
   "display_name": "Python 3",
   "language": "python",
   "name": "python3"
  },
  "language_info": {
   "codemirror_mode": {
    "name": "ipython",
    "version": 3
   },
   "file_extension": ".py",
   "mimetype": "text/x-python",
   "name": "python",
   "nbconvert_exporter": "python",
   "pygments_lexer": "ipython3",
   "version": "3.7.10"
  },
  "papermill": {
   "default_parameters": {},
   "duration": 19.810127,
   "end_time": "2021-08-17T02:32:50.482095",
   "environment_variables": {},
   "exception": null,
   "input_path": "__notebook__.ipynb",
   "output_path": "__notebook__.ipynb",
   "parameters": {},
   "start_time": "2021-08-17T02:32:30.671968",
   "version": "2.3.3"
  }
 },
 "nbformat": 4,
 "nbformat_minor": 5
}
