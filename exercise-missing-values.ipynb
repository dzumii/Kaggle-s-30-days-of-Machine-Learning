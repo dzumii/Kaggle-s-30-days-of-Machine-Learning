{
 "cells": [
  {
   "cell_type": "markdown",
   "id": "1d3d11fb",
   "metadata": {
    "papermill": {
     "duration": 0.029174,
     "end_time": "2021-08-17T01:49:11.285854",
     "exception": false,
     "start_time": "2021-08-17T01:49:11.256680",
     "status": "completed"
    },
    "tags": []
   },
   "source": [
    "**This notebook is an exercise in the [Intermediate Machine Learning](https://www.kaggle.com/learn/intermediate-machine-learning) course.  You can reference the tutorial at [this link](https://www.kaggle.com/alexisbcook/missing-values).**\n",
    "\n",
    "---\n"
   ]
  },
  {
   "cell_type": "markdown",
   "id": "e9354156",
   "metadata": {
    "papermill": {
     "duration": 0.028582,
     "end_time": "2021-08-17T01:49:11.343264",
     "exception": false,
     "start_time": "2021-08-17T01:49:11.314682",
     "status": "completed"
    },
    "tags": []
   },
   "source": [
    "Now it's your turn to test your new knowledge of **missing values** handling. You'll probably find it makes a big difference.\n",
    "\n",
    "# Setup\n",
    "\n",
    "The questions will give you feedback on your work. Run the following cell to set up the feedback system."
   ]
  },
  {
   "cell_type": "code",
   "execution_count": 1,
   "id": "3d4c7cbb",
   "metadata": {
    "execution": {
     "iopub.execute_input": "2021-08-17T01:49:11.410766Z",
     "iopub.status.busy": "2021-08-17T01:49:11.410102Z",
     "iopub.status.idle": "2021-08-17T01:49:11.552206Z",
     "shell.execute_reply": "2021-08-17T01:49:11.552747Z",
     "shell.execute_reply.started": "2021-08-17T01:19:30.954839Z"
    },
    "papermill": {
     "duration": 0.18249,
     "end_time": "2021-08-17T01:49:11.553057",
     "exception": false,
     "start_time": "2021-08-17T01:49:11.370567",
     "status": "completed"
    },
    "tags": []
   },
   "outputs": [
    {
     "name": "stdout",
     "output_type": "stream",
     "text": [
      "Setup Complete\n"
     ]
    }
   ],
   "source": [
    "# Set up code checking\n",
    "import os\n",
    "if not os.path.exists(\"../input/train.csv\"):\n",
    "    os.symlink(\"../input/home-data-for-ml-course/train.csv\", \"../input/train.csv\")  \n",
    "    os.symlink(\"../input/home-data-for-ml-course/test.csv\", \"../input/test.csv\") \n",
    "from learntools.core import binder\n",
    "binder.bind(globals())\n",
    "from learntools.ml_intermediate.ex2 import *\n",
    "print(\"Setup Complete\")"
   ]
  },
  {
   "cell_type": "markdown",
   "id": "ddfdabbd",
   "metadata": {
    "papermill": {
     "duration": 0.027261,
     "end_time": "2021-08-17T01:49:11.608953",
     "exception": false,
     "start_time": "2021-08-17T01:49:11.581692",
     "status": "completed"
    },
    "tags": []
   },
   "source": [
    "In this exercise, you will work with data from the [Housing Prices Competition for Kaggle Learn Users](https://www.kaggle.com/c/home-data-for-ml-course). \n",
    "\n",
    "![Ames Housing dataset image](https://i.imgur.com/lTJVG4e.png)\n",
    "\n",
    "Run the next code cell without changes to load the training and validation sets in `X_train`, `X_valid`, `y_train`, and `y_valid`.  The test set is loaded in `X_test`."
   ]
  },
  {
   "cell_type": "code",
   "execution_count": 2,
   "id": "2ca32ba8",
   "metadata": {
    "execution": {
     "iopub.execute_input": "2021-08-17T01:49:11.671677Z",
     "iopub.status.busy": "2021-08-17T01:49:11.671020Z",
     "iopub.status.idle": "2021-08-17T01:49:12.793228Z",
     "shell.execute_reply": "2021-08-17T01:49:12.792496Z",
     "shell.execute_reply.started": "2021-08-17T01:19:52.936280Z"
    },
    "papermill": {
     "duration": 1.156791,
     "end_time": "2021-08-17T01:49:12.793372",
     "exception": false,
     "start_time": "2021-08-17T01:49:11.636581",
     "status": "completed"
    },
    "tags": []
   },
   "outputs": [],
   "source": [
    "import pandas as pd\n",
    "from sklearn.model_selection import train_test_split\n",
    "\n",
    "# Read the data\n",
    "X_full = pd.read_csv('../input/train.csv', index_col='Id')\n",
    "X_test_full = pd.read_csv('../input/test.csv', index_col='Id')\n",
    "\n",
    "# Remove rows with missing target, separate target from predictors\n",
    "X_full.dropna(axis=0, subset=['SalePrice'], inplace=True)\n",
    "y = X_full.SalePrice\n",
    "X_full.drop(['SalePrice'], axis=1, inplace=True)\n",
    "\n",
    "# To keep things simple, we'll use only numerical predictors\n",
    "X = X_full.select_dtypes(exclude=['object'])\n",
    "X_test = X_test_full.select_dtypes(exclude=['object'])\n",
    "\n",
    "# Break off validation set from training data\n",
    "X_train, X_valid, y_train, y_valid = train_test_split(X, y, train_size=0.8, test_size=0.2,\n",
    "                                                      random_state=0)"
   ]
  },
  {
   "cell_type": "markdown",
   "id": "3aee6086",
   "metadata": {
    "papermill": {
     "duration": 0.030013,
     "end_time": "2021-08-17T01:49:12.852454",
     "exception": false,
     "start_time": "2021-08-17T01:49:12.822441",
     "status": "completed"
    },
    "tags": []
   },
   "source": [
    "Use the next code cell to print the first five rows of the data."
   ]
  },
  {
   "cell_type": "code",
   "execution_count": 3,
   "id": "0eb4075e",
   "metadata": {
    "execution": {
     "iopub.execute_input": "2021-08-17T01:49:12.919415Z",
     "iopub.status.busy": "2021-08-17T01:49:12.918607Z",
     "iopub.status.idle": "2021-08-17T01:49:12.944261Z",
     "shell.execute_reply": "2021-08-17T01:49:12.944746Z",
     "shell.execute_reply.started": "2021-08-17T01:21:05.434371Z"
    },
    "papermill": {
     "duration": 0.063894,
     "end_time": "2021-08-17T01:49:12.944931",
     "exception": false,
     "start_time": "2021-08-17T01:49:12.881037",
     "status": "completed"
    },
    "tags": []
   },
   "outputs": [
    {
     "data": {
      "text/html": [
       "<div>\n",
       "<style scoped>\n",
       "    .dataframe tbody tr th:only-of-type {\n",
       "        vertical-align: middle;\n",
       "    }\n",
       "\n",
       "    .dataframe tbody tr th {\n",
       "        vertical-align: top;\n",
       "    }\n",
       "\n",
       "    .dataframe thead th {\n",
       "        text-align: right;\n",
       "    }\n",
       "</style>\n",
       "<table border=\"1\" class=\"dataframe\">\n",
       "  <thead>\n",
       "    <tr style=\"text-align: right;\">\n",
       "      <th></th>\n",
       "      <th>MSSubClass</th>\n",
       "      <th>LotFrontage</th>\n",
       "      <th>LotArea</th>\n",
       "      <th>OverallQual</th>\n",
       "      <th>OverallCond</th>\n",
       "      <th>YearBuilt</th>\n",
       "      <th>YearRemodAdd</th>\n",
       "      <th>MasVnrArea</th>\n",
       "      <th>BsmtFinSF1</th>\n",
       "      <th>BsmtFinSF2</th>\n",
       "      <th>...</th>\n",
       "      <th>GarageArea</th>\n",
       "      <th>WoodDeckSF</th>\n",
       "      <th>OpenPorchSF</th>\n",
       "      <th>EnclosedPorch</th>\n",
       "      <th>3SsnPorch</th>\n",
       "      <th>ScreenPorch</th>\n",
       "      <th>PoolArea</th>\n",
       "      <th>MiscVal</th>\n",
       "      <th>MoSold</th>\n",
       "      <th>YrSold</th>\n",
       "    </tr>\n",
       "    <tr>\n",
       "      <th>Id</th>\n",
       "      <th></th>\n",
       "      <th></th>\n",
       "      <th></th>\n",
       "      <th></th>\n",
       "      <th></th>\n",
       "      <th></th>\n",
       "      <th></th>\n",
       "      <th></th>\n",
       "      <th></th>\n",
       "      <th></th>\n",
       "      <th></th>\n",
       "      <th></th>\n",
       "      <th></th>\n",
       "      <th></th>\n",
       "      <th></th>\n",
       "      <th></th>\n",
       "      <th></th>\n",
       "      <th></th>\n",
       "      <th></th>\n",
       "      <th></th>\n",
       "      <th></th>\n",
       "    </tr>\n",
       "  </thead>\n",
       "  <tbody>\n",
       "    <tr>\n",
       "      <th>619</th>\n",
       "      <td>20</td>\n",
       "      <td>90.0</td>\n",
       "      <td>11694</td>\n",
       "      <td>9</td>\n",
       "      <td>5</td>\n",
       "      <td>2007</td>\n",
       "      <td>2007</td>\n",
       "      <td>452.0</td>\n",
       "      <td>48</td>\n",
       "      <td>0</td>\n",
       "      <td>...</td>\n",
       "      <td>774</td>\n",
       "      <td>0</td>\n",
       "      <td>108</td>\n",
       "      <td>0</td>\n",
       "      <td>0</td>\n",
       "      <td>260</td>\n",
       "      <td>0</td>\n",
       "      <td>0</td>\n",
       "      <td>7</td>\n",
       "      <td>2007</td>\n",
       "    </tr>\n",
       "    <tr>\n",
       "      <th>871</th>\n",
       "      <td>20</td>\n",
       "      <td>60.0</td>\n",
       "      <td>6600</td>\n",
       "      <td>5</td>\n",
       "      <td>5</td>\n",
       "      <td>1962</td>\n",
       "      <td>1962</td>\n",
       "      <td>0.0</td>\n",
       "      <td>0</td>\n",
       "      <td>0</td>\n",
       "      <td>...</td>\n",
       "      <td>308</td>\n",
       "      <td>0</td>\n",
       "      <td>0</td>\n",
       "      <td>0</td>\n",
       "      <td>0</td>\n",
       "      <td>0</td>\n",
       "      <td>0</td>\n",
       "      <td>0</td>\n",
       "      <td>8</td>\n",
       "      <td>2009</td>\n",
       "    </tr>\n",
       "    <tr>\n",
       "      <th>93</th>\n",
       "      <td>30</td>\n",
       "      <td>80.0</td>\n",
       "      <td>13360</td>\n",
       "      <td>5</td>\n",
       "      <td>7</td>\n",
       "      <td>1921</td>\n",
       "      <td>2006</td>\n",
       "      <td>0.0</td>\n",
       "      <td>713</td>\n",
       "      <td>0</td>\n",
       "      <td>...</td>\n",
       "      <td>432</td>\n",
       "      <td>0</td>\n",
       "      <td>0</td>\n",
       "      <td>44</td>\n",
       "      <td>0</td>\n",
       "      <td>0</td>\n",
       "      <td>0</td>\n",
       "      <td>0</td>\n",
       "      <td>8</td>\n",
       "      <td>2009</td>\n",
       "    </tr>\n",
       "    <tr>\n",
       "      <th>818</th>\n",
       "      <td>20</td>\n",
       "      <td>NaN</td>\n",
       "      <td>13265</td>\n",
       "      <td>8</td>\n",
       "      <td>5</td>\n",
       "      <td>2002</td>\n",
       "      <td>2002</td>\n",
       "      <td>148.0</td>\n",
       "      <td>1218</td>\n",
       "      <td>0</td>\n",
       "      <td>...</td>\n",
       "      <td>857</td>\n",
       "      <td>150</td>\n",
       "      <td>59</td>\n",
       "      <td>0</td>\n",
       "      <td>0</td>\n",
       "      <td>0</td>\n",
       "      <td>0</td>\n",
       "      <td>0</td>\n",
       "      <td>7</td>\n",
       "      <td>2008</td>\n",
       "    </tr>\n",
       "    <tr>\n",
       "      <th>303</th>\n",
       "      <td>20</td>\n",
       "      <td>118.0</td>\n",
       "      <td>13704</td>\n",
       "      <td>7</td>\n",
       "      <td>5</td>\n",
       "      <td>2001</td>\n",
       "      <td>2002</td>\n",
       "      <td>150.0</td>\n",
       "      <td>0</td>\n",
       "      <td>0</td>\n",
       "      <td>...</td>\n",
       "      <td>843</td>\n",
       "      <td>468</td>\n",
       "      <td>81</td>\n",
       "      <td>0</td>\n",
       "      <td>0</td>\n",
       "      <td>0</td>\n",
       "      <td>0</td>\n",
       "      <td>0</td>\n",
       "      <td>1</td>\n",
       "      <td>2006</td>\n",
       "    </tr>\n",
       "  </tbody>\n",
       "</table>\n",
       "<p>5 rows × 36 columns</p>\n",
       "</div>"
      ],
      "text/plain": [
       "     MSSubClass  LotFrontage  LotArea  OverallQual  OverallCond  YearBuilt  \\\n",
       "Id                                                                           \n",
       "619          20         90.0    11694            9            5       2007   \n",
       "871          20         60.0     6600            5            5       1962   \n",
       "93           30         80.0    13360            5            7       1921   \n",
       "818          20          NaN    13265            8            5       2002   \n",
       "303          20        118.0    13704            7            5       2001   \n",
       "\n",
       "     YearRemodAdd  MasVnrArea  BsmtFinSF1  BsmtFinSF2  ...  GarageArea  \\\n",
       "Id                                                     ...               \n",
       "619          2007       452.0          48           0  ...         774   \n",
       "871          1962         0.0           0           0  ...         308   \n",
       "93           2006         0.0         713           0  ...         432   \n",
       "818          2002       148.0        1218           0  ...         857   \n",
       "303          2002       150.0           0           0  ...         843   \n",
       "\n",
       "     WoodDeckSF  OpenPorchSF  EnclosedPorch  3SsnPorch  ScreenPorch  PoolArea  \\\n",
       "Id                                                                              \n",
       "619           0          108              0          0          260         0   \n",
       "871           0            0              0          0            0         0   \n",
       "93            0            0             44          0            0         0   \n",
       "818         150           59              0          0            0         0   \n",
       "303         468           81              0          0            0         0   \n",
       "\n",
       "     MiscVal  MoSold  YrSold  \n",
       "Id                            \n",
       "619        0       7    2007  \n",
       "871        0       8    2009  \n",
       "93         0       8    2009  \n",
       "818        0       7    2008  \n",
       "303        0       1    2006  \n",
       "\n",
       "[5 rows x 36 columns]"
      ]
     },
     "execution_count": 3,
     "metadata": {},
     "output_type": "execute_result"
    }
   ],
   "source": [
    "X_train.head()"
   ]
  },
  {
   "cell_type": "markdown",
   "id": "4bd28e16",
   "metadata": {
    "papermill": {
     "duration": 0.028051,
     "end_time": "2021-08-17T01:49:13.001410",
     "exception": false,
     "start_time": "2021-08-17T01:49:12.973359",
     "status": "completed"
    },
    "tags": []
   },
   "source": [
    "You can already see a few missing values in the first several rows.  In the next step, you'll obtain a more comprehensive understanding of the missing values in the dataset.\n",
    "\n",
    "# Step 1: Preliminary investigation\n",
    "\n",
    "Run the code cell below without changes."
   ]
  },
  {
   "cell_type": "code",
   "execution_count": 4,
   "id": "8a0cea35",
   "metadata": {
    "execution": {
     "iopub.execute_input": "2021-08-17T01:49:13.070865Z",
     "iopub.status.busy": "2021-08-17T01:49:13.070163Z",
     "iopub.status.idle": "2021-08-17T01:49:13.073808Z",
     "shell.execute_reply": "2021-08-17T01:49:13.074333Z",
     "shell.execute_reply.started": "2021-08-17T01:23:11.443181Z"
    },
    "papermill": {
     "duration": 0.042,
     "end_time": "2021-08-17T01:49:13.074508",
     "exception": false,
     "start_time": "2021-08-17T01:49:13.032508",
     "status": "completed"
    },
    "tags": []
   },
   "outputs": [
    {
     "name": "stdout",
     "output_type": "stream",
     "text": [
      "(1168, 36)\n",
      "LotFrontage    212\n",
      "MasVnrArea       6\n",
      "GarageYrBlt     58\n",
      "dtype: int64\n"
     ]
    }
   ],
   "source": [
    "# Shape of training data (num_rows, num_columns)\n",
    "print(X_train.shape)\n",
    "\n",
    "# Number of missing values in each column of training data\n",
    "missing_val_count_by_column = (X_train.isnull().sum())\n",
    "print(missing_val_count_by_column[missing_val_count_by_column > 0])"
   ]
  },
  {
   "cell_type": "markdown",
   "id": "236addae",
   "metadata": {
    "papermill": {
     "duration": 0.0288,
     "end_time": "2021-08-17T01:49:13.132803",
     "exception": false,
     "start_time": "2021-08-17T01:49:13.104003",
     "status": "completed"
    },
    "tags": []
   },
   "source": [
    "### Part A\n",
    "\n",
    "Use the above output to answer the questions below."
   ]
  },
  {
   "cell_type": "code",
   "execution_count": 5,
   "id": "666251de",
   "metadata": {
    "execution": {
     "iopub.execute_input": "2021-08-17T01:49:13.198203Z",
     "iopub.status.busy": "2021-08-17T01:49:13.197525Z",
     "iopub.status.idle": "2021-08-17T01:49:13.205075Z",
     "shell.execute_reply": "2021-08-17T01:49:13.205578Z",
     "shell.execute_reply.started": "2021-08-17T01:24:52.513037Z"
    },
    "papermill": {
     "duration": 0.043043,
     "end_time": "2021-08-17T01:49:13.205771",
     "exception": false,
     "start_time": "2021-08-17T01:49:13.162728",
     "status": "completed"
    },
    "tags": []
   },
   "outputs": [
    {
     "data": {
      "application/javascript": [
       "parent.postMessage({\"jupyterEvent\": \"custom.exercise_interaction\", \"data\": {\"outcomeType\": 1, \"valueTowardsCompletion\": 1.0, \"interactionType\": 1, \"questionType\": 1, \"questionId\": \"1.1_InvestigateEquality\", \"learnToolsVersion\": \"0.3.4\", \"failureMessage\": \"\", \"exceptionClass\": \"\", \"trace\": \"\"}}, \"*\")"
      ],
      "text/plain": [
       "<IPython.core.display.Javascript object>"
      ]
     },
     "metadata": {},
     "output_type": "display_data"
    },
    {
     "data": {
      "text/markdown": [
       "<span style=\"color:#33cc33\">Correct</span>"
      ],
      "text/plain": [
       "Correct"
      ]
     },
     "metadata": {},
     "output_type": "display_data"
    }
   ],
   "source": [
    "# Fill in the line below: How many rows are in the training data?\n",
    "num_rows = 1168\n",
    "\n",
    "# Fill in the line below: How many columns in the training data\n",
    "# have missing values?\n",
    "num_cols_with_missing = 3\n",
    "\n",
    "# Fill in the line below: How many missing entries are contained in \n",
    "# all of the training data?\n",
    "tot_missing = 276\n",
    "\n",
    "# Check your answers\n",
    "step_1.a.check()"
   ]
  },
  {
   "cell_type": "code",
   "execution_count": 6,
   "id": "4ed13297",
   "metadata": {
    "execution": {
     "iopub.execute_input": "2021-08-17T01:49:13.271670Z",
     "iopub.status.busy": "2021-08-17T01:49:13.270965Z",
     "iopub.status.idle": "2021-08-17T01:49:13.274573Z",
     "shell.execute_reply": "2021-08-17T01:49:13.275098Z",
     "shell.execute_reply.started": "2021-08-17T01:25:08.113497Z"
    },
    "papermill": {
     "duration": 0.0382,
     "end_time": "2021-08-17T01:49:13.275268",
     "exception": false,
     "start_time": "2021-08-17T01:49:13.237068",
     "status": "completed"
    },
    "tags": []
   },
   "outputs": [],
   "source": [
    "# Lines below will give you a hint or solution code\n",
    "#step_1.a.hint()\n",
    "#step_1.a.solution()"
   ]
  },
  {
   "cell_type": "markdown",
   "id": "8547498d",
   "metadata": {
    "papermill": {
     "duration": 0.029877,
     "end_time": "2021-08-17T01:49:13.334956",
     "exception": false,
     "start_time": "2021-08-17T01:49:13.305079",
     "status": "completed"
    },
    "tags": []
   },
   "source": [
    "### Part B\n",
    "Considering your answers above, what do you think is likely the best approach to dealing with the missing values?"
   ]
  },
  {
   "cell_type": "code",
   "execution_count": 7,
   "id": "f483b088",
   "metadata": {
    "execution": {
     "iopub.execute_input": "2021-08-17T01:49:13.397858Z",
     "iopub.status.busy": "2021-08-17T01:49:13.397166Z",
     "iopub.status.idle": "2021-08-17T01:49:13.404001Z",
     "shell.execute_reply": "2021-08-17T01:49:13.404491Z",
     "shell.execute_reply.started": "2021-08-17T01:25:27.682517Z"
    },
    "papermill": {
     "duration": 0.040148,
     "end_time": "2021-08-17T01:49:13.404669",
     "exception": false,
     "start_time": "2021-08-17T01:49:13.364521",
     "status": "completed"
    },
    "tags": []
   },
   "outputs": [
    {
     "data": {
      "application/javascript": [
       "parent.postMessage({\"jupyterEvent\": \"custom.exercise_interaction\", \"data\": {\"outcomeType\": 1, \"valueTowardsCompletion\": 1.0, \"interactionType\": 1, \"questionType\": 4, \"questionId\": \"1.2_InvestigateThought\", \"learnToolsVersion\": \"0.3.4\", \"failureMessage\": \"\", \"exceptionClass\": \"\", \"trace\": \"\"}}, \"*\")"
      ],
      "text/plain": [
       "<IPython.core.display.Javascript object>"
      ]
     },
     "metadata": {},
     "output_type": "display_data"
    },
    {
     "data": {
      "text/markdown": [
       "<span style=\"color:#33cc33\">Correct:</span> \n",
       "\n",
       "Since there are relatively few missing entries in the data (the column with the greatest percentage of missing values is missing less than 20% of its entries), we can expect that dropping columns is unlikely to yield good results.  This is because we'd be throwing away a lot of valuable data, and so imputation will likely perform better."
      ],
      "text/plain": [
       "Correct: \n",
       "\n",
       "Since there are relatively few missing entries in the data (the column with the greatest percentage of missing values is missing less than 20% of its entries), we can expect that dropping columns is unlikely to yield good results.  This is because we'd be throwing away a lot of valuable data, and so imputation will likely perform better."
      ]
     },
     "metadata": {},
     "output_type": "display_data"
    }
   ],
   "source": [
    "# Check your answer (Run this code cell to receive credit!)\n",
    "step_1.b.check()"
   ]
  },
  {
   "cell_type": "code",
   "execution_count": 8,
   "id": "a87a25b6",
   "metadata": {
    "execution": {
     "iopub.execute_input": "2021-08-17T01:49:13.470431Z",
     "iopub.status.busy": "2021-08-17T01:49:13.469729Z",
     "iopub.status.idle": "2021-08-17T01:49:13.472892Z",
     "shell.execute_reply": "2021-08-17T01:49:13.472226Z"
    },
    "papermill": {
     "duration": 0.037991,
     "end_time": "2021-08-17T01:49:13.473189",
     "exception": false,
     "start_time": "2021-08-17T01:49:13.435198",
     "status": "completed"
    },
    "tags": []
   },
   "outputs": [],
   "source": [
    "#step_1.b.hint()"
   ]
  },
  {
   "cell_type": "markdown",
   "id": "3e2b8a74",
   "metadata": {
    "papermill": {
     "duration": 0.03462,
     "end_time": "2021-08-17T01:49:13.543098",
     "exception": false,
     "start_time": "2021-08-17T01:49:13.508478",
     "status": "completed"
    },
    "tags": []
   },
   "source": [
    "To compare different approaches to dealing with missing values, you'll use the same `score_dataset()` function from the tutorial.  This function reports the [mean absolute error](https://en.wikipedia.org/wiki/Mean_absolute_error) (MAE) from a random forest model."
   ]
  },
  {
   "cell_type": "code",
   "execution_count": 9,
   "id": "a540dad2",
   "metadata": {
    "execution": {
     "iopub.execute_input": "2021-08-17T01:49:13.614283Z",
     "iopub.status.busy": "2021-08-17T01:49:13.613496Z",
     "iopub.status.idle": "2021-08-17T01:49:13.842038Z",
     "shell.execute_reply": "2021-08-17T01:49:13.842658Z",
     "shell.execute_reply.started": "2021-08-17T01:27:00.132575Z"
    },
    "papermill": {
     "duration": 0.267344,
     "end_time": "2021-08-17T01:49:13.842875",
     "exception": false,
     "start_time": "2021-08-17T01:49:13.575531",
     "status": "completed"
    },
    "tags": []
   },
   "outputs": [],
   "source": [
    "from sklearn.ensemble import RandomForestRegressor\n",
    "from sklearn.metrics import mean_absolute_error\n",
    "\n",
    "# Function for comparing different approaches\n",
    "def score_dataset(X_train, X_valid, y_train, y_valid):\n",
    "    model = RandomForestRegressor(n_estimators=100, random_state=0)\n",
    "    model.fit(X_train, y_train)\n",
    "    preds = model.predict(X_valid)\n",
    "    return mean_absolute_error(y_valid, preds)"
   ]
  },
  {
   "cell_type": "markdown",
   "id": "1037f349",
   "metadata": {
    "papermill": {
     "duration": 0.030463,
     "end_time": "2021-08-17T01:49:13.905392",
     "exception": false,
     "start_time": "2021-08-17T01:49:13.874929",
     "status": "completed"
    },
    "tags": []
   },
   "source": [
    "# Step 2: Drop columns with missing values\n",
    "\n",
    "In this step, you'll preprocess the data in `X_train` and `X_valid` to remove columns with missing values.  Set the preprocessed DataFrames to `reduced_X_train` and `reduced_X_valid`, respectively.  "
   ]
  },
  {
   "cell_type": "code",
   "execution_count": 10,
   "id": "037f2755",
   "metadata": {
    "execution": {
     "iopub.execute_input": "2021-08-17T01:49:13.997869Z",
     "iopub.status.busy": "2021-08-17T01:49:13.997125Z",
     "iopub.status.idle": "2021-08-17T01:49:14.002847Z",
     "shell.execute_reply": "2021-08-17T01:49:14.002283Z",
     "shell.execute_reply.started": "2021-08-17T01:30:36.310391Z"
    },
    "papermill": {
     "duration": 0.066815,
     "end_time": "2021-08-17T01:49:14.003032",
     "exception": false,
     "start_time": "2021-08-17T01:49:13.936217",
     "status": "completed"
    },
    "tags": []
   },
   "outputs": [
    {
     "data": {
      "application/javascript": [
       "parent.postMessage({\"jupyterEvent\": \"custom.exercise_interaction\", \"data\": {\"outcomeType\": 1, \"valueTowardsCompletion\": 1.0, \"interactionType\": 1, \"questionType\": 2, \"questionId\": \"2_DropMissing\", \"learnToolsVersion\": \"0.3.4\", \"failureMessage\": \"\", \"exceptionClass\": \"\", \"trace\": \"\"}}, \"*\")"
      ],
      "text/plain": [
       "<IPython.core.display.Javascript object>"
      ]
     },
     "metadata": {},
     "output_type": "display_data"
    },
    {
     "data": {
      "text/markdown": [
       "<span style=\"color:#33cc33\">Correct</span>"
      ],
      "text/plain": [
       "Correct"
      ]
     },
     "metadata": {},
     "output_type": "display_data"
    }
   ],
   "source": [
    "# Fill in the line below: get names of columns with missing values\n",
    "cols_with_missing = [col for col in X_train.columns\n",
    "                     if X_train[col].isnull().any()]\n",
    " # Your code here\n",
    "\n",
    "# Fill in the lines below: drop columns in training and validation data\n",
    "reduced_X_train = X_train.drop(cols_with_missing, axis=1)\n",
    "reduced_X_valid = X_valid.drop(cols_with_missing, axis=1)\n",
    "\n",
    "# Check your answers\n",
    "step_2.check()"
   ]
  },
  {
   "cell_type": "code",
   "execution_count": 11,
   "id": "fe7df002",
   "metadata": {
    "execution": {
     "iopub.execute_input": "2021-08-17T01:49:14.070961Z",
     "iopub.status.busy": "2021-08-17T01:49:14.070294Z",
     "iopub.status.idle": "2021-08-17T01:49:14.074383Z",
     "shell.execute_reply": "2021-08-17T01:49:14.073732Z"
    },
    "papermill": {
     "duration": 0.03902,
     "end_time": "2021-08-17T01:49:14.074520",
     "exception": false,
     "start_time": "2021-08-17T01:49:14.035500",
     "status": "completed"
    },
    "tags": []
   },
   "outputs": [],
   "source": [
    "# Lines below will give you a hint or solution code\n",
    "#step_2.hint()\n",
    "#step_2.solution()"
   ]
  },
  {
   "cell_type": "markdown",
   "id": "f850196c",
   "metadata": {
    "papermill": {
     "duration": 0.032517,
     "end_time": "2021-08-17T01:49:14.139524",
     "exception": false,
     "start_time": "2021-08-17T01:49:14.107007",
     "status": "completed"
    },
    "tags": []
   },
   "source": [
    "Run the next code cell without changes to obtain the MAE for this approach."
   ]
  },
  {
   "cell_type": "code",
   "execution_count": 12,
   "id": "211f72a7",
   "metadata": {
    "execution": {
     "iopub.execute_input": "2021-08-17T01:49:14.213292Z",
     "iopub.status.busy": "2021-08-17T01:49:14.212193Z",
     "iopub.status.idle": "2021-08-17T01:49:15.480469Z",
     "shell.execute_reply": "2021-08-17T01:49:15.480945Z",
     "shell.execute_reply.started": "2021-08-17T01:31:16.282792Z"
    },
    "papermill": {
     "duration": 1.308562,
     "end_time": "2021-08-17T01:49:15.481123",
     "exception": false,
     "start_time": "2021-08-17T01:49:14.172561",
     "status": "completed"
    },
    "tags": []
   },
   "outputs": [
    {
     "name": "stdout",
     "output_type": "stream",
     "text": [
      "MAE (Drop columns with missing values):\n",
      "17837.82570776256\n"
     ]
    }
   ],
   "source": [
    "print(\"MAE (Drop columns with missing values):\")\n",
    "print(score_dataset(reduced_X_train, reduced_X_valid, y_train, y_valid))"
   ]
  },
  {
   "cell_type": "markdown",
   "id": "65f73f22",
   "metadata": {
    "papermill": {
     "duration": 0.032321,
     "end_time": "2021-08-17T01:49:15.546710",
     "exception": false,
     "start_time": "2021-08-17T01:49:15.514389",
     "status": "completed"
    },
    "tags": []
   },
   "source": [
    "# Step 3: Imputation\n",
    "\n",
    "### Part A\n",
    "\n",
    "Use the next code cell to impute missing values with the mean value along each column.  Set the preprocessed DataFrames to `imputed_X_train` and `imputed_X_valid`.  Make sure that the column names match those in `X_train` and `X_valid`."
   ]
  },
  {
   "cell_type": "code",
   "execution_count": 13,
   "id": "be2fb3cc",
   "metadata": {
    "execution": {
     "iopub.execute_input": "2021-08-17T01:49:15.619503Z",
     "iopub.status.busy": "2021-08-17T01:49:15.618726Z",
     "iopub.status.idle": "2021-08-17T01:49:15.652698Z",
     "shell.execute_reply": "2021-08-17T01:49:15.652190Z",
     "shell.execute_reply.started": "2021-08-17T01:34:04.770580Z"
    },
    "papermill": {
     "duration": 0.072392,
     "end_time": "2021-08-17T01:49:15.652862",
     "exception": false,
     "start_time": "2021-08-17T01:49:15.580470",
     "status": "completed"
    },
    "tags": []
   },
   "outputs": [
    {
     "data": {
      "application/javascript": [
       "parent.postMessage({\"jupyterEvent\": \"custom.exercise_interaction\", \"data\": {\"outcomeType\": 1, \"valueTowardsCompletion\": 1.0, \"interactionType\": 1, \"questionType\": 2, \"questionId\": \"3.1_ImputeCode\", \"learnToolsVersion\": \"0.3.4\", \"failureMessage\": \"\", \"exceptionClass\": \"\", \"trace\": \"\"}}, \"*\")"
      ],
      "text/plain": [
       "<IPython.core.display.Javascript object>"
      ]
     },
     "metadata": {},
     "output_type": "display_data"
    },
    {
     "data": {
      "text/markdown": [
       "<span style=\"color:#33cc33\">Correct</span>"
      ],
      "text/plain": [
       "Correct"
      ]
     },
     "metadata": {},
     "output_type": "display_data"
    }
   ],
   "source": [
    "from sklearn.impute import SimpleImputer\n",
    "\n",
    "# Fill in the lines below: imputation\n",
    "my_imputer = SimpleImputer() # Your code here\n",
    "imputed_X_train = pd.DataFrame(my_imputer.fit_transform(X_train))\n",
    "imputed_X_valid = pd.DataFrame(my_imputer.transform(X_valid))\n",
    "\n",
    "\n",
    "# Fill in the lines below: imputation removed column names; put them back\n",
    "imputed_X_train.columns = X_train.columns\n",
    "imputed_X_valid.columns = X_valid.columns\n",
    "\n",
    "# Check your answers\n",
    "step_3.a.check()"
   ]
  },
  {
   "cell_type": "code",
   "execution_count": 14,
   "id": "b1bc3da5",
   "metadata": {
    "execution": {
     "iopub.execute_input": "2021-08-17T01:49:15.725929Z",
     "iopub.status.busy": "2021-08-17T01:49:15.725239Z",
     "iopub.status.idle": "2021-08-17T01:49:15.728275Z",
     "shell.execute_reply": "2021-08-17T01:49:15.727724Z"
    },
    "papermill": {
     "duration": 0.041409,
     "end_time": "2021-08-17T01:49:15.728409",
     "exception": false,
     "start_time": "2021-08-17T01:49:15.687000",
     "status": "completed"
    },
    "tags": []
   },
   "outputs": [],
   "source": [
    "# Lines below will give you a hint or solution code\n",
    "#step_3.a.hint()\n",
    "#step_3.a.solution()"
   ]
  },
  {
   "cell_type": "markdown",
   "id": "f96be52c",
   "metadata": {
    "papermill": {
     "duration": 0.033415,
     "end_time": "2021-08-17T01:49:15.795436",
     "exception": false,
     "start_time": "2021-08-17T01:49:15.762021",
     "status": "completed"
    },
    "tags": []
   },
   "source": [
    "Run the next code cell without changes to obtain the MAE for this approach."
   ]
  },
  {
   "cell_type": "code",
   "execution_count": 15,
   "id": "c5ccced0",
   "metadata": {
    "execution": {
     "iopub.execute_input": "2021-08-17T01:49:15.890430Z",
     "iopub.status.busy": "2021-08-17T01:49:15.873176Z",
     "iopub.status.idle": "2021-08-17T01:49:17.263596Z",
     "shell.execute_reply": "2021-08-17T01:49:17.262573Z",
     "shell.execute_reply.started": "2021-08-17T01:34:12.030412Z"
    },
    "papermill": {
     "duration": 1.434059,
     "end_time": "2021-08-17T01:49:17.263785",
     "exception": false,
     "start_time": "2021-08-17T01:49:15.829726",
     "status": "completed"
    },
    "tags": []
   },
   "outputs": [
    {
     "name": "stdout",
     "output_type": "stream",
     "text": [
      "MAE (Imputation):\n",
      "18062.894611872147\n"
     ]
    }
   ],
   "source": [
    "print(\"MAE (Imputation):\")\n",
    "print(score_dataset(imputed_X_train, imputed_X_valid, y_train, y_valid))"
   ]
  },
  {
   "cell_type": "markdown",
   "id": "338c6385",
   "metadata": {
    "papermill": {
     "duration": 0.033823,
     "end_time": "2021-08-17T01:49:17.332109",
     "exception": false,
     "start_time": "2021-08-17T01:49:17.298286",
     "status": "completed"
    },
    "tags": []
   },
   "source": [
    "### Part B\n",
    "\n",
    "Compare the MAE from each approach.  Does anything surprise you about the results?  Why do you think one approach performed better than the other?"
   ]
  },
  {
   "cell_type": "code",
   "execution_count": 16,
   "id": "c72a072c",
   "metadata": {
    "execution": {
     "iopub.execute_input": "2021-08-17T01:49:17.407829Z",
     "iopub.status.busy": "2021-08-17T01:49:17.407090Z",
     "iopub.status.idle": "2021-08-17T01:49:17.412971Z",
     "shell.execute_reply": "2021-08-17T01:49:17.412432Z",
     "shell.execute_reply.started": "2021-08-17T01:34:56.690376Z"
    },
    "papermill": {
     "duration": 0.04558,
     "end_time": "2021-08-17T01:49:17.413110",
     "exception": false,
     "start_time": "2021-08-17T01:49:17.367530",
     "status": "completed"
    },
    "tags": []
   },
   "outputs": [
    {
     "data": {
      "application/javascript": [
       "parent.postMessage({\"jupyterEvent\": \"custom.exercise_interaction\", \"data\": {\"outcomeType\": 1, \"valueTowardsCompletion\": 1.0, \"interactionType\": 1, \"questionType\": 4, \"questionId\": \"3.2_ImputeThought\", \"learnToolsVersion\": \"0.3.4\", \"failureMessage\": \"\", \"exceptionClass\": \"\", \"trace\": \"\"}}, \"*\")"
      ],
      "text/plain": [
       "<IPython.core.display.Javascript object>"
      ]
     },
     "metadata": {},
     "output_type": "display_data"
    },
    {
     "data": {
      "text/markdown": [
       "<span style=\"color:#33cc33\">Correct:</span> \n",
       "\n",
       "Given that thre are so few missing values in the dataset, we'd expect imputation to perform better than dropping columns entirely.  However, we see that dropping columns performs slightly better!  While this can probably partially be attributed to noise in the dataset, another potential explanation is that the imputation method is not a great match to this dataset.  That is, maybe instead of filling in the mean value, it makes more sense to set every missing value to a value of 0, to fill in the most frequently encountered value, or to use some other method.  For instance, consider the `GarageYrBlt` column (which indicates the year that the garage was built).  It's likely that in some cases, a missing value could indicate a house that does not have a garage.  Does it make more sense to fill in the median value along each column in this case?  Or could we get better results by filling in the minimum value along each column?  It's not quite clear what's best in this case, but perhaps we can rule out some options immediately - for instance, setting missing values in this column to 0 is likely to yield horrible results!"
      ],
      "text/plain": [
       "Correct: \n",
       "\n",
       "Given that thre are so few missing values in the dataset, we'd expect imputation to perform better than dropping columns entirely.  However, we see that dropping columns performs slightly better!  While this can probably partially be attributed to noise in the dataset, another potential explanation is that the imputation method is not a great match to this dataset.  That is, maybe instead of filling in the mean value, it makes more sense to set every missing value to a value of 0, to fill in the most frequently encountered value, or to use some other method.  For instance, consider the `GarageYrBlt` column (which indicates the year that the garage was built).  It's likely that in some cases, a missing value could indicate a house that does not have a garage.  Does it make more sense to fill in the median value along each column in this case?  Or could we get better results by filling in the minimum value along each column?  It's not quite clear what's best in this case, but perhaps we can rule out some options immediately - for instance, setting missing values in this column to 0 is likely to yield horrible results!"
      ]
     },
     "metadata": {},
     "output_type": "display_data"
    }
   ],
   "source": [
    "# Check your answer (Run this code cell to receive credit!)\n",
    "step_3.b.check()"
   ]
  },
  {
   "cell_type": "code",
   "execution_count": 17,
   "id": "d43df872",
   "metadata": {
    "execution": {
     "iopub.execute_input": "2021-08-17T01:49:17.488530Z",
     "iopub.status.busy": "2021-08-17T01:49:17.487895Z",
     "iopub.status.idle": "2021-08-17T01:49:17.491190Z",
     "shell.execute_reply": "2021-08-17T01:49:17.490562Z"
    },
    "papermill": {
     "duration": 0.042916,
     "end_time": "2021-08-17T01:49:17.491329",
     "exception": false,
     "start_time": "2021-08-17T01:49:17.448413",
     "status": "completed"
    },
    "tags": []
   },
   "outputs": [],
   "source": [
    "#step_3.b.hint()"
   ]
  },
  {
   "cell_type": "markdown",
   "id": "9832d002",
   "metadata": {
    "papermill": {
     "duration": 0.03536,
     "end_time": "2021-08-17T01:49:17.564225",
     "exception": false,
     "start_time": "2021-08-17T01:49:17.528865",
     "status": "completed"
    },
    "tags": []
   },
   "source": [
    "# Step 4: Generate test predictions\n",
    "\n",
    "In this final step, you'll use any approach of your choosing to deal with missing values.  Once you've preprocessed the training and validation features, you'll train and evaluate a random forest model.  Then, you'll preprocess the test data before generating predictions that can be submitted to the competition!\n",
    "\n",
    "### Part A\n",
    "\n",
    "Use the next code cell to preprocess the training and validation data.  Set the preprocessed DataFrames to `final_X_train` and `final_X_valid`.  **You can use any approach of your choosing here!**  in order for this step to be marked as correct, you need only ensure:\n",
    "- the preprocessed DataFrames have the same number of columns,\n",
    "- the preprocessed DataFrames have no missing values, \n",
    "- `final_X_train` and `y_train` have the same number of rows, and\n",
    "- `final_X_valid` and `y_valid` have the same number of rows."
   ]
  },
  {
   "cell_type": "code",
   "execution_count": 18,
   "id": "74a811b1",
   "metadata": {
    "execution": {
     "iopub.execute_input": "2021-08-17T01:49:17.644394Z",
     "iopub.status.busy": "2021-08-17T01:49:17.643587Z",
     "iopub.status.idle": "2021-08-17T01:49:17.672223Z",
     "shell.execute_reply": "2021-08-17T01:49:17.671702Z",
     "shell.execute_reply.started": "2021-08-17T01:42:27.081500Z"
    },
    "papermill": {
     "duration": 0.072104,
     "end_time": "2021-08-17T01:49:17.672368",
     "exception": false,
     "start_time": "2021-08-17T01:49:17.600264",
     "status": "completed"
    },
    "tags": []
   },
   "outputs": [
    {
     "data": {
      "application/javascript": [
       "parent.postMessage({\"jupyterEvent\": \"custom.exercise_interaction\", \"data\": {\"outcomeType\": 1, \"valueTowardsCompletion\": 1.0, \"interactionType\": 1, \"questionType\": 2, \"questionId\": \"4.1_PredsCodeA\", \"learnToolsVersion\": \"0.3.4\", \"failureMessage\": \"\", \"exceptionClass\": \"\", \"trace\": \"\"}}, \"*\")"
      ],
      "text/plain": [
       "<IPython.core.display.Javascript object>"
      ]
     },
     "metadata": {},
     "output_type": "display_data"
    },
    {
     "data": {
      "text/markdown": [
       "<span style=\"color:#33cc33\">Correct</span>"
      ],
      "text/plain": [
       "Correct"
      ]
     },
     "metadata": {},
     "output_type": "display_data"
    }
   ],
   "source": [
    "# Preprocessed training and validation features\n",
    "final_imputer = SimpleImputer(strategy='median')\n",
    "final_X_train = pd.DataFrame(final_imputer.fit_transform(X_train))\n",
    "final_X_valid = pd.DataFrame(final_imputer.transform(X_valid))\n",
    "\n",
    "final_X_train.columns = X_train.columns\n",
    "final_X_valid.columns = X_valid.columns\n",
    "\n",
    "# Check your answers\n",
    "step_4.a.check()"
   ]
  },
  {
   "cell_type": "code",
   "execution_count": 19,
   "id": "58716021",
   "metadata": {
    "execution": {
     "iopub.execute_input": "2021-08-17T01:49:17.751328Z",
     "iopub.status.busy": "2021-08-17T01:49:17.750525Z",
     "iopub.status.idle": "2021-08-17T01:49:17.760348Z",
     "shell.execute_reply": "2021-08-17T01:49:17.760807Z",
     "shell.execute_reply.started": "2021-08-17T01:39:17.341388Z"
    },
    "papermill": {
     "duration": 0.051982,
     "end_time": "2021-08-17T01:49:17.760979",
     "exception": false,
     "start_time": "2021-08-17T01:49:17.708997",
     "status": "completed"
    },
    "tags": []
   },
   "outputs": [
    {
     "data": {
      "application/javascript": [
       "parent.postMessage({\"jupyterEvent\": \"custom.exercise_interaction\", \"data\": {\"interactionType\": 2, \"questionType\": 2, \"questionId\": \"4.1_PredsCodeA\", \"learnToolsVersion\": \"0.3.4\", \"valueTowardsCompletion\": 0.0, \"failureMessage\": \"\", \"exceptionClass\": \"\", \"trace\": \"\", \"outcomeType\": 4}}, \"*\")"
      ],
      "text/plain": [
       "<IPython.core.display.Javascript object>"
      ]
     },
     "metadata": {},
     "output_type": "display_data"
    },
    {
     "data": {
      "text/markdown": [
       "<span style=\"color:#3366cc\">Hint:</span> Use any approach of your choosing to deal with missing values in the data.  For inspiration, check out the code from the tutorial!"
      ],
      "text/plain": [
       "Hint: Use any approach of your choosing to deal with missing values in the data.  For inspiration, check out the code from the tutorial!"
      ]
     },
     "metadata": {},
     "output_type": "display_data"
    },
    {
     "data": {
      "application/javascript": [
       "parent.postMessage({\"jupyterEvent\": \"custom.exercise_interaction\", \"data\": {\"interactionType\": 3, \"questionType\": 2, \"questionId\": \"4.1_PredsCodeA\", \"learnToolsVersion\": \"0.3.4\", \"valueTowardsCompletion\": 0.0, \"failureMessage\": \"\", \"exceptionClass\": \"\", \"trace\": \"\", \"outcomeType\": 4}}, \"*\")"
      ],
      "text/plain": [
       "<IPython.core.display.Javascript object>"
      ]
     },
     "metadata": {},
     "output_type": "display_data"
    },
    {
     "data": {
      "text/markdown": [
       "<span style=\"color:#33cc99\">Solution:</span> \n",
       "```python\n",
       "# Imputation\n",
       "final_imputer = SimpleImputer(strategy='median')\n",
       "final_X_train = pd.DataFrame(final_imputer.fit_transform(X_train))\n",
       "final_X_valid = pd.DataFrame(final_imputer.transform(X_valid))\n",
       "\n",
       "# Imputation removed column names; put them back\n",
       "final_X_train.columns = X_train.columns\n",
       "final_X_valid.columns = X_valid.columns\n",
       "\n",
       "```"
      ],
      "text/plain": [
       "Solution: \n",
       "```python\n",
       "# Imputation\n",
       "final_imputer = SimpleImputer(strategy='median')\n",
       "final_X_train = pd.DataFrame(final_imputer.fit_transform(X_train))\n",
       "final_X_valid = pd.DataFrame(final_imputer.transform(X_valid))\n",
       "\n",
       "# Imputation removed column names; put them back\n",
       "final_X_train.columns = X_train.columns\n",
       "final_X_valid.columns = X_valid.columns\n",
       "\n",
       "```"
      ]
     },
     "metadata": {},
     "output_type": "display_data"
    }
   ],
   "source": [
    "# Lines below will give you a hint or solution code\n",
    "step_4.a.hint()\n",
    "step_4.a.solution()"
   ]
  },
  {
   "cell_type": "markdown",
   "id": "43415166",
   "metadata": {
    "papermill": {
     "duration": 0.038173,
     "end_time": "2021-08-17T01:49:17.838141",
     "exception": false,
     "start_time": "2021-08-17T01:49:17.799968",
     "status": "completed"
    },
    "tags": []
   },
   "source": [
    "Run the next code cell to train and evaluate a random forest model.  (*Note that we don't use the `score_dataset()` function above, because we will soon use the trained model to generate test predictions!*)"
   ]
  },
  {
   "cell_type": "code",
   "execution_count": 20,
   "id": "202df733",
   "metadata": {
    "execution": {
     "iopub.execute_input": "2021-08-17T01:49:17.928726Z",
     "iopub.status.busy": "2021-08-17T01:49:17.923780Z",
     "iopub.status.idle": "2021-08-17T01:49:19.304882Z",
     "shell.execute_reply": "2021-08-17T01:49:19.304197Z",
     "shell.execute_reply.started": "2021-08-17T01:43:04.617676Z"
    },
    "papermill": {
     "duration": 1.427319,
     "end_time": "2021-08-17T01:49:19.305106",
     "exception": false,
     "start_time": "2021-08-17T01:49:17.877787",
     "status": "completed"
    },
    "tags": []
   },
   "outputs": [
    {
     "name": "stdout",
     "output_type": "stream",
     "text": [
      "MAE (Median):\n",
      "17791.59899543379\n"
     ]
    }
   ],
   "source": [
    "# Define and fit model\n",
    "model = RandomForestRegressor(n_estimators=100, random_state=0)\n",
    "model.fit(final_X_train, y_train)\n",
    "\n",
    "# Get validation predictions and MAE\n",
    "preds_valid = model.predict(final_X_valid)\n",
    "print(\"MAE (Median):\")\n",
    "print(mean_absolute_error(y_valid, preds_valid))"
   ]
  },
  {
   "cell_type": "markdown",
   "id": "c94087b8",
   "metadata": {
    "papermill": {
     "duration": 0.038545,
     "end_time": "2021-08-17T01:49:19.382937",
     "exception": false,
     "start_time": "2021-08-17T01:49:19.344392",
     "status": "completed"
    },
    "tags": []
   },
   "source": [
    "### Part B\n",
    "\n",
    "Use the next code cell to preprocess your test data.  Make sure that you use a method that agrees with how you preprocessed the training and validation data, and set the preprocessed test features to `final_X_test`.\n",
    "\n",
    "Then, use the preprocessed test features and the trained model to generate test predictions in `preds_test`.\n",
    "\n",
    "In order for this step to be marked correct, you need only ensure:\n",
    "- the preprocessed test DataFrame has no missing values, and\n",
    "- `final_X_test` has the same number of rows as `X_test`."
   ]
  },
  {
   "cell_type": "code",
   "execution_count": 21,
   "id": "6a185f73",
   "metadata": {
    "execution": {
     "iopub.execute_input": "2021-08-17T01:49:19.470557Z",
     "iopub.status.busy": "2021-08-17T01:49:19.469523Z",
     "iopub.status.idle": "2021-08-17T01:49:19.516416Z",
     "shell.execute_reply": "2021-08-17T01:49:19.516888Z",
     "shell.execute_reply.started": "2021-08-17T01:47:51.837339Z"
    },
    "papermill": {
     "duration": 0.094839,
     "end_time": "2021-08-17T01:49:19.517081",
     "exception": false,
     "start_time": "2021-08-17T01:49:19.422242",
     "status": "completed"
    },
    "tags": []
   },
   "outputs": [
    {
     "data": {
      "application/javascript": [
       "parent.postMessage({\"jupyterEvent\": \"custom.exercise_interaction\", \"data\": {\"outcomeType\": 1, \"valueTowardsCompletion\": 1.0, \"interactionType\": 1, \"questionType\": 2, \"questionId\": \"4.2_PredsCodeB\", \"learnToolsVersion\": \"0.3.4\", \"failureMessage\": \"\", \"exceptionClass\": \"\", \"trace\": \"\"}}, \"*\")"
      ],
      "text/plain": [
       "<IPython.core.display.Javascript object>"
      ]
     },
     "metadata": {},
     "output_type": "display_data"
    },
    {
     "data": {
      "text/markdown": [
       "<span style=\"color:#33cc33\">Correct</span>"
      ],
      "text/plain": [
       "Correct"
      ]
     },
     "metadata": {},
     "output_type": "display_data"
    }
   ],
   "source": [
    "# Fill in the line below: preprocess test data\n",
    "final_X_test = pd.DataFrame(final_imputer.transform(X_test))\n",
    "\n",
    "# Fill in the line below: get test predictions\n",
    "preds_test = model.predict(final_X_test)\n",
    "\n",
    "# Check your answers\n",
    "step_4.b.check()"
   ]
  },
  {
   "cell_type": "code",
   "execution_count": 22,
   "id": "79c8f2a3",
   "metadata": {
    "execution": {
     "iopub.execute_input": "2021-08-17T01:49:19.602577Z",
     "iopub.status.busy": "2021-08-17T01:49:19.601936Z",
     "iopub.status.idle": "2021-08-17T01:49:19.607585Z",
     "shell.execute_reply": "2021-08-17T01:49:19.608085Z",
     "shell.execute_reply.started": "2021-08-17T01:47:00.487639Z"
    },
    "papermill": {
     "duration": 0.050653,
     "end_time": "2021-08-17T01:49:19.608259",
     "exception": false,
     "start_time": "2021-08-17T01:49:19.557606",
     "status": "completed"
    },
    "tags": []
   },
   "outputs": [
    {
     "data": {
      "application/javascript": [
       "parent.postMessage({\"jupyterEvent\": \"custom.exercise_interaction\", \"data\": {\"interactionType\": 3, \"questionType\": 2, \"questionId\": \"4.2_PredsCodeB\", \"learnToolsVersion\": \"0.3.4\", \"valueTowardsCompletion\": 0.0, \"failureMessage\": \"\", \"exceptionClass\": \"\", \"trace\": \"\", \"outcomeType\": 4}}, \"*\")"
      ],
      "text/plain": [
       "<IPython.core.display.Javascript object>"
      ]
     },
     "metadata": {},
     "output_type": "display_data"
    },
    {
     "data": {
      "text/markdown": [
       "<span style=\"color:#33cc99\">Solution:</span> \n",
       "```python\n",
       "# Preprocess test data\n",
       "final_X_test = pd.DataFrame(final_imputer.transform(X_test))\n",
       "\n",
       "# Get test predictions\n",
       "preds_test = model.predict(final_X_test)\n",
       "\n",
       "```"
      ],
      "text/plain": [
       "Solution: \n",
       "```python\n",
       "# Preprocess test data\n",
       "final_X_test = pd.DataFrame(final_imputer.transform(X_test))\n",
       "\n",
       "# Get test predictions\n",
       "preds_test = model.predict(final_X_test)\n",
       "\n",
       "```"
      ]
     },
     "metadata": {},
     "output_type": "display_data"
    }
   ],
   "source": [
    "# Lines below will give you a hint or solution code\n",
    "#step_4.b.hint()\n",
    "step_4.b.solution()"
   ]
  },
  {
   "cell_type": "markdown",
   "id": "5464975d",
   "metadata": {
    "papermill": {
     "duration": 0.042301,
     "end_time": "2021-08-17T01:49:19.691081",
     "exception": false,
     "start_time": "2021-08-17T01:49:19.648780",
     "status": "completed"
    },
    "tags": []
   },
   "source": [
    "Run the next code cell without changes to save your results to a CSV file that can be submitted directly to the competition."
   ]
  },
  {
   "cell_type": "code",
   "execution_count": 23,
   "id": "136496ad",
   "metadata": {
    "execution": {
     "iopub.execute_input": "2021-08-17T01:49:19.785045Z",
     "iopub.status.busy": "2021-08-17T01:49:19.784364Z",
     "iopub.status.idle": "2021-08-17T01:49:19.795635Z",
     "shell.execute_reply": "2021-08-17T01:49:19.795093Z",
     "shell.execute_reply.started": "2021-08-17T01:48:11.202252Z"
    },
    "papermill": {
     "duration": 0.058913,
     "end_time": "2021-08-17T01:49:19.795814",
     "exception": false,
     "start_time": "2021-08-17T01:49:19.736901",
     "status": "completed"
    },
    "tags": []
   },
   "outputs": [],
   "source": [
    "# Save test predictions to file\n",
    "output = pd.DataFrame({'Id': X_test.index,\n",
    "                       'SalePrice': preds_test})\n",
    "output.to_csv('submission.csv', index=False)"
   ]
  },
  {
   "cell_type": "markdown",
   "id": "a0d729b6",
   "metadata": {
    "papermill": {
     "duration": 0.040419,
     "end_time": "2021-08-17T01:49:19.877697",
     "exception": false,
     "start_time": "2021-08-17T01:49:19.837278",
     "status": "completed"
    },
    "tags": []
   },
   "source": [
    "# Submit your results\n",
    "\n",
    "Once you have successfully completed Step 4, you're ready to submit your results to the leaderboard!  (_You also learned how to do this in the previous exercise.  If you need a reminder of how to do this, please use the instructions below._)  \n",
    "\n",
    "First, you'll need to join the competition if you haven't already.  So open a new window by clicking on [this link](https://www.kaggle.com/c/home-data-for-ml-course).  Then click on the **Join Competition** button.\n",
    "\n",
    "![join competition image](https://i.imgur.com/wLmFtH3.png)\n",
    "\n",
    "Next, follow the instructions below:\n",
    "1. Begin by clicking on the blue **Save Version** button in the top right corner of the window.  This will generate a pop-up window.  \n",
    "2. Ensure that the **Save and Run All** option is selected, and then click on the blue **Save** button.\n",
    "3. This generates a window in the bottom left corner of the notebook.  After it has finished running, click on the number to the right of the **Save Version** button.  This pulls up a list of versions on the right of the screen.  Click on the ellipsis **(...)** to the right of the most recent version, and select **Open in Viewer**.  This brings you into view mode of the same page. You will need to scroll down to get back to these instructions.\n",
    "4. Click on the **Output** tab on the right of the screen.  Then, click on the file you would like to submit, and click on the blue **Submit** button to submit your results to the leaderboard.\n",
    "\n",
    "You have now successfully submitted to the competition!\n",
    "\n",
    "If you want to keep working to improve your performance, select the blue **Edit** button in the top right of the screen. Then you can change your code and repeat the process. There's a lot of room to improve, and you will climb up the leaderboard as you work.\n",
    "\n",
    "\n",
    "# Keep going\n",
    "\n",
    "Move on to learn what **[categorical variables](https://www.kaggle.com/alexisbcook/categorical-variables)** are, along with how to incorporate them into your machine learning models.  Categorical variables are very common in real-world data, but you'll get an error if you try to plug them into your models without processing them first!"
   ]
  },
  {
   "cell_type": "markdown",
   "id": "f02e3832",
   "metadata": {
    "papermill": {
     "duration": 0.04167,
     "end_time": "2021-08-17T01:49:19.959822",
     "exception": false,
     "start_time": "2021-08-17T01:49:19.918152",
     "status": "completed"
    },
    "tags": []
   },
   "source": [
    "---\n",
    "\n",
    "\n",
    "\n",
    "\n",
    "*Have questions or comments? Visit the [Learn Discussion forum](https://www.kaggle.com/learn-forum/161289) to chat with other Learners.*"
   ]
  }
 ],
 "metadata": {
  "kernelspec": {
   "display_name": "Python 3",
   "language": "python",
   "name": "python3"
  },
  "language_info": {
   "codemirror_mode": {
    "name": "ipython",
    "version": 3
   },
   "file_extension": ".py",
   "mimetype": "text/x-python",
   "name": "python",
   "nbconvert_exporter": "python",
   "pygments_lexer": "ipython3",
   "version": "3.7.10"
  },
  "papermill": {
   "default_parameters": {},
   "duration": 17.652044,
   "end_time": "2021-08-17T01:49:20.711044",
   "environment_variables": {},
   "exception": null,
   "input_path": "__notebook__.ipynb",
   "output_path": "__notebook__.ipynb",
   "parameters": {},
   "start_time": "2021-08-17T01:49:03.059000",
   "version": "2.3.3"
  }
 },
 "nbformat": 4,
 "nbformat_minor": 5
}
