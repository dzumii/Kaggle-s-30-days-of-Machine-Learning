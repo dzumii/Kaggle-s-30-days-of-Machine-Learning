{
 "cells": [
  {
   "cell_type": "markdown",
   "id": "e3333b91",
   "metadata": {
    "papermill": {
     "duration": 0.016815,
     "end_time": "2021-08-05T02:00:04.677595",
     "exception": false,
     "start_time": "2021-08-05T02:00:04.660780",
     "status": "completed"
    },
    "tags": []
   },
   "source": [
    "**This notebook is an exercise in the [Python](https://www.kaggle.com/learn/python) course.  You can reference the tutorial at [this link](https://www.kaggle.com/colinmorris/hello-python).**\n",
    "\n",
    "---\n"
   ]
  },
  {
   "cell_type": "markdown",
   "id": "9ba35e0f",
   "metadata": {
    "papermill": {
     "duration": 0.01543,
     "end_time": "2021-08-05T02:00:04.709138",
     "exception": false,
     "start_time": "2021-08-05T02:00:04.693708",
     "status": "completed"
    },
    "tags": []
   },
   "source": [
    "Welcome to your first set of Python coding problems.  If this is your first time using Kaggle Notebooks, welcome! \n",
    "\n",
    "Notebooks are composed of blocks (called \"cells\") of text and code. Each of these is editable, though you'll mainly be editing the code cells to answer some questions.\n",
    "\n",
    "To get started, try running the code cell below (by pressing the ► button, or clicking on the cell and pressing ctrl+enter on your keyboard)."
   ]
  },
  {
   "cell_type": "code",
   "execution_count": null,
   "id": "1eec97ae",
   "metadata": {
    "papermill": {
     "duration": 0.015737,
     "end_time": "2021-08-05T02:00:04.740660",
     "exception": false,
     "start_time": "2021-08-05T02:00:04.724923",
     "status": "completed"
    },
    "tags": []
   },
   "outputs": [],
   "source": []
  },
  {
   "cell_type": "code",
   "execution_count": 1,
   "id": "1bb34de7",
   "metadata": {
    "execution": {
     "iopub.execute_input": "2021-08-05T02:00:04.784340Z",
     "iopub.status.busy": "2021-08-05T02:00:04.783698Z",
     "iopub.status.idle": "2021-08-05T02:00:04.786745Z",
     "shell.execute_reply": "2021-08-05T02:00:04.787275Z",
     "shell.execute_reply.started": "2021-08-05T01:31:28.276995Z"
    },
    "papermill": {
     "duration": 0.030963,
     "end_time": "2021-08-05T02:00:04.787548",
     "exception": false,
     "start_time": "2021-08-05T02:00:04.756585",
     "status": "completed"
    },
    "tags": []
   },
   "outputs": [
    {
     "name": "stdout",
     "output_type": "stream",
     "text": [
      "You've successfully run some Python code\n",
      "Congratulations!\n"
     ]
    }
   ],
   "source": [
    "print(\"You've successfully run some Python code\")\n",
    "print(\"Congratulations!\")"
   ]
  },
  {
   "cell_type": "code",
   "execution_count": null,
   "id": "518be69d",
   "metadata": {
    "papermill": {
     "duration": 0.016485,
     "end_time": "2021-08-05T02:00:04.820582",
     "exception": false,
     "start_time": "2021-08-05T02:00:04.804097",
     "status": "completed"
    },
    "tags": []
   },
   "outputs": [],
   "source": []
  },
  {
   "cell_type": "markdown",
   "id": "0e6b3f41",
   "metadata": {
    "papermill": {
     "duration": 0.016299,
     "end_time": "2021-08-05T02:00:04.853346",
     "exception": false,
     "start_time": "2021-08-05T02:00:04.837047",
     "status": "completed"
    },
    "tags": []
   },
   "source": [
    "Try adding another line of code in the cell above and re-running it. \n",
    "\n",
    "Now let's get a little fancier:  Add a new code cell by clicking on an existing code cell, hitting the escape key, and then hitting the `a` or `b` key.  The `a` key will add a cell above the current cell, and `b` adds a cell below.\n",
    "\n",
    "Great! Now you know how to use Notebooks.\n",
    "\n",
    "Each hands-on exercise starts by setting up our feedback and code checking mechanism. Run the code cell below to do that. Then you'll be ready to move on to question 0."
   ]
  },
  {
   "cell_type": "code",
   "execution_count": 2,
   "id": "9766ce77",
   "metadata": {
    "_kg_hide-input": true,
    "_kg_hide-output": true,
    "execution": {
     "iopub.execute_input": "2021-08-05T02:00:04.890512Z",
     "iopub.status.busy": "2021-08-05T02:00:04.889841Z",
     "iopub.status.idle": "2021-08-05T02:00:05.009848Z",
     "shell.execute_reply": "2021-08-05T02:00:05.010376Z",
     "shell.execute_reply.started": "2021-08-05T01:33:45.059019Z"
    },
    "papermill": {
     "duration": 0.140707,
     "end_time": "2021-08-05T02:00:05.010546",
     "exception": false,
     "start_time": "2021-08-05T02:00:04.869839",
     "status": "completed"
    },
    "tags": []
   },
   "outputs": [
    {
     "name": "stdout",
     "output_type": "stream",
     "text": [
      "Setup complete! You're ready to start question 0.\n"
     ]
    }
   ],
   "source": [
    "from learntools.core import binder; binder.bind(globals())\n",
    "from learntools.python.ex1 import *\n",
    "print(\"Setup complete! You're ready to start question 0.\")"
   ]
  },
  {
   "cell_type": "markdown",
   "id": "4360df7e",
   "metadata": {
    "papermill": {
     "duration": 0.015914,
     "end_time": "2021-08-05T02:00:05.042880",
     "exception": false,
     "start_time": "2021-08-05T02:00:05.026966",
     "status": "completed"
    },
    "tags": []
   },
   "source": [
    "# 0.\n",
    "\n",
    "*This is a silly question intended as an introduction to the format we use for hands-on exercises throughout all Kaggle courses.*\n",
    "\n",
    "**What is your favorite color? **\n",
    "\n",
    "To complete this question, create a variable called `color` in the cell below with an appropriate value. The function call `q0.check()` (which we've already provided in the cell below) will check your answer."
   ]
  },
  {
   "cell_type": "code",
   "execution_count": 3,
   "id": "d8e2f451",
   "metadata": {
    "execution": {
     "iopub.execute_input": "2021-08-05T02:00:05.078951Z",
     "iopub.status.busy": "2021-08-05T02:00:05.078387Z",
     "iopub.status.idle": "2021-08-05T02:00:05.087321Z",
     "shell.execute_reply": "2021-08-05T02:00:05.086819Z",
     "shell.execute_reply.started": "2021-08-05T01:59:11.043023Z"
    },
    "papermill": {
     "duration": 0.028368,
     "end_time": "2021-08-05T02:00:05.087446",
     "exception": false,
     "start_time": "2021-08-05T02:00:05.059078",
     "status": "completed"
    },
    "tags": []
   },
   "outputs": [
    {
     "data": {
      "application/javascript": [
       "parent.postMessage({\"jupyterEvent\": \"custom.exercise_interaction\", \"data\": {\"outcomeType\": 1, \"valueTowardsCompletion\": 0.25, \"interactionType\": 1, \"questionType\": 2, \"questionId\": \"0_ExerciseFormatTutorial\", \"learnToolsVersion\": \"0.3.4\", \"failureMessage\": \"\", \"exceptionClass\": \"\", \"trace\": \"\"}}, \"*\")"
      ],
      "text/plain": [
       "<IPython.core.display.Javascript object>"
      ]
     },
     "metadata": {},
     "output_type": "display_data"
    },
    {
     "data": {
      "text/markdown": [
       "<span style=\"color:#33cc33\">Correct:</span> What?! You got it right without needing a hint or anything? Drats. Well hey, you should still continue to the next step to get some practice asking for a hint and checking solutions. (Even though you obviously don't need any help here.)"
      ],
      "text/plain": [
       "Correct: What?! You got it right without needing a hint or anything? Drats. Well hey, you should still continue to the next step to get some practice asking for a hint and checking solutions. (Even though you obviously don't need any help here.)"
      ]
     },
     "metadata": {},
     "output_type": "display_data"
    }
   ],
   "source": [
    "# create a variable called color with an appropriate value on the line below\n",
    "# (Remember, strings in Python must be enclosed in 'single' or \"double\" quotes)\n",
    "color='blue'\n",
    "\n",
    "# Check your answer\n",
    "q0.check()"
   ]
  },
  {
   "cell_type": "markdown",
   "id": "18d6d049",
   "metadata": {
    "papermill": {
     "duration": 0.016697,
     "end_time": "2021-08-05T02:00:05.121329",
     "exception": false,
     "start_time": "2021-08-05T02:00:05.104632",
     "status": "completed"
    },
    "tags": []
   },
   "source": [
    "Didn't get the right answer? How do you not even know your own favorite color?!\n",
    "\n",
    "Delete the `#` in the line below to make one of the lines run. You can choose between getting a hint or the full answer by choosing which line to remove the `#` from. \n",
    "\n",
    "Removing the `#` is called uncommenting, because it changes that line from a \"comment\" which Python doesn't run to code, which Python does run."
   ]
  },
  {
   "cell_type": "code",
   "execution_count": 4,
   "id": "3344b3e3",
   "metadata": {
    "execution": {
     "iopub.execute_input": "2021-08-05T02:00:05.158164Z",
     "iopub.status.busy": "2021-08-05T02:00:05.157596Z",
     "iopub.status.idle": "2021-08-05T02:00:05.165973Z",
     "shell.execute_reply": "2021-08-05T02:00:05.166465Z",
     "shell.execute_reply.started": "2021-08-05T01:58:50.841053Z"
    },
    "papermill": {
     "duration": 0.028264,
     "end_time": "2021-08-05T02:00:05.166629",
     "exception": false,
     "start_time": "2021-08-05T02:00:05.138365",
     "status": "completed"
    },
    "tags": []
   },
   "outputs": [
    {
     "data": {
      "application/javascript": [
       "parent.postMessage({\"jupyterEvent\": \"custom.exercise_interaction\", \"data\": {\"interactionType\": 2, \"questionType\": 2, \"questionId\": \"0_ExerciseFormatTutorial\", \"learnToolsVersion\": \"0.3.4\", \"valueTowardsCompletion\": 0.0, \"failureMessage\": \"\", \"exceptionClass\": \"\", \"trace\": \"\", \"outcomeType\": 4}}, \"*\")"
      ],
      "text/plain": [
       "<IPython.core.display.Javascript object>"
      ]
     },
     "metadata": {},
     "output_type": "display_data"
    },
    {
     "data": {
      "text/markdown": [
       "<span style=\"color:#3366cc\">Hint:</span> Your favorite color rhymes with *glue*."
      ],
      "text/plain": [
       "Hint: Your favorite color rhymes with *glue*."
      ]
     },
     "metadata": {},
     "output_type": "display_data"
    },
    {
     "data": {
      "application/javascript": [
       "parent.postMessage({\"jupyterEvent\": \"custom.exercise_interaction\", \"data\": {\"interactionType\": 3, \"questionType\": 2, \"questionId\": \"0_ExerciseFormatTutorial\", \"learnToolsVersion\": \"0.3.4\", \"valueTowardsCompletion\": 0.0, \"failureMessage\": \"\", \"exceptionClass\": \"\", \"trace\": \"\", \"outcomeType\": 4}}, \"*\")"
      ],
      "text/plain": [
       "<IPython.core.display.Javascript object>"
      ]
     },
     "metadata": {},
     "output_type": "display_data"
    },
    {
     "data": {
      "text/markdown": [
       "<span style=\"color:#33cc99\">Solution:</span> \n",
       "```python\n",
       "color = \"blue\"\n",
       "```"
      ],
      "text/plain": [
       "Solution: \n",
       "```python\n",
       "color = \"blue\"\n",
       "```"
      ]
     },
     "metadata": {},
     "output_type": "display_data"
    }
   ],
   "source": [
    "q0.hint()\n",
    "q0.solution()"
   ]
  },
  {
   "cell_type": "markdown",
   "id": "68ce1b6a",
   "metadata": {
    "papermill": {
     "duration": 0.019077,
     "end_time": "2021-08-05T02:00:05.204367",
     "exception": false,
     "start_time": "2021-08-05T02:00:05.185290",
     "status": "completed"
    },
    "tags": []
   },
   "source": [
    "The upcoming questions work the same way. The only thing that will change are the question numbers. For the next question, you'll call `q1.check()`, `q1.hint()`, `q1.solution()`, for question 2, you'll call `q2.check()`, and so on."
   ]
  },
  {
   "cell_type": "markdown",
   "id": "c585da7b",
   "metadata": {
    "papermill": {
     "duration": 0.018184,
     "end_time": "2021-08-05T02:00:05.241286",
     "exception": false,
     "start_time": "2021-08-05T02:00:05.223102",
     "status": "completed"
    },
    "tags": []
   },
   "source": [
    "<hr/>\n",
    "\n",
    "# 1.\n",
    "\n",
    "Complete the code below. In case it's helpful, here is the table of available arithmetic operations:\n",
    "\n",
    "\n",
    "\n",
    "| Operator     | Name           | Description                                            |\n",
    "|--------------|----------------|--------------------------------------------------------|\n",
    "| ``a + b``    | Addition       | Sum of ``a`` and ``b``                                 |\n",
    "| ``a - b``    | Subtraction    | Difference of ``a`` and ``b``                          |\n",
    "| ``a * b``    | Multiplication | Product of ``a`` and ``b``                             |\n",
    "| ``a / b``    | True division  | Quotient of ``a`` and ``b``                            |\n",
    "| ``a // b``   | Floor division | Quotient of ``a`` and ``b``, removing fractional parts |\n",
    "| ``a % b``    | Modulus        | Integer remainder after division of ``a`` by ``b``     |\n",
    "| ``a ** b``   | Exponentiation | ``a`` raised to the power of ``b``                     |\n",
    "| ``-a``       | Negation       | The negative of ``a``                                  |\n",
    "\n",
    "<span style=\"display:none\"></span>\n"
   ]
  },
  {
   "cell_type": "code",
   "execution_count": 5,
   "id": "2c8e7880",
   "metadata": {
    "execution": {
     "iopub.execute_input": "2021-08-05T02:00:05.280765Z",
     "iopub.status.busy": "2021-08-05T02:00:05.280205Z",
     "iopub.status.idle": "2021-08-05T02:00:05.286184Z",
     "shell.execute_reply": "2021-08-05T02:00:05.286704Z",
     "shell.execute_reply.started": "2021-08-05T01:42:16.064483Z"
    },
    "papermill": {
     "duration": 0.027223,
     "end_time": "2021-08-05T02:00:05.286851",
     "exception": false,
     "start_time": "2021-08-05T02:00:05.259628",
     "status": "completed"
    },
    "tags": []
   },
   "outputs": [
    {
     "data": {
      "application/javascript": [
       "parent.postMessage({\"jupyterEvent\": \"custom.exercise_interaction\", \"data\": {\"outcomeType\": 1, \"valueTowardsCompletion\": 0.25, \"interactionType\": 1, \"questionType\": 1, \"questionId\": \"1_CircleArea\", \"learnToolsVersion\": \"0.3.4\", \"failureMessage\": \"\", \"exceptionClass\": \"\", \"trace\": \"\"}}, \"*\")"
      ],
      "text/plain": [
       "<IPython.core.display.Javascript object>"
      ]
     },
     "metadata": {},
     "output_type": "display_data"
    },
    {
     "data": {
      "text/markdown": [
       "<span style=\"color:#33cc33\">Correct</span>"
      ],
      "text/plain": [
       "Correct"
      ]
     },
     "metadata": {},
     "output_type": "display_data"
    }
   ],
   "source": [
    "pi = 3.14159 # approximate\n",
    "diameter = 3\n",
    "\n",
    "# Create a variable called 'radius' equal to half the diameter\n",
    "radius=diameter/2\n",
    "\n",
    "# Create a variable called 'area', using the formula for the area of a circle: pi times the radius squared\n",
    "area=pi*(radius**2)\n",
    "\n",
    "# Check your answer\n",
    "q1.check()"
   ]
  },
  {
   "cell_type": "code",
   "execution_count": 6,
   "id": "7ebdb8d0",
   "metadata": {
    "execution": {
     "iopub.execute_input": "2021-08-05T02:00:05.328857Z",
     "iopub.status.busy": "2021-08-05T02:00:05.328280Z",
     "iopub.status.idle": "2021-08-05T02:00:05.331145Z",
     "shell.execute_reply": "2021-08-05T02:00:05.331645Z"
    },
    "papermill": {
     "duration": 0.025716,
     "end_time": "2021-08-05T02:00:05.331802",
     "exception": false,
     "start_time": "2021-08-05T02:00:05.306086",
     "status": "completed"
    },
    "tags": []
   },
   "outputs": [],
   "source": [
    "# Uncomment and run the lines below if you need help.\n",
    "#q1.hint()\n",
    "#q1.solution()"
   ]
  },
  {
   "cell_type": "markdown",
   "id": "e5f97990",
   "metadata": {
    "papermill": {
     "duration": 0.019485,
     "end_time": "2021-08-05T02:00:05.371132",
     "exception": false,
     "start_time": "2021-08-05T02:00:05.351647",
     "status": "completed"
    },
    "tags": []
   },
   "source": [
    "<hr/>\n",
    "\n",
    "# 2.\n",
    "\n",
    "Add code to the following cell to swap variables `a` and `b` (so that `a` refers to the object previously referred to by `b` and vice versa)."
   ]
  },
  {
   "cell_type": "code",
   "execution_count": 7,
   "id": "045b717d",
   "metadata": {
    "execution": {
     "iopub.execute_input": "2021-08-05T02:00:05.412421Z",
     "iopub.status.busy": "2021-08-05T02:00:05.411836Z",
     "iopub.status.idle": "2021-08-05T02:00:05.418451Z",
     "shell.execute_reply": "2021-08-05T02:00:05.418952Z",
     "shell.execute_reply.started": "2021-08-05T01:50:18.474124Z"
    },
    "papermill": {
     "duration": 0.028685,
     "end_time": "2021-08-05T02:00:05.419113",
     "exception": false,
     "start_time": "2021-08-05T02:00:05.390428",
     "status": "completed"
    },
    "tags": []
   },
   "outputs": [
    {
     "data": {
      "application/javascript": [
       "parent.postMessage({\"jupyterEvent\": \"custom.exercise_interaction\", \"data\": {\"outcomeType\": 1, \"valueTowardsCompletion\": 0.25, \"interactionType\": 1, \"questionType\": 2, \"questionId\": \"2_VariableSwap\", \"learnToolsVersion\": \"0.3.4\", \"failureMessage\": \"\", \"exceptionClass\": \"\", \"trace\": \"\"}}, \"*\")"
      ],
      "text/plain": [
       "<IPython.core.display.Javascript object>"
      ]
     },
     "metadata": {},
     "output_type": "display_data"
    },
    {
     "data": {
      "text/markdown": [
       "<span style=\"color:#33cc33\">Correct:</span> \n",
       "\n",
       "The most straightforward solution is to use a third variable to temporarily store one of the old values. e.g.:\n",
       "\n",
       "    tmp = a\n",
       "    a = b\n",
       "    b = tmp\n",
       "\n",
       "If you've read lots of Python code, you might have seen the following trick to swap two variables in one line:\n",
       "\n",
       "    a, b = b, a\n",
       "\n",
       "We'll demystify this bit of Python magic later when we talk about *tuples*."
      ],
      "text/plain": [
       "Correct: \n",
       "\n",
       "The most straightforward solution is to use a third variable to temporarily store one of the old values. e.g.:\n",
       "\n",
       "    tmp = a\n",
       "    a = b\n",
       "    b = tmp\n",
       "\n",
       "If you've read lots of Python code, you might have seen the following trick to swap two variables in one line:\n",
       "\n",
       "    a, b = b, a\n",
       "\n",
       "We'll demystify this bit of Python magic later when we talk about *tuples*."
      ]
     },
     "metadata": {},
     "output_type": "display_data"
    }
   ],
   "source": [
    "########### Setup code - don't touch this part ######################\n",
    "# If you're curious, these are examples of lists. We'll talk about \n",
    "# them in depth a few lessons from now. For now, just know that they're\n",
    "# yet another type of Python object, like int or float.\n",
    "a = [1, 2, 3]\n",
    "b = [3, 2, 1]\n",
    "q2.store_original_ids()\n",
    "######################################################################\n",
    "\n",
    "# Your code goes here. Swap the values to which a and b refer.\n",
    "# If you get stuck, you can always uncomment one or both of the lines in\n",
    "# the next cell for a hint, or to peek at the solution.\n",
    "c=b\n",
    "b=a\n",
    "a=c\n",
    "######################################################################\n",
    "\n",
    "# Check your answer\n",
    "q2.check()"
   ]
  },
  {
   "cell_type": "code",
   "execution_count": 8,
   "id": "cdc76404",
   "metadata": {
    "execution": {
     "iopub.execute_input": "2021-08-05T02:00:05.462175Z",
     "iopub.status.busy": "2021-08-05T02:00:05.461559Z",
     "iopub.status.idle": "2021-08-05T02:00:05.466985Z",
     "shell.execute_reply": "2021-08-05T02:00:05.467453Z",
     "shell.execute_reply.started": "2021-08-05T01:49:05.668467Z"
    },
    "papermill": {
     "duration": 0.028548,
     "end_time": "2021-08-05T02:00:05.467608",
     "exception": false,
     "start_time": "2021-08-05T02:00:05.439060",
     "status": "completed"
    },
    "tags": []
   },
   "outputs": [
    {
     "data": {
      "application/javascript": [
       "parent.postMessage({\"jupyterEvent\": \"custom.exercise_interaction\", \"data\": {\"interactionType\": 2, \"questionType\": 2, \"questionId\": \"2_VariableSwap\", \"learnToolsVersion\": \"0.3.4\", \"valueTowardsCompletion\": 0.0, \"failureMessage\": \"\", \"exceptionClass\": \"\", \"trace\": \"\", \"outcomeType\": 4}}, \"*\")"
      ],
      "text/plain": [
       "<IPython.core.display.Javascript object>"
      ]
     },
     "metadata": {},
     "output_type": "display_data"
    },
    {
     "data": {
      "text/markdown": [
       "<span style=\"color:#3366cc\">Hint:</span> Try using a third variable."
      ],
      "text/plain": [
       "Hint: Try using a third variable."
      ]
     },
     "metadata": {},
     "output_type": "display_data"
    }
   ],
   "source": [
    "q2.hint()"
   ]
  },
  {
   "cell_type": "code",
   "execution_count": 9,
   "id": "2c3a01f3",
   "metadata": {
    "execution": {
     "iopub.execute_input": "2021-08-05T02:00:05.514003Z",
     "iopub.status.busy": "2021-08-05T02:00:05.513212Z",
     "iopub.status.idle": "2021-08-05T02:00:05.518812Z",
     "shell.execute_reply": "2021-08-05T02:00:05.518238Z",
     "shell.execute_reply.started": "2021-08-05T01:49:17.158352Z"
    },
    "papermill": {
     "duration": 0.030506,
     "end_time": "2021-08-05T02:00:05.518946",
     "exception": false,
     "start_time": "2021-08-05T02:00:05.488440",
     "status": "completed"
    },
    "tags": []
   },
   "outputs": [
    {
     "data": {
      "application/javascript": [
       "parent.postMessage({\"jupyterEvent\": \"custom.exercise_interaction\", \"data\": {\"interactionType\": 3, \"questionType\": 2, \"questionId\": \"2_VariableSwap\", \"learnToolsVersion\": \"0.3.4\", \"valueTowardsCompletion\": 0.0, \"failureMessage\": \"\", \"exceptionClass\": \"\", \"trace\": \"\", \"outcomeType\": 4}}, \"*\")"
      ],
      "text/plain": [
       "<IPython.core.display.Javascript object>"
      ]
     },
     "metadata": {},
     "output_type": "display_data"
    },
    {
     "data": {
      "text/markdown": [
       "<span style=\"color:#33cc99\">Solution:</span> The most straightforward solution is to use a third variable to temporarily store one of the old values. e.g.:\n",
       "\n",
       "    tmp = a\n",
       "    a = b\n",
       "    b = tmp\n",
       "\n",
       "If you've read lots of Python code, you might have seen the following trick to swap two variables in one line:\n",
       "\n",
       "    a, b = b, a\n",
       "\n",
       "We'll demystify this bit of Python magic later when we talk about *tuples*."
      ],
      "text/plain": [
       "Solution: The most straightforward solution is to use a third variable to temporarily store one of the old values. e.g.:\n",
       "\n",
       "    tmp = a\n",
       "    a = b\n",
       "    b = tmp\n",
       "\n",
       "If you've read lots of Python code, you might have seen the following trick to swap two variables in one line:\n",
       "\n",
       "    a, b = b, a\n",
       "\n",
       "We'll demystify this bit of Python magic later when we talk about *tuples*."
      ]
     },
     "metadata": {},
     "output_type": "display_data"
    }
   ],
   "source": [
    "q2.solution()"
   ]
  },
  {
   "cell_type": "markdown",
   "id": "2f88c838",
   "metadata": {
    "papermill": {
     "duration": 0.021348,
     "end_time": "2021-08-05T02:00:05.562098",
     "exception": false,
     "start_time": "2021-08-05T02:00:05.540750",
     "status": "completed"
    },
    "tags": []
   },
   "source": [
    "<hr/>\n",
    "\n",
    "# 3a.\n",
    "\n",
    "Add parentheses to the following expression so that it evaluates to 1."
   ]
  },
  {
   "cell_type": "code",
   "execution_count": 10,
   "id": "86c49856",
   "metadata": {
    "execution": {
     "iopub.execute_input": "2021-08-05T02:00:05.608401Z",
     "iopub.status.busy": "2021-08-05T02:00:05.607831Z",
     "iopub.status.idle": "2021-08-05T02:00:05.612913Z",
     "shell.execute_reply": "2021-08-05T02:00:05.613362Z",
     "shell.execute_reply.started": "2021-08-05T01:50:51.134196Z"
    },
    "papermill": {
     "duration": 0.029697,
     "end_time": "2021-08-05T02:00:05.613540",
     "exception": false,
     "start_time": "2021-08-05T02:00:05.583843",
     "status": "completed"
    },
    "tags": []
   },
   "outputs": [
    {
     "data": {
      "text/plain": [
       "1"
      ]
     },
     "execution_count": 10,
     "metadata": {},
     "output_type": "execute_result"
    }
   ],
   "source": [
    "(5 - 3) // 2"
   ]
  },
  {
   "cell_type": "code",
   "execution_count": 11,
   "id": "afecaa80",
   "metadata": {
    "execution": {
     "iopub.execute_input": "2021-08-05T02:00:05.662453Z",
     "iopub.status.busy": "2021-08-05T02:00:05.661539Z",
     "iopub.status.idle": "2021-08-05T02:00:05.664389Z",
     "shell.execute_reply": "2021-08-05T02:00:05.663933Z"
    },
    "papermill": {
     "duration": 0.028991,
     "end_time": "2021-08-05T02:00:05.664526",
     "exception": false,
     "start_time": "2021-08-05T02:00:05.635535",
     "status": "completed"
    },
    "tags": []
   },
   "outputs": [],
   "source": [
    "#q3.a.hint()"
   ]
  },
  {
   "cell_type": "code",
   "execution_count": 12,
   "id": "fb2ab84a",
   "metadata": {
    "execution": {
     "iopub.execute_input": "2021-08-05T02:00:05.713647Z",
     "iopub.status.busy": "2021-08-05T02:00:05.712871Z",
     "iopub.status.idle": "2021-08-05T02:00:05.718599Z",
     "shell.execute_reply": "2021-08-05T02:00:05.718092Z",
     "shell.execute_reply.started": "2021-08-05T01:51:06.691157Z"
    },
    "papermill": {
     "duration": 0.032247,
     "end_time": "2021-08-05T02:00:05.718746",
     "exception": false,
     "start_time": "2021-08-05T02:00:05.686499",
     "status": "completed"
    },
    "tags": []
   },
   "outputs": [
    {
     "data": {
      "application/javascript": [
       "parent.postMessage({\"jupyterEvent\": \"custom.exercise_interaction\", \"data\": {\"interactionType\": 3, \"questionType\": 4, \"questionId\": \"3.1_ArithmeticParensEasy\", \"learnToolsVersion\": \"0.3.4\", \"valueTowardsCompletion\": 0.0, \"failureMessage\": \"\", \"exceptionClass\": \"\", \"trace\": \"\", \"outcomeType\": 4}}, \"*\")"
      ],
      "text/plain": [
       "<IPython.core.display.Javascript object>"
      ]
     },
     "metadata": {},
     "output_type": "display_data"
    },
    {
     "data": {
      "text/markdown": [
       "<span style=\"color:#33cc99\">Solution:</span> \n",
       "```python\n",
       "(5 - 3) // 2\n",
       "```"
      ],
      "text/plain": [
       "Solution: \n",
       "```python\n",
       "(5 - 3) // 2\n",
       "```"
      ]
     },
     "metadata": {},
     "output_type": "display_data"
    }
   ],
   "source": [
    "# Check your answer (Run this code cell to receive credit!)\n",
    "q3.a.solution()"
   ]
  },
  {
   "cell_type": "markdown",
   "id": "9cbc107a",
   "metadata": {
    "papermill": {
     "duration": 0.022324,
     "end_time": "2021-08-05T02:00:05.763754",
     "exception": false,
     "start_time": "2021-08-05T02:00:05.741430",
     "status": "completed"
    },
    "tags": []
   },
   "source": [
    "# 3b.  <span title=\"A bit spicy\" style=\"color: darkgreen \">🌶️</span>\n",
    "\n",
    "<small>Questions, like this one, marked a spicy pepper are a bit harder.</small>\n",
    "\n",
    "Add parentheses to the following expression so that it evaluates to 0."
   ]
  },
  {
   "cell_type": "code",
   "execution_count": 13,
   "id": "490aac8a",
   "metadata": {
    "execution": {
     "iopub.execute_input": "2021-08-05T02:00:05.813992Z",
     "iopub.status.busy": "2021-08-05T02:00:05.813385Z",
     "iopub.status.idle": "2021-08-05T02:00:05.816263Z",
     "shell.execute_reply": "2021-08-05T02:00:05.815708Z",
     "shell.execute_reply.started": "2021-08-05T01:53:48.247079Z"
    },
    "papermill": {
     "duration": 0.029926,
     "end_time": "2021-08-05T02:00:05.816395",
     "exception": false,
     "start_time": "2021-08-05T02:00:05.786469",
     "status": "completed"
    },
    "tags": []
   },
   "outputs": [
    {
     "data": {
      "text/plain": [
       "0"
      ]
     },
     "execution_count": 13,
     "metadata": {},
     "output_type": "execute_result"
    }
   ],
   "source": [
    "8 - (3 * 2) - (1 + 1)"
   ]
  },
  {
   "cell_type": "code",
   "execution_count": 14,
   "id": "c654bb2c",
   "metadata": {
    "execution": {
     "iopub.execute_input": "2021-08-05T02:00:05.866366Z",
     "iopub.status.busy": "2021-08-05T02:00:05.865766Z",
     "iopub.status.idle": "2021-08-05T02:00:05.868047Z",
     "shell.execute_reply": "2021-08-05T02:00:05.867490Z"
    },
    "papermill": {
     "duration": 0.028759,
     "end_time": "2021-08-05T02:00:05.868173",
     "exception": false,
     "start_time": "2021-08-05T02:00:05.839414",
     "status": "completed"
    },
    "tags": []
   },
   "outputs": [],
   "source": [
    "#q3.b.hint()"
   ]
  },
  {
   "cell_type": "code",
   "execution_count": 15,
   "id": "69bfa67f",
   "metadata": {
    "execution": {
     "iopub.execute_input": "2021-08-05T02:00:05.921086Z",
     "iopub.status.busy": "2021-08-05T02:00:05.920448Z",
     "iopub.status.idle": "2021-08-05T02:00:05.925169Z",
     "shell.execute_reply": "2021-08-05T02:00:05.924616Z"
    },
    "papermill": {
     "duration": 0.034052,
     "end_time": "2021-08-05T02:00:05.925336",
     "exception": false,
     "start_time": "2021-08-05T02:00:05.891284",
     "status": "completed"
    },
    "tags": []
   },
   "outputs": [
    {
     "data": {
      "application/javascript": [
       "parent.postMessage({\"jupyterEvent\": \"custom.exercise_interaction\", \"data\": {\"interactionType\": 3, \"questionType\": 4, \"questionId\": \"3.2_ArithmeticParensHard\", \"learnToolsVersion\": \"0.3.4\", \"valueTowardsCompletion\": 0.0, \"failureMessage\": \"\", \"exceptionClass\": \"\", \"trace\": \"\", \"outcomeType\": 4}}, \"*\")"
      ],
      "text/plain": [
       "<IPython.core.display.Javascript object>"
      ]
     },
     "metadata": {},
     "output_type": "display_data"
    },
    {
     "data": {
      "text/markdown": [
       "<span style=\"color:#33cc99\">Solution:</span> `(8 - 3) * (2 - (1 + 1))` is one solution. There may be others."
      ],
      "text/plain": [
       "Solution: `(8 - 3) * (2 - (1 + 1))` is one solution. There may be others."
      ]
     },
     "metadata": {},
     "output_type": "display_data"
    }
   ],
   "source": [
    "# Check your answer (Run this code cell to receive credit!)\n",
    "q3.b.solution()"
   ]
  },
  {
   "cell_type": "markdown",
   "id": "cd4a9e73",
   "metadata": {
    "papermill": {
     "duration": 0.023591,
     "end_time": "2021-08-05T02:00:05.972890",
     "exception": false,
     "start_time": "2021-08-05T02:00:05.949299",
     "status": "completed"
    },
    "tags": []
   },
   "source": [
    "<hr/>\n",
    "\n",
    "# 4. \n",
    "Alice, Bob and Carol have agreed to pool their Halloween candy and split it evenly among themselves.\n",
    "For the sake of their friendship, any candies left over will be smashed. For example, if they collectively\n",
    "bring home 91 candies, they'll take 30 each and smash 1.\n",
    "\n",
    "Write an arithmetic expression below to calculate how many candies they must smash for a given haul."
   ]
  },
  {
   "cell_type": "code",
   "execution_count": 16,
   "id": "beeb140c",
   "metadata": {
    "execution": {
     "iopub.execute_input": "2021-08-05T02:00:06.041084Z",
     "iopub.status.busy": "2021-08-05T02:00:06.040415Z",
     "iopub.status.idle": "2021-08-05T02:00:06.047454Z",
     "shell.execute_reply": "2021-08-05T02:00:06.046931Z",
     "shell.execute_reply.started": "2021-08-05T01:56:25.863070Z"
    },
    "papermill": {
     "duration": 0.046765,
     "end_time": "2021-08-05T02:00:06.047591",
     "exception": false,
     "start_time": "2021-08-05T02:00:06.000826",
     "status": "completed"
    },
    "tags": []
   },
   "outputs": [
    {
     "data": {
      "application/javascript": [
       "parent.postMessage({\"jupyterEvent\": \"custom.exercise_interaction\", \"data\": {\"outcomeType\": 1, \"valueTowardsCompletion\": 0.25, \"interactionType\": 1, \"questionType\": 1, \"questionId\": \"4_CandySplitting\", \"learnToolsVersion\": \"0.3.4\", \"failureMessage\": \"\", \"exceptionClass\": \"\", \"trace\": \"\"}}, \"*\")"
      ],
      "text/plain": [
       "<IPython.core.display.Javascript object>"
      ]
     },
     "metadata": {},
     "output_type": "display_data"
    },
    {
     "data": {
      "text/markdown": [
       "<span style=\"color:#33cc33\">Correct</span>"
      ],
      "text/plain": [
       "Correct"
      ]
     },
     "metadata": {},
     "output_type": "display_data"
    }
   ],
   "source": [
    "# Variables representing the number of candies collected by alice, bob, and carol\n",
    "alice_candies = 121\n",
    "bob_candies = 77\n",
    "carol_candies = 109\n",
    "\n",
    "# Your code goes here! Replace the right-hand side of this assignment with an expression\n",
    "# involving alice_candies, bob_candies, and carol_candies\n",
    "to_smash = (alice_candies+bob_candies+carol_candies)%3\n",
    "\n",
    "# Check your answer\n",
    "q4.check()"
   ]
  },
  {
   "cell_type": "code",
   "execution_count": 17,
   "id": "da475825",
   "metadata": {
    "execution": {
     "iopub.execute_input": "2021-08-05T02:00:06.106681Z",
     "iopub.status.busy": "2021-08-05T02:00:06.106044Z",
     "iopub.status.idle": "2021-08-05T02:00:06.109100Z",
     "shell.execute_reply": "2021-08-05T02:00:06.109581Z"
    },
    "papermill": {
     "duration": 0.032482,
     "end_time": "2021-08-05T02:00:06.109754",
     "exception": false,
     "start_time": "2021-08-05T02:00:06.077272",
     "status": "completed"
    },
    "tags": []
   },
   "outputs": [],
   "source": [
    "#q4.hint()\n",
    "#q4.solution()"
   ]
  },
  {
   "cell_type": "markdown",
   "id": "54a841e0",
   "metadata": {
    "papermill": {
     "duration": 0.024478,
     "end_time": "2021-08-05T02:00:06.159997",
     "exception": false,
     "start_time": "2021-08-05T02:00:06.135519",
     "status": "completed"
    },
    "tags": []
   },
   "source": [
    "# Keep Going\n",
    "\n",
    "Next up, you'll **[learn to write new functions and understand functions others write](https://www.kaggle.com/colinmorris/functions-and-getting-help)**. This will make you at least 10 times more productive as a Python programmer. "
   ]
  },
  {
   "cell_type": "markdown",
   "id": "511b7310",
   "metadata": {
    "papermill": {
     "duration": 0.024177,
     "end_time": "2021-08-05T02:00:06.208703",
     "exception": false,
     "start_time": "2021-08-05T02:00:06.184526",
     "status": "completed"
    },
    "tags": []
   },
   "source": [
    "---\n",
    "\n",
    "\n",
    "\n",
    "\n",
    "*Have questions or comments? Visit the [Learn Discussion forum](https://www.kaggle.com/learn-forum/161283) to chat with other Learners.*"
   ]
  }
 ],
 "metadata": {
  "kernelspec": {
   "display_name": "Python 3",
   "language": "python",
   "name": "python3"
  },
  "language_info": {
   "codemirror_mode": {
    "name": "ipython",
    "version": 3
   },
   "file_extension": ".py",
   "mimetype": "text/x-python",
   "name": "python",
   "nbconvert_exporter": "python",
   "pygments_lexer": "ipython3",
   "version": "3.7.10"
  },
  "papermill": {
   "default_parameters": {},
   "duration": 9.254603,
   "end_time": "2021-08-05T02:00:06.843532",
   "environment_variables": {},
   "exception": null,
   "input_path": "__notebook__.ipynb",
   "output_path": "__notebook__.ipynb",
   "parameters": {},
   "start_time": "2021-08-05T01:59:57.588929",
   "version": "2.3.3"
  }
 },
 "nbformat": 4,
 "nbformat_minor": 5
}
